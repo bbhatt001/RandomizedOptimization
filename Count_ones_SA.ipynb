{
 "cells": [
  {
   "cell_type": "code",
   "execution_count": 2,
   "metadata": {},
   "outputs": [],
   "source": [
    "# mlrose dependency workaround: https://stackoverflow.com/a/62354885\n",
    "import six\n",
    "import sys\n",
    "sys.modules['sklearn.externals.six'] = six\n",
    "\n",
    "from dataclasses import dataclass\n",
    "from matplotlib import pyplot as plt\n",
    "import mlrose\n",
    "import multiprocessing as mp\n",
    "import numpy as np\n",
    "import pandas as pd\n",
    "import time\n",
    "from typing import Iterable\n",
    "\n",
    "random_state = 42"
   ]
  },
  {
   "cell_type": "code",
   "execution_count": 3,
   "metadata": {},
   "outputs": [],
   "source": [
    "class Fitness(object):\n",
    "    def __init__(self, fitness):\n",
    "        self.fitness = fitness\n",
    "        self.count_calls = 0\n",
    "    def evaluate(self, state):\n",
    "        self.count_calls += 1\n",
    "        return self.fitness.evaluate(state)\n",
    "    def get_prob_type(self):\n",
    "        return self.fitness.get_prob_type()\n",
    "    \n",
    "@dataclass\n",
    "class RunResult:\n",
    "    time: float\n",
    "    num_calls: int\n",
    "    score: float\n",
    "    best: Iterable = None\n",
    "    curve: Iterable = None\n",
    "    \n",
    "    \n",
    "def run_helper(args):\n",
    "    runner, alg, kwargs = args\n",
    "    return runner.run(alg, **kwargs) \n",
    "\n",
    "class Runner(object):\n",
    "    def __init__(self, fitness, size):\n",
    "        self.fitness = Fitness(fitness)\n",
    "        self.size = size\n",
    "        self.problem = mlrose.DiscreteOpt(size, self.fitness)\n",
    "        \n",
    "    def run(self, alg, **kwargs):\n",
    "        self.fitness.count_calls = 0\n",
    "        start = time.time()\n",
    "        best, score, curve = alg(self.problem, curve=True, **kwargs)\n",
    "        end = time.time()\n",
    "        return RunResult(time=end-start, num_calls=self.fitness.count_calls, best=best,\n",
    "                         score=score, curve=curve)\n",
    "    \n",
    "    def run_agg(self, alg, count=20, **kwargs):\n",
    "        results = [self.run(alg, **kwargs) for _ in range(count)]\n",
    "        #pool = mp.Pool()\n",
    "        #results = pool.map(run_helper, [(self, alg, kwargs)] * count)\n",
    "        times = [res.time for res in results]\n",
    "        calls = [res.num_calls for res in results]\n",
    "        scores = [res.score for res in results]\n",
    "        med_idx = scores.index(np.percentile(scores,50,interpolation='nearest'))\n",
    "        return RunResult(time=np.median(times), num_calls=np.median(calls), score=scores[med_idx],\n",
    "                         best=results[med_idx].best, curve=results[med_idx].curve)\n"
   ]
  },
  {
   "cell_type": "code",
   "execution_count": 5,
   "metadata": {},
   "outputs": [
    {
     "name": "stdout",
     "output_type": "stream",
     "text": [
      "10\n",
      "50\n",
      "100\n",
      "150\n"
     ]
    }
   ],
   "source": [
    "#checking problem size with default settings of random optimization algorithms\n",
    "rhcs, sas, gas = [], [], []\n",
    "for prob_size in [10, 50, 100, 150]:\n",
    "    runner = Runner(mlrose.OneMax(), prob_size)\n",
    "    print(prob_size)\n",
    "    rhcs.append(runner.run_agg(mlrose.random_hill_climb, restarts=10))\n",
    "    sas.append(runner.run_agg(mlrose.simulated_annealing))\n",
    "    gas.append(runner.run_agg(mlrose.genetic_alg, pop_size=200, mutation_prob=0.1))\n",
    "    "
   ]
  },
  {
   "cell_type": "code",
   "execution_count": 6,
   "metadata": {},
   "outputs": [
    {
     "data": {
      "text/plain": [
       "([RunResult(time=0.007935643196105957, num_calls=305.0, score=10.0, best=array([1, 1, 1, 1, 1, 1, 1, 1, 1, 1]), curve=array([ 5.,  5.,  5.,  6.,  7.,  8.,  9.,  9.,  9., 10., 10., 10., 10.,\n",
       "         10., 10., 10., 10., 10., 10., 10.,  9.,  9.,  9.,  9.,  9.,  9.,\n",
       "          9.,  9.,  9.,  9.,  3.,  4.,  4.,  5.,  6.,  6.,  6.,  6.,  7.,\n",
       "          7.,  7.,  7.,  7.,  7.,  7.,  7.,  7.,  7.,  8.,  8.,  8.,  8.,\n",
       "          8.,  8.,  9.,  9.,  9.,  9.,  9.,  9., 10., 10., 10., 10., 10.,\n",
       "         10., 10., 10., 10., 10., 10.,  7.,  7.,  7.,  7.,  7.,  7.,  7.,\n",
       "          7.,  7.,  7.,  8.,  8.,  8.,  8.,  8.,  9.,  9., 10., 10., 10.,\n",
       "         10., 10., 10., 10., 10., 10., 10., 10.,  4.,  5.,  6.,  6.,  6.,\n",
       "          6.,  6.,  6.,  6.,  6.,  6.,  6.,  6.,  4.,  5.,  6.,  6.,  7.,\n",
       "          8.,  8.,  8.,  9.,  9.,  9.,  9.,  9.,  9.,  9., 10., 10., 10.,\n",
       "         10., 10., 10., 10., 10., 10., 10., 10.,  6.,  6.,  6.,  6.,  6.,\n",
       "          7.,  7.,  7.,  7.,  8.,  8.,  8.,  8.,  8.,  8.,  8.,  8.,  8.,\n",
       "          9.,  9.,  9.,  9.,  9., 10., 10., 10., 10., 10., 10., 10., 10.,\n",
       "         10., 10., 10.,  8.,  8.,  8.,  8.,  9.,  9.,  9.,  9.,  9.,  9.,\n",
       "          9.,  9.,  9.,  9., 10., 10., 10., 10., 10., 10., 10., 10., 10.,\n",
       "         10., 10.,  7.,  8.,  8.,  9.,  9., 10., 10., 10., 10., 10., 10.,\n",
       "         10., 10., 10., 10., 10.,  4.,  4.,  4.,  4.,  4.,  5.,  5.,  6.,\n",
       "          7.,  7.,  7.,  8.,  8.,  8.,  8.,  9.,  9.,  9.,  9.,  9.,  9.,\n",
       "         10., 10., 10., 10., 10., 10., 10., 10., 10., 10., 10.,  8.,  9.,\n",
       "          9.,  9.,  9.,  9.,  9.,  9.,  9.,  9.,  9.,  9.])),\n",
       "  RunResult(time=0.02137577533721924, num_calls=853.5, score=47.0, best=array([1, 1, 1, 0, 1, 1, 1, 1, 1, 1, 1, 1, 1, 1, 1, 1, 1, 1, 1, 1, 1, 1,\n",
       "         1, 1, 1, 1, 0, 1, 1, 1, 1, 1, 1, 1, 1, 1, 1, 1, 1, 1, 1, 0, 1, 1,\n",
       "         1, 1, 1, 1, 1, 1]), curve=array([24., 25., 25., 26., 27., 28., 29., 29., 29., 30., 31., 32., 32.,\n",
       "         32., 32., 33., 33., 33., 33., 33., 33., 33., 33., 33., 34., 35.,\n",
       "         35., 35., 35., 35., 35., 35., 35., 35., 36., 36., 36., 36., 36.,\n",
       "         36., 36., 37., 37., 37., 37., 37., 38., 38., 38., 38., 38., 38.,\n",
       "         39., 40., 40., 40., 40., 40., 40., 40., 40., 40., 41., 41., 41.,\n",
       "         41., 41., 41., 41., 41., 41., 41., 41., 18., 19., 20., 21., 22.,\n",
       "         22., 23., 23., 23., 23., 24., 24., 25., 25., 26., 27., 28., 29.,\n",
       "         29., 29., 30., 31., 31., 32., 32., 33., 33., 33., 33., 33., 34.,\n",
       "         34., 34., 34., 35., 35., 35., 35., 35., 35., 36., 36., 37., 37.,\n",
       "         37., 37., 38., 39., 39., 39., 39., 40., 40., 41., 41., 42., 42.,\n",
       "         42., 42., 43., 43., 43., 43., 43., 43., 43., 43., 43., 43., 43.,\n",
       "         24., 25., 26., 27., 28., 29., 30., 30., 31., 31., 31., 31., 31.,\n",
       "         31., 32., 33., 34., 34., 34., 34., 35., 36., 36., 36., 36., 36.,\n",
       "         37., 37., 38., 38., 38., 38., 38., 38., 38., 38., 39., 39., 39.,\n",
       "         39., 39., 39., 39., 39., 39., 40., 40., 41., 41., 42., 42., 42.,\n",
       "         42., 42., 43., 44., 44., 44., 44., 45., 45., 45., 45., 45., 45.,\n",
       "         45., 46., 46., 46., 46., 46., 46., 46., 46., 46., 46., 46., 25.,\n",
       "         26., 26., 26., 27., 28., 29., 30., 30., 30., 30., 30., 30., 30.,\n",
       "         30., 31., 31., 31., 32., 32., 32., 32., 32., 32., 32., 32., 32.,\n",
       "         32., 33., 33., 34., 35., 36., 37., 37., 37., 37., 37., 38., 39.,\n",
       "         40., 41., 41., 41., 41., 41., 41., 42., 42., 42., 42., 42., 42.,\n",
       "         42., 42., 42., 42., 42., 21., 21., 22., 23., 24., 25., 25., 26.,\n",
       "         26., 27., 27., 27., 28., 28., 28., 29., 29., 30., 30., 30., 31.,\n",
       "         32., 32., 33., 33., 33., 34., 35., 35., 35., 35., 35., 36., 36.,\n",
       "         36., 36., 36., 36., 36., 36., 36., 36., 37., 37., 37., 37., 37.,\n",
       "         37., 37., 37., 37., 37., 37., 28., 29., 29., 29., 30., 30., 30.,\n",
       "         30., 30., 31., 31., 31., 31., 31., 31., 31., 32., 33., 33., 34.,\n",
       "         35., 36., 36., 36., 36., 36., 36., 36., 37., 37., 38., 38., 38.,\n",
       "         38., 38., 38., 38., 39., 39., 40., 41., 41., 41., 41., 41., 41.,\n",
       "         41., 42., 42., 43., 43., 43., 43., 43., 43., 43., 43., 44., 44.,\n",
       "         45., 45., 45., 45., 45., 46., 46., 46., 46., 46., 47., 47., 47.,\n",
       "         47., 47., 47., 47., 47., 47., 47., 47., 30., 30., 30., 30., 31.,\n",
       "         31., 32., 33., 34., 34., 34., 35., 35., 36., 36., 36., 36., 36.,\n",
       "         36., 37., 37., 37., 37., 37., 37., 38., 38., 39., 39., 39., 39.,\n",
       "         39., 39., 39., 40., 40., 40., 40., 40., 40., 40., 40., 40., 40.,\n",
       "         40., 28., 29., 30., 31., 31., 31., 32., 32., 32., 32., 33., 33.,\n",
       "         33., 33., 33., 33., 33., 33., 33., 34., 35., 36., 37., 37., 38.,\n",
       "         39., 39., 40., 40., 40., 41., 41., 42., 42., 42., 42., 42., 42.,\n",
       "         42., 42., 42., 42., 42., 30., 30., 30., 30., 31., 32., 33., 34.,\n",
       "         35., 35., 35., 35., 36., 37., 37., 37., 37., 37., 37., 37., 37.,\n",
       "         37., 38., 38., 38., 39., 39., 40., 40., 40., 40., 40., 40., 40.,\n",
       "         40., 40., 40., 41., 41., 41., 41., 41., 41., 41., 42., 42., 42.,\n",
       "         42., 42., 42., 43., 43., 43., 43., 43., 43., 43., 43., 43., 43.,\n",
       "         44., 44., 44., 44., 44., 44., 45., 45., 45., 46., 46., 46., 46.,\n",
       "         46., 46., 46., 46., 46., 46., 46., 29., 29., 30., 30., 31., 31.,\n",
       "         31., 31., 31., 31., 31., 32., 33., 33., 33., 33., 33., 33., 33.,\n",
       "         33., 33., 33., 33., 29., 29., 29., 30., 31., 32., 33., 33., 33.,\n",
       "         33., 33., 33., 34., 34., 34., 34., 34., 34., 34., 34., 34., 34.,\n",
       "         34.])),\n",
       "  RunResult(time=0.02833247184753418, num_calls=1293.5, score=91.0, best=array([1, 1, 1, 1, 1, 1, 1, 1, 0, 0, 1, 1, 1, 0, 1, 1, 1, 1, 1, 1, 1, 1,\n",
       "         1, 1, 1, 1, 1, 1, 1, 1, 0, 1, 1, 1, 1, 1, 1, 1, 1, 1, 1, 1, 1, 1,\n",
       "         1, 1, 1, 1, 1, 1, 1, 1, 0, 1, 1, 0, 1, 0, 1, 1, 1, 1, 1, 1, 1, 1,\n",
       "         1, 1, 1, 1, 1, 1, 1, 1, 1, 1, 1, 1, 1, 1, 1, 1, 1, 1, 1, 0, 1, 1,\n",
       "         1, 1, 1, 1, 1, 1, 0, 1, 1, 1, 1, 1]), curve=array([49., 50., 50., 51., 51., 52., 53., 53., 54., 55., 55., 55., 55.,\n",
       "         56., 56., 56., 56., 56., 57., 57., 57., 57., 57., 58., 58., 59.,\n",
       "         60., 61., 61., 61., 61., 61., 61., 61., 62., 62., 63., 63., 64.,\n",
       "         64., 65., 65., 66., 66., 66., 67., 67., 67., 68., 68., 69., 69.,\n",
       "         70., 70., 70., 70., 70., 70., 70., 71., 72., 73., 74., 74., 74.,\n",
       "         74., 74., 75., 75., 76., 76., 76., 76., 76., 76., 76., 77., 77.,\n",
       "         78., 78., 78., 79., 79., 80., 80., 80., 80., 81., 81., 81., 81.,\n",
       "         82., 82., 82., 82., 82., 82., 82., 82., 82., 82., 82., 62., 62.,\n",
       "         62., 63., 64., 64., 64., 64., 65., 65., 66., 67., 68., 68., 68.,\n",
       "         69., 69., 70., 70., 71., 71., 72., 72., 72., 72., 72., 73., 73.,\n",
       "         73., 73., 74., 74., 74., 74., 74., 74., 75., 75., 75., 75., 76.,\n",
       "         76., 76., 76., 77., 77., 77., 77., 77., 78., 78., 78., 78., 78.,\n",
       "         78., 78., 78., 78., 78., 78., 53., 53., 53., 53., 53., 53., 54.,\n",
       "         55., 56., 57., 58., 58., 58., 58., 58., 59., 60., 60., 61., 61.,\n",
       "         61., 61., 62., 63., 64., 64., 64., 65., 66., 67., 67., 67., 67.,\n",
       "         67., 67., 67., 67., 68., 68., 68., 69., 70., 70., 70., 70., 70.,\n",
       "         70., 70., 70., 70., 71., 72., 72., 73., 73., 73., 73., 73., 74.,\n",
       "         74., 75., 75., 75., 75., 75., 76., 76., 77., 77., 78., 78., 78.,\n",
       "         78., 78., 78., 78., 79., 79., 79., 79., 79., 79., 80., 80., 80.,\n",
       "         80., 80., 80., 80., 80., 80., 80., 81., 81., 81., 81., 81., 81.,\n",
       "         81., 81., 81., 81., 82., 83., 83., 83., 83., 83., 83., 83., 84.,\n",
       "         84., 84., 84., 85., 85., 85., 86., 87., 87., 87., 87., 87., 88.,\n",
       "         88., 89., 89., 89., 89., 90., 90., 90., 90., 90., 90., 90., 90.,\n",
       "         90., 91., 91., 91., 91., 91., 91., 91., 91., 91., 91., 91., 50.,\n",
       "         51., 51., 51., 52., 53., 53., 53., 53., 54., 54., 54., 55., 55.,\n",
       "         56., 57., 57., 57., 57., 58., 59., 60., 60., 61., 62., 62., 63.,\n",
       "         63., 63., 64., 64., 64., 64., 65., 66., 67., 68., 68., 68., 69.,\n",
       "         69., 69., 70., 70., 70., 70., 71., 72., 72., 72., 72., 72., 73.,\n",
       "         74., 74., 74., 74., 74., 75., 76., 76., 77., 77., 78., 78., 78.,\n",
       "         79., 79., 80., 80., 80., 80., 80., 81., 81., 81., 81., 82., 82.,\n",
       "         82., 82., 82., 82., 82., 82., 82., 82., 82., 57., 58., 59., 60.,\n",
       "         60., 60., 60., 60., 60., 60., 61., 62., 62., 62., 62., 62., 63.,\n",
       "         63., 63., 63., 63., 64., 65., 65., 65., 66., 67., 68., 68., 68.,\n",
       "         68., 68., 68., 68., 68., 69., 69., 69., 69., 70., 70., 70., 71.,\n",
       "         71., 71., 72., 72., 72., 72., 72., 72., 72., 72., 73., 73., 73.,\n",
       "         74., 74., 74., 74., 74., 75., 75., 75., 76., 76., 76., 76., 76.,\n",
       "         76., 76., 76., 76., 77., 78., 78., 78., 78., 78., 78., 79., 79.,\n",
       "         79., 80., 80., 80., 80., 80., 81., 81., 82., 82., 83., 83., 83.,\n",
       "         83., 83., 83., 83., 83., 83., 84., 84., 84., 84., 84., 84., 84.,\n",
       "         84., 84., 84., 84., 54., 54., 54., 54., 54., 55., 56., 57., 57.,\n",
       "         57., 58., 58., 58., 59., 60., 60., 60., 60., 60., 61., 61., 61.,\n",
       "         61., 61., 61., 61., 61., 62., 63., 64., 64., 65., 66., 66., 66.,\n",
       "         66., 66., 67., 67., 67., 67., 68., 68., 68., 68., 69., 69., 70.,\n",
       "         71., 71., 72., 73., 73., 73., 73., 73., 73., 74., 74., 75., 75.,\n",
       "         75., 75., 75., 76., 76., 76., 77., 77., 77., 77., 77., 77., 77.,\n",
       "         77., 77., 77., 77., 53., 53., 54., 54., 55., 56., 56., 56., 57.,\n",
       "         57., 57., 57., 58., 58., 58., 58., 59., 59., 59., 59., 60., 60.,\n",
       "         61., 61., 61., 61., 62., 62., 62., 63., 63., 63., 63., 64., 64.,\n",
       "         65., 65., 65., 65., 65., 66., 67., 68., 68., 69., 69., 69., 69.,\n",
       "         69., 70., 71., 71., 72., 72., 72., 72., 72., 72., 73., 73., 73.,\n",
       "         74., 75., 76., 76., 76., 76., 76., 76., 76., 76., 76., 76., 76.,\n",
       "         53., 53., 54., 55., 56., 57., 58., 58., 58., 59., 59., 60., 60.,\n",
       "         61., 62., 62., 63., 63., 63., 63., 64., 65., 66., 67., 67., 67.,\n",
       "         67., 67., 67., 67., 67., 68., 69., 70., 71., 71., 71., 71., 71.,\n",
       "         72., 72., 73., 74., 74., 74., 74., 74., 75., 75., 75., 75., 75.,\n",
       "         75., 76., 76., 76., 76., 76., 76., 76., 77., 77., 77., 77., 78.,\n",
       "         78., 78., 78., 78., 78., 78., 79., 79., 79., 80., 80., 80., 80.,\n",
       "         81., 81., 81., 81., 81., 81., 81., 82., 82., 82., 82., 82., 82.,\n",
       "         83., 84., 85., 85., 85., 86., 86., 86., 86., 86., 86., 86., 86.,\n",
       "         86., 86., 86., 47., 47., 48., 48., 48., 49., 50., 51., 51., 51.,\n",
       "         51., 51., 51., 51., 52., 52., 52., 53., 54., 54., 54., 55., 56.,\n",
       "         56., 57., 58., 58., 58., 59., 59., 60., 61., 61., 61., 61., 61.,\n",
       "         61., 62., 62., 63., 63., 63., 64., 64., 64., 65., 65., 66., 67.,\n",
       "         67., 67., 68., 68., 69., 70., 71., 72., 72., 72., 72., 72., 72.,\n",
       "         72., 72., 72., 72., 72., 53., 54., 55., 56., 57., 58., 58., 58.,\n",
       "         59., 60., 61., 62., 62., 62., 63., 63., 63., 64., 64., 64., 64.,\n",
       "         64., 65., 65., 65., 65., 65., 66., 66., 66., 66., 66., 67., 68.,\n",
       "         68., 68., 69., 69., 70., 70., 71., 71., 71., 71., 71., 71., 72.,\n",
       "         72., 72., 73., 74., 74., 74., 74., 75., 76., 76., 76., 76., 76.,\n",
       "         77., 77., 77., 77., 78., 78., 78., 78., 78., 78., 78., 78., 78.,\n",
       "         78., 78., 48., 49., 49., 49., 50., 51., 52., 52., 53., 54., 55.,\n",
       "         55., 55., 55., 55., 55., 56., 56., 56., 56., 56., 57., 58., 58.,\n",
       "         58., 58., 58., 58., 59., 59., 59., 59., 59., 60., 61., 62., 63.,\n",
       "         63., 63., 64., 64., 64., 65., 65., 65., 66., 66., 66., 67., 67.,\n",
       "         67., 67., 68., 69., 70., 70., 70., 71., 71., 71., 71., 71., 71.,\n",
       "         71., 72., 72., 72., 72., 72., 72., 72., 72., 72., 72., 72.])),\n",
       "  RunResult(time=0.03837299346923828, num_calls=1582.5, score=130.0, best=array([1, 1, 0, 1, 1, 0, 1, 1, 1, 0, 1, 1, 0, 1, 1, 1, 0, 0, 1, 1, 1, 1,\n",
       "         1, 1, 1, 1, 1, 0, 1, 1, 1, 1, 1, 1, 1, 1, 0, 1, 1, 1, 1, 1, 0, 1,\n",
       "         1, 1, 1, 1, 1, 1, 1, 1, 1, 1, 1, 1, 1, 1, 1, 1, 0, 1, 1, 1, 1, 1,\n",
       "         1, 1, 1, 1, 1, 1, 1, 1, 1, 0, 1, 1, 1, 1, 1, 1, 1, 1, 0, 1, 0, 1,\n",
       "         1, 1, 1, 0, 1, 1, 1, 1, 1, 1, 1, 1, 1, 1, 1, 1, 1, 1, 1, 1, 0, 1,\n",
       "         0, 1, 1, 0, 1, 1, 1, 1, 1, 1, 1, 1, 1, 1, 1, 1, 0, 1, 1, 1, 1, 1,\n",
       "         1, 1, 1, 1, 0, 1, 1, 1, 0, 1, 1, 1, 1, 1, 1, 1, 1, 1]), curve=array([ 72.,  72.,  73., ..., 123., 123., 123.]))],\n",
       " [RunResult(time=0.0033069849014282227, num_calls=112.5, score=9.0, best=array([1, 1, 1, 1, 1, 1, 1, 0, 1, 1]), curve=array([ 4.,  5.,  5.,  6.,  7.,  8.,  8.,  9.,  9.,  8.,  9.,  8.,  8.,\n",
       "          8.,  9.,  9.,  9.,  9.,  8.,  8.,  8.,  8.,  8.,  8.,  8.,  9.,\n",
       "          9.,  9., 10., 10.,  9.,  9.,  9.,  9.,  9.,  9., 10.,  9.,  9.,\n",
       "          9.,  9.,  9.,  8.,  8.,  8.,  7.,  7.,  8.,  8.,  9.,  9.,  9.,\n",
       "          9.,  9.,  9.,  9.,  9.,  9.,  9.,  9.])),\n",
       "  RunResult(time=0.0041713714599609375, num_calls=157.0, score=45.0, best=array([1, 1, 1, 1, 1, 1, 0, 1, 0, 1, 1, 1, 1, 1, 1, 1, 1, 1, 1, 0, 1, 1,\n",
       "         1, 1, 1, 1, 1, 1, 1, 1, 1, 1, 1, 1, 1, 1, 1, 1, 0, 1, 1, 1, 1, 0,\n",
       "         1, 1, 1, 1, 1, 1]), curve=array([31., 32., 32., 33., 34., 34., 34., 33., 34., 33., 33., 34., 34.,\n",
       "         35., 34., 34., 34., 34., 33., 32., 32., 33., 34., 34., 34., 33.,\n",
       "         34., 35., 35., 34., 35., 35., 35., 35., 36., 37., 37., 38., 39.,\n",
       "         38., 37., 37., 37., 37., 38., 37., 38., 38., 37., 37., 36., 36.,\n",
       "         37., 38., 38., 38., 38., 38., 39., 40., 40., 40., 40., 40., 39.,\n",
       "         39., 39., 39., 39., 39., 39., 39., 39., 40., 40., 39., 40., 40.,\n",
       "         40., 40., 40., 40., 39., 39., 39., 40., 40., 39., 39., 40., 40.,\n",
       "         41., 41., 42., 42., 42., 42., 42., 43., 43., 43., 43., 44., 44.,\n",
       "         44., 45., 45., 45., 45., 45., 45., 45., 45., 45., 45., 45.])),\n",
       "  RunResult(time=0.004904627799987793, num_calls=186.0, score=81.0, best=array([0, 1, 1, 1, 0, 1, 1, 1, 1, 1, 1, 1, 1, 1, 0, 0, 1, 1, 1, 1, 0, 1,\n",
       "         1, 1, 1, 0, 0, 1, 1, 1, 0, 1, 0, 1, 0, 1, 1, 1, 1, 1, 1, 1, 0, 1,\n",
       "         0, 1, 1, 1, 1, 1, 1, 1, 1, 1, 1, 1, 1, 1, 1, 1, 1, 0, 1, 1, 1, 1,\n",
       "         1, 1, 1, 1, 1, 1, 1, 0, 1, 1, 1, 1, 1, 1, 0, 0, 1, 1, 1, 1, 1, 1,\n",
       "         1, 1, 0, 1, 1, 1, 0, 1, 1, 0, 1, 1]), curve=array([48., 48., 49., 50., 51., 51., 50., 51., 51., 51., 52., 52., 52.,\n",
       "         53., 54., 54., 54., 54., 54., 55., 54., 54., 55., 56., 57., 56.,\n",
       "         56., 55., 54., 54., 55., 56., 56., 57., 57., 57., 57., 57., 57.,\n",
       "         56., 57., 57., 57., 58., 58., 58., 58., 57., 58., 59., 59., 59.,\n",
       "         60., 61., 61., 61., 61., 61., 61., 61., 61., 62., 62., 62., 62.,\n",
       "         62., 63., 62., 61., 62., 63., 64., 64., 65., 66., 67., 67., 68.,\n",
       "         69., 69., 69., 69., 68., 68., 68., 68., 68., 69., 69., 70., 71.,\n",
       "         71., 72., 73., 73., 73., 73., 74., 74., 74., 75., 76., 77., 77.,\n",
       "         77., 77., 77., 77., 77., 78., 78., 78., 78., 78., 79., 79., 79.,\n",
       "         80., 80., 80., 81., 81., 81., 81., 81., 81., 81., 81., 81., 81.,\n",
       "         81.])),\n",
       "  RunResult(time=0.0070345401763916016, num_calls=227.0, score=119.0, best=array([1, 1, 1, 0, 0, 1, 1, 1, 0, 0, 1, 1, 1, 0, 1, 0, 1, 1, 1, 1, 1, 0,\n",
       "         1, 1, 1, 0, 1, 1, 0, 1, 1, 1, 1, 1, 1, 1, 1, 1, 1, 1, 1, 1, 1, 0,\n",
       "         0, 1, 1, 0, 1, 1, 1, 1, 1, 1, 1, 1, 1, 0, 1, 1, 1, 1, 0, 1, 1, 1,\n",
       "         1, 0, 1, 1, 1, 1, 1, 1, 1, 1, 0, 1, 1, 1, 1, 1, 1, 1, 1, 1, 1, 1,\n",
       "         0, 1, 1, 1, 1, 1, 1, 1, 0, 0, 1, 1, 1, 1, 0, 1, 1, 1, 0, 0, 1, 1,\n",
       "         1, 1, 1, 1, 1, 0, 1, 0, 1, 0, 0, 1, 1, 1, 1, 1, 1, 1, 1, 1, 1, 0,\n",
       "         1, 1, 1, 1, 1, 1, 1, 1, 1, 0, 1, 0, 1, 0, 1, 1, 1, 0]), curve=array([ 78.,  77.,  78.,  79.,  80.,  80.,  81.,  80.,  81.,  82.,  83.,\n",
       "          83.,  84.,  85.,  86.,  86.,  87.,  87.,  87.,  88.,  88.,  88.,\n",
       "          87.,  87.,  88.,  89.,  89.,  88.,  89.,  90.,  90.,  91.,  91.,\n",
       "          90.,  90.,  90.,  90.,  91.,  92.,  93.,  94.,  94.,  94.,  94.,\n",
       "          94.,  94.,  94.,  93.,  93.,  92.,  93.,  94.,  94.,  95.,  95.,\n",
       "          95.,  95.,  95.,  95.,  95.,  95.,  96.,  97.,  97.,  98.,  98.,\n",
       "          97.,  97.,  98.,  99., 100., 100., 100., 100., 100., 100., 100.,\n",
       "         101., 101., 100.,  99.,  99.,  99.,  99., 100., 100., 100., 100.,\n",
       "         101., 101., 102., 103., 102., 102., 103., 104., 104., 104., 104.,\n",
       "         104., 104., 104., 105., 105., 105., 105., 105., 105., 105., 105.,\n",
       "         105., 106., 106., 107., 107., 107., 107., 108., 108., 108., 109.,\n",
       "         109., 109., 109., 109., 109., 110., 110., 111., 111., 111., 111.,\n",
       "         111., 111., 112., 112., 112., 112., 112., 113., 113., 113., 113.,\n",
       "         113., 113., 114., 114., 114., 114., 114., 114., 115., 116., 116.,\n",
       "         116., 116., 116., 116., 116., 116., 116., 116., 117., 117., 117.,\n",
       "         117., 117., 118., 118., 119., 119., 119., 119., 119., 119., 119.,\n",
       "         119., 119., 119., 119.]))],\n",
       " [RunResult(time=0.2604508399963379, num_calls=2816.0, score=10.0, best=array([1, 1, 1, 1, 1, 1, 1, 1, 1, 1]), curve=array([ 9.,  9., 10., 10., 10., 10., 10., 10., 10., 10., 10., 10., 10.])),\n",
       "  RunResult(time=0.3923400640487671, num_calls=3621.5, score=38.0, best=array([1, 1, 1, 1, 0, 1, 1, 1, 1, 1, 1, 1, 1, 1, 0, 0, 0, 0, 1, 1, 1, 1,\n",
       "         0, 0, 1, 0, 0, 1, 1, 0, 1, 0, 1, 1, 1, 1, 1, 1, 1, 1, 1, 1, 1, 1,\n",
       "         0, 1, 1, 1, 1, 1]), curve=array([36., 38., 38., 38., 38., 38., 38., 38., 38., 38., 38., 38.])),\n",
       "  RunResult(time=0.4160451889038086, num_calls=3219.5, score=69.0, best=array([1, 1, 1, 1, 1, 0, 0, 1, 1, 0, 1, 1, 1, 1, 0, 0, 0, 1, 1, 1, 1, 1,\n",
       "         1, 1, 0, 1, 0, 0, 1, 1, 1, 1, 1, 1, 0, 1, 1, 0, 0, 1, 1, 1, 1, 1,\n",
       "         0, 0, 0, 1, 1, 1, 0, 1, 1, 0, 0, 1, 0, 1, 0, 1, 1, 0, 1, 1, 1, 1,\n",
       "         1, 1, 0, 1, 1, 1, 1, 1, 1, 1, 1, 0, 1, 1, 1, 0, 1, 0, 0, 0, 0, 1,\n",
       "         1, 1, 1, 1, 0, 1, 0, 1, 0, 1, 1, 1]), curve=array([63., 67., 67., 67., 67., 69., 69., 69., 69., 69., 69., 69., 69.,\n",
       "         69., 69., 69.])),\n",
       "  RunResult(time=0.5139484405517578, num_calls=3521.0, score=98.0, best=array([0, 1, 1, 1, 0, 0, 1, 0, 1, 1, 0, 1, 1, 1, 1, 1, 0, 0, 1, 1, 0, 1,\n",
       "         1, 1, 1, 1, 1, 1, 0, 1, 0, 1, 1, 1, 1, 1, 0, 1, 1, 0, 0, 0, 1, 1,\n",
       "         1, 1, 0, 0, 0, 1, 0, 1, 1, 1, 0, 0, 1, 0, 0, 1, 1, 1, 0, 1, 1, 1,\n",
       "         1, 1, 1, 0, 1, 1, 1, 1, 1, 0, 0, 0, 0, 1, 0, 1, 0, 1, 1, 1, 0, 0,\n",
       "         1, 1, 0, 1, 1, 1, 1, 0, 1, 0, 1, 1, 0, 0, 0, 1, 0, 1, 1, 1, 1, 1,\n",
       "         1, 1, 0, 1, 1, 1, 1, 1, 1, 1, 0, 0, 0, 1, 1, 1, 0, 0, 1, 1, 0, 0,\n",
       "         1, 1, 1, 1, 1, 1, 1, 0, 0, 0, 1, 0, 1, 1, 1, 1, 0, 1]), curve=array([89., 98., 98., 98., 98., 98., 98., 98., 98., 98., 98., 98.]))])"
      ]
     },
     "execution_count": 6,
     "metadata": {},
     "output_type": "execute_result"
    }
   ],
   "source": [
    "rhcs, sas, gas"
   ]
  },
  {
   "cell_type": "code",
   "execution_count": 7,
   "metadata": {},
   "outputs": [
    {
     "name": "stdout",
     "output_type": "stream",
     "text": [
      "10\n",
      "50\n",
      "100\n",
      "150\n"
     ]
    }
   ],
   "source": [
    "mim = []\n",
    "for prob_size in [10, 50, 100, 150]:\n",
    "    runner = Runner(mlrose.FourPeaks(), prob_size)\n",
    "    print(prob_size)\n",
    "    #rhcs.append(runner.run_agg(mlrose.random_hill_climb, restarts=10))\n",
    "    #sas.append(runner.run_agg(mlrose.simulated_annealing))\n",
    "    #gas.append(runner.run_agg(mlrose.genetic_alg, pop_size=200, mutation_prob=0.1))\n",
    "    mim.append(runner.run_agg(mlrose.mimic, pop_size=200))"
   ]
  },
  {
   "cell_type": "code",
   "execution_count": 8,
   "metadata": {},
   "outputs": [],
   "source": [
    "#fitness values\n",
    "rhc_score = [rhc.score for rhc in rhcs]\n",
    "sas_score =[saas.score for saas in sas ]\n",
    "gas_score =[gaas.score for gaas in gas ]\n",
    "mim_score =[mimi.score for mimi in mim ]"
   ]
  },
  {
   "cell_type": "code",
   "execution_count": 9,
   "metadata": {},
   "outputs": [],
   "source": [
    "problem_size=[10,50,100,150]"
   ]
  },
  {
   "cell_type": "code",
   "execution_count": 11,
   "metadata": {},
   "outputs": [
    {
     "data": {
      "text/plain": [
       "<matplotlib.legend.Legend at 0x1216912d0>"
      ]
     },
     "execution_count": 11,
     "metadata": {},
     "output_type": "execute_result"
    },
    {
     "data": {
      "image/png": "[encoded data removed]",
      "text/plain": [
       "<Figure size 360x216 with 1 Axes>"
      ]
     },
     "metadata": {
      "needs_background": "light"
     },
     "output_type": "display_data"
    }
   ],
   "source": [
    "plt.figure(figsize=(5,3))\n",
    "plt.plot(problem_size,rhc_score, 'o-',color='r', label='RH')\n",
    "plt.plot(problem_size,sas_score, 'o-',color='b', label='SA')\n",
    "plt.plot(problem_size,gas_score, 'o-',color='k', label='GA')\n",
    "plt.plot(problem_size,mim_score, 'o-',color='g', label='MIMIC')\n",
    "plt.ylabel('Fitness value',fontsize=12)\n",
    "plt.xlabel('Problem size',fontsize=12)\n",
    "plt.legend(loc='best',fontsize=10)"
   ]
  },
  {
   "cell_type": "code",
   "execution_count": null,
   "metadata": {},
   "outputs": [],
   "source": [
    "#number of function calls"
   ]
  },
  {
   "cell_type": "code",
   "execution_count": 12,
   "metadata": {},
   "outputs": [],
   "source": [
    "rhc_num_calls = [rhc.num_calls for rhc in rhcs]\n",
    "sas_num_calls =[saas.num_calls for saas in sas ]\n",
    "gas_num_calls =[gaas.num_calls for gaas in gas ]\n",
    "mim_num_calls =[mimi.num_calls for mimi in mim ]"
   ]
  },
  {
   "cell_type": "code",
   "execution_count": 13,
   "metadata": {},
   "outputs": [
    {
     "data": {
      "text/plain": [
       "<matplotlib.legend.Legend at 0x1216b1190>"
      ]
     },
     "execution_count": 13,
     "metadata": {},
     "output_type": "execute_result"
    },
    {
     "data": {
      "image/png": "[encoded data removed]",
      "text/plain": [
       "<Figure size 360x216 with 1 Axes>"
      ]
     },
     "metadata": {
      "needs_background": "light"
     },
     "output_type": "display_data"
    }
   ],
   "source": [
    "plt.figure(figsize=(5,3))\n",
    "plt.plot(problem_size,rhc_num_calls, 'o-', color='r', label='RH')\n",
    "plt.plot(problem_size,sas_num_calls,'o-', color='b', label='SA')\n",
    "plt.plot(problem_size,gas_num_calls,'o-', color='k', label='GA')\n",
    "plt.plot(problem_size,mim_num_calls,'o-', color='g', label='MIMIC')\n",
    "plt.ylabel('Number of function calls',fontsize=12)\n",
    "plt.xlabel('Problem size',fontsize=12)\n",
    "plt.legend(loc='best',fontsize=10)"
   ]
  },
  {
   "cell_type": "code",
   "execution_count": null,
   "metadata": {},
   "outputs": [],
   "source": [
    "# time taken"
   ]
  },
  {
   "cell_type": "code",
   "execution_count": 14,
   "metadata": {},
   "outputs": [],
   "source": [
    "rhc_time = [rhc.time for rhc in rhcs]\n",
    "sas_time=[saas.time for saas in sas ]\n",
    "gas_time=[gaas.time for gaas in gas ]\n",
    "mim_time=[mimi.time for mimi in mim ]"
   ]
  },
  {
   "cell_type": "code",
   "execution_count": 15,
   "metadata": {},
   "outputs": [
    {
     "data": {
      "image/png": "[encoded data removed]",
      "text/plain": [
       "<Figure size 360x216 with 1 Axes>"
      ]
     },
     "metadata": {
      "needs_background": "light"
     },
     "output_type": "display_data"
    }
   ],
   "source": [
    "plt.figure(figsize=(5,3))\n",
    "plt.plot(problem_size,rhc_time, 'o-', color='r', label='RH')\n",
    "plt.plot(problem_size,sas_time,'o-', color='b', label='SA')\n",
    "plt.plot(problem_size,gas_time,'o-', color='k', label='GA')\n",
    "plt.plot(problem_size,mim_time,'o-', color='g', label='MIMIC')\n",
    "plt.ylabel('Time Taken',fontsize=12)\n",
    "plt.xlabel('Problem size',fontsize=12)\n",
    "plt.legend(loc='upper left',fontsize=10)\n",
    "plt.yscale('log')"
   ]
  },
  {
   "cell_type": "code",
   "execution_count": null,
   "metadata": {},
   "outputs": [],
   "source": [
    "#number of iterations"
   ]
  },
  {
   "cell_type": "code",
   "execution_count": 16,
   "metadata": {},
   "outputs": [],
   "source": [
    "rhc_iter = [len(rhc.curve) for rhc in rhcs]\n",
    "sas_iter=[len(saas.curve) for saas in sas ]\n",
    "gas_iter=[len(gaas.curve) for gaas in gas ]\n",
    "mim_iter=[len(mimi.curve) for mimi in mim ]"
   ]
  },
  {
   "cell_type": "code",
   "execution_count": 18,
   "metadata": {},
   "outputs": [
    {
     "data": {
      "text/plain": [
       "<matplotlib.legend.Legend at 0x123caf390>"
      ]
     },
     "execution_count": 18,
     "metadata": {},
     "output_type": "execute_result"
    },
    {
     "data": {
      "image/png": "[encoded data removed]",
      "text/plain": [
       "<Figure size 360x216 with 1 Axes>"
      ]
     },
     "metadata": {
      "needs_background": "light"
     },
     "output_type": "display_data"
    }
   ],
   "source": [
    "plt.figure(figsize=(5,3))\n",
    "plt.plot(problem_size,rhc_iter, 'o-', color='r', label='RH')\n",
    "plt.plot(problem_size,sas_iter,'o-', color='b', label='SA')\n",
    "plt.plot(problem_size,gas_iter,'o-', color='k', label='GA')\n",
    "plt.plot(problem_size,mim_iter,'o-', color='g', label='MIMIC')\n",
    "plt.ylabel('Number of iterations',fontsize=12)\n",
    "plt.xlabel('Problem size',fontsize=12)\n",
    "plt.legend(loc='upper left',fontsize=10)\n"
   ]
  },
  {
   "cell_type": "code",
   "execution_count": 19,
   "metadata": {},
   "outputs": [],
   "source": [
    "# hyperparameter tuning for random optimization algorithms"
   ]
  },
  {
   "cell_type": "code",
   "execution_count": null,
   "metadata": {},
   "outputs": [],
   "source": [
    "# hyperparameter tuning for genetic algorithm"
   ]
  },
  {
   "cell_type": "code",
   "execution_count": 22,
   "metadata": {},
   "outputs": [
    {
     "name": "stdout",
     "output_type": "stream",
     "text": [
      "mutation_prob 0.001\n",
      "mutation_prob 0.005\n",
      "mutation_prob 0.01\n",
      "mutation_prob 0.05\n",
      "mutation_prob 0.1\n",
      "mutation_prob 0.2\n"
     ]
    }
   ],
   "source": [
    "gas_hp=[]\n",
    "for mutation_prob in [0.001, 0.005, 0.01, 0.05,0.1, 0.2]:\n",
    "    print('mutation_prob',mutation_prob)\n",
    "    runner = Runner(mlrose.OneMax(), 150)\n",
    "    gas_hp.append(runner.run_agg(mlrose.genetic_alg, pop_size=200, mutation_prob=mutation_prob))"
   ]
  },
  {
   "cell_type": "code",
   "execution_count": 23,
   "metadata": {},
   "outputs": [
    {
     "data": {
      "text/html": [
       "<div>\n",
       "<style scoped>\n",
       "    .dataframe tbody tr th:only-of-type {\n",
       "        vertical-align: middle;\n",
       "    }\n",
       "\n",
       "    .dataframe tbody tr th {\n",
       "        vertical-align: top;\n",
       "    }\n",
       "\n",
       "    .dataframe thead th {\n",
       "        text-align: right;\n",
       "    }\n",
       "</style>\n",
       "<table border=\"1\" class=\"dataframe\">\n",
       "  <thead>\n",
       "    <tr style=\"text-align: right;\">\n",
       "      <th></th>\n",
       "      <th>score</th>\n",
       "      <th>time</th>\n",
       "      <th>mutation</th>\n",
       "    </tr>\n",
       "  </thead>\n",
       "  <tbody>\n",
       "    <tr>\n",
       "      <th>0</th>\n",
       "      <td>103.0</td>\n",
       "      <td>0.540857</td>\n",
       "      <td>0.001</td>\n",
       "    </tr>\n",
       "    <tr>\n",
       "      <th>1</th>\n",
       "      <td>102.0</td>\n",
       "      <td>0.533506</td>\n",
       "      <td>0.005</td>\n",
       "    </tr>\n",
       "    <tr>\n",
       "      <th>2</th>\n",
       "      <td>102.0</td>\n",
       "      <td>0.482885</td>\n",
       "      <td>0.010</td>\n",
       "    </tr>\n",
       "    <tr>\n",
       "      <th>3</th>\n",
       "      <td>99.0</td>\n",
       "      <td>0.540776</td>\n",
       "      <td>0.050</td>\n",
       "    </tr>\n",
       "    <tr>\n",
       "      <th>4</th>\n",
       "      <td>97.0</td>\n",
       "      <td>0.493613</td>\n",
       "      <td>0.100</td>\n",
       "    </tr>\n",
       "    <tr>\n",
       "      <th>5</th>\n",
       "      <td>98.0</td>\n",
       "      <td>0.655805</td>\n",
       "      <td>0.200</td>\n",
       "    </tr>\n",
       "  </tbody>\n",
       "</table>\n",
       "</div>"
      ],
      "text/plain": [
       "   score      time  mutation\n",
       "0  103.0  0.540857     0.001\n",
       "1  102.0  0.533506     0.005\n",
       "2  102.0  0.482885     0.010\n",
       "3   99.0  0.540776     0.050\n",
       "4   97.0  0.493613     0.100\n",
       "5   98.0  0.655805     0.200"
      ]
     },
     "execution_count": 23,
     "metadata": {},
     "output_type": "execute_result"
    }
   ],
   "source": [
    "gas_hp_time = [gas_hp1.time for gas_hp1 in gas_hp]\n",
    "gas_hp_score = [gas_hp1.score for gas_hp1 in gas_hp]\n",
    "mutation_prob=[0.001, 0.005, 0.01, 0.05,0.1, 0.2]\n",
    "mut=pd.DataFrame(list(zip(gas_hp_score,gas_hp_time,mutation_prob)),columns=['score','time','mutation'])\n",
    "mut"
   ]
  },
  {
   "cell_type": "code",
   "execution_count": 162,
   "metadata": {},
   "outputs": [
    {
     "data": {
      "image/png": "[encoded data removed]",
      "text/plain": [
       "<Figure size 360x216 with 2 Axes>"
      ]
     },
     "metadata": {
      "needs_background": "light"
     },
     "output_type": "display_data"
    }
   ],
   "source": [
    "fig,ax1 =plt.subplots(figsize=(5,3))\n",
    "ax1.set_xlabel('Mutation Probability', fontsize=12)\n",
    "ax1.set_ylabel('Fitness value', color='b',fontsize=12)\n",
    "ax1.plot(mutation_prob,gas_hp_score , color='b', label='fitness')\n",
    "ax1.tick_params(axis='y', labelcolor='b')\n",
    "ax1.set_xscale('log')\n",
    "\n",
    "\n",
    "ax2=ax1.twinx()\n",
    "ax2.set_ylabel('Time(s)',fontsize=12)\n",
    "ax2.plot(mutation_prob,gas_hp_time , color='r',label='time')\n",
    "ax2.tick_params(axis='y', labelcolor='r')\n",
    "ax2.set_xscale('log')\n",
    "#plt.legend(loc='best',fontsize=10)\n",
    "plt.title('GA')\n",
    "plt.show()"
   ]
  },
  {
   "cell_type": "code",
   "execution_count": null,
   "metadata": {},
   "outputs": [],
   "source": [
    "# sa hyperparameter tuning"
   ]
  },
  {
   "cell_type": "code",
   "execution_count": 164,
   "metadata": {},
   "outputs": [
    {
     "data": {
      "text/plain": [
       "{'divide': 'warn', 'over': 'warn', 'under': 'ignore', 'invalid': 'warn'}"
      ]
     },
     "execution_count": 164,
     "metadata": {},
     "output_type": "execute_result"
    }
   ],
   "source": [
    " np.seterr(over='ignore' )"
   ]
  },
  {
   "cell_type": "code",
   "execution_count": 165,
   "metadata": {},
   "outputs": [
    {
     "name": "stdout",
     "output_type": "stream",
     "text": [
      "schedule <mlrose.decay.GeomDecay object at 0x1265a4210>\n",
      "schedule <mlrose.decay.ArithDecay object at 0x1265a4e50>\n",
      "schedule <mlrose.decay.ExpDecay object at 0x1265fbdd0>\n"
     ]
    }
   ],
   "source": [
    "sa_hp2=[]\n",
    "for schedule in [mlrose.GeomDecay(),mlrose.ArithDecay(),mlrose.ExpDecay()]:\n",
    "    print('schedule',schedule)\n",
    "    runner = Runner(mlrose.OneMax(), 150)\n",
    "    sa_hp2.append(runner.run_agg(mlrose.simulated_annealing,schedule=schedule, max_attempts = 100)) "
   ]
  },
  {
   "cell_type": "code",
   "execution_count": 166,
   "metadata": {},
   "outputs": [
    {
     "data": {
      "text/html": [
       "<div>\n",
       "<style scoped>\n",
       "    .dataframe tbody tr th:only-of-type {\n",
       "        vertical-align: middle;\n",
       "    }\n",
       "\n",
       "    .dataframe tbody tr th {\n",
       "        vertical-align: top;\n",
       "    }\n",
       "\n",
       "    .dataframe thead th {\n",
       "        text-align: right;\n",
       "    }\n",
       "</style>\n",
       "<table border=\"1\" class=\"dataframe\">\n",
       "  <thead>\n",
       "    <tr style=\"text-align: right;\">\n",
       "      <th></th>\n",
       "      <th>score</th>\n",
       "      <th>time</th>\n",
       "      <th>decay</th>\n",
       "    </tr>\n",
       "  </thead>\n",
       "  <tbody>\n",
       "    <tr>\n",
       "      <th>0</th>\n",
       "      <td>149.0</td>\n",
       "      <td>0.028381</td>\n",
       "      <td>Geometric_Decay</td>\n",
       "    </tr>\n",
       "    <tr>\n",
       "      <th>1</th>\n",
       "      <td>149.0</td>\n",
       "      <td>0.295109</td>\n",
       "      <td>Arithmetic_Decay</td>\n",
       "    </tr>\n",
       "    <tr>\n",
       "      <th>2</th>\n",
       "      <td>149.0</td>\n",
       "      <td>0.029706</td>\n",
       "      <td>Exp_Decay</td>\n",
       "    </tr>\n",
       "  </tbody>\n",
       "</table>\n",
       "</div>"
      ],
      "text/plain": [
       "   score      time             decay\n",
       "0  149.0  0.028381   Geometric_Decay\n",
       "1  149.0  0.295109  Arithmetic_Decay\n",
       "2  149.0  0.029706         Exp_Decay"
      ]
     },
     "execution_count": 166,
     "metadata": {},
     "output_type": "execute_result"
    }
   ],
   "source": [
    "sa_hp_time2 = [sa_hp1.time for sa_hp1 in sa_hp2]\n",
    "sa_hp_score2 = [sa_hp1.score for sa_hp1 in sa_hp2]\n",
    "schedule_prob=['Geometric_Decay','Arithmetic_Decay','Exp_Decay']\n",
    "sched2=pd.DataFrame(list(zip(sa_hp_score2,sa_hp_time2,schedule_prob)),columns=['score','time','decay'])\n",
    "sched2"
   ]
  },
  {
   "cell_type": "code",
   "execution_count": 167,
   "metadata": {},
   "outputs": [
    {
     "data": {
      "image/png": "[encoded data removed]",
      "text/plain": [
       "<Figure size 360x216 with 2 Axes>"
      ]
     },
     "metadata": {
      "needs_background": "light"
     },
     "output_type": "display_data"
    }
   ],
   "source": [
    "fig,ax1 =plt.subplots(figsize=(5,3))\n",
    "ax1.set_xlabel('Decay', fontsize=12)\n",
    "ax1.set_ylabel('Fitness value', color='b',fontsize=12)\n",
    "ax1.plot(schedule_prob,sa_hp_score2 , color='b', label='fitness')\n",
    "ax1.tick_params(axis='y', labelcolor='b')\n",
    "#ax1.set_xscale('log')\n",
    "\n",
    "\n",
    "ax2=ax1.twinx()\n",
    "ax2.set_ylabel('Time(s)',fontsize=12)\n",
    "ax2.plot(schedule_prob,sa_hp_time2 , color='r',label='Time(s)')\n",
    "ax2.tick_params(axis='y', labelcolor='r')\n",
    "#ax2.set_xscale('log')\n",
    "#plt.legend(loc='best',fontsize=10)\n",
    "plt.title('SA')\n",
    "plt.show()"
   ]
  },
  {
   "cell_type": "code",
   "execution_count": 25,
   "metadata": {},
   "outputs": [
    {
     "name": "stdout",
     "output_type": "stream",
     "text": [
      "schedule <mlrose.decay.GeomDecay object at 0x1244bafd0>\n",
      "schedule <mlrose.decay.ArithDecay object at 0x1244ba510>\n",
      "schedule <mlrose.decay.ExpDecay object at 0x1244ba390>\n"
     ]
    }
   ],
   "source": [
    "sa_hp=[]\n",
    "for schedule in [mlrose.GeomDecay(),mlrose.ArithDecay(),mlrose.ExpDecay()]:\n",
    "    print('schedule',schedule)\n",
    "    runner = Runner(mlrose.OneMax(), 150)\n",
    "    sa_hp.append(runner.run_agg(mlrose.simulated_annealing,schedule=schedule)) "
   ]
  },
  {
   "cell_type": "code",
   "execution_count": 26,
   "metadata": {},
   "outputs": [
    {
     "data": {
      "text/html": [
       "<div>\n",
       "<style scoped>\n",
       "    .dataframe tbody tr th:only-of-type {\n",
       "        vertical-align: middle;\n",
       "    }\n",
       "\n",
       "    .dataframe tbody tr th {\n",
       "        vertical-align: top;\n",
       "    }\n",
       "\n",
       "    .dataframe thead th {\n",
       "        text-align: right;\n",
       "    }\n",
       "</style>\n",
       "<table border=\"1\" class=\"dataframe\">\n",
       "  <thead>\n",
       "    <tr style=\"text-align: right;\">\n",
       "      <th></th>\n",
       "      <th>score</th>\n",
       "      <th>time</th>\n",
       "      <th>decay</th>\n",
       "    </tr>\n",
       "  </thead>\n",
       "  <tbody>\n",
       "    <tr>\n",
       "      <th>0</th>\n",
       "      <td>117.0</td>\n",
       "      <td>0.007488</td>\n",
       "      <td>Geometric_Decay</td>\n",
       "    </tr>\n",
       "    <tr>\n",
       "      <th>1</th>\n",
       "      <td>116.0</td>\n",
       "      <td>0.082298</td>\n",
       "      <td>Arithmetic_Decay</td>\n",
       "    </tr>\n",
       "    <tr>\n",
       "      <th>2</th>\n",
       "      <td>123.0</td>\n",
       "      <td>0.009750</td>\n",
       "      <td>Exp_Decay</td>\n",
       "    </tr>\n",
       "  </tbody>\n",
       "</table>\n",
       "</div>"
      ],
      "text/plain": [
       "   score      time             decay\n",
       "0  117.0  0.007488   Geometric_Decay\n",
       "1  116.0  0.082298  Arithmetic_Decay\n",
       "2  123.0  0.009750         Exp_Decay"
      ]
     },
     "execution_count": 26,
     "metadata": {},
     "output_type": "execute_result"
    }
   ],
   "source": [
    "sa_hp_time = [sa_hp1.time for sa_hp1 in sa_hp]\n",
    "sa_hp_score = [sa_hp1.score for sa_hp1 in sa_hp]\n",
    "schedule_prob=['Geometric_Decay','Arithmetic_Decay','Exp_Decay']\n",
    "sched=pd.DataFrame(list(zip(sa_hp_score,sa_hp_time,schedule_prob)),columns=['score','time','decay'])\n",
    "sched"
   ]
  },
  {
   "cell_type": "code",
   "execution_count": 29,
   "metadata": {},
   "outputs": [
    {
     "data": {
      "image/png": "[encoded data removed]",
      "text/plain": [
       "<Figure size 360x216 with 2 Axes>"
      ]
     },
     "metadata": {
      "needs_background": "light"
     },
     "output_type": "display_data"
    }
   ],
   "source": [
    "fig,ax1 =plt.subplots(figsize=(5,3))\n",
    "ax1.set_xlabel('Decay', fontsize=12)\n",
    "ax1.set_ylabel('Fitness value', color='b',fontsize=12)\n",
    "ax1.plot(schedule_prob,sa_hp_score , color='b', label='fitness')\n",
    "ax1.tick_params(axis='y', labelcolor='b')\n",
    "#ax1.set_xscale('log')\n",
    "\n",
    "\n",
    "ax2=ax1.twinx()\n",
    "ax2.set_ylabel('Time(s)',fontsize=12)\n",
    "ax2.plot(schedule_prob,sa_hp_time , color='r',label='Time(s)')\n",
    "ax2.tick_params(axis='y', labelcolor='r')\n",
    "#ax2.set_xscale('log')\n",
    "#plt.legend(loc='best',fontsize=10)\n",
    "plt.show()"
   ]
  },
  {
   "cell_type": "code",
   "execution_count": 168,
   "metadata": {},
   "outputs": [
    {
     "name": "stdout",
     "output_type": "stream",
     "text": [
      "schedule <mlrose.decay.ExpDecay object at 0x1265fbdd0>\n",
      "schedule <mlrose.decay.ExpDecay object at 0x1265fbdd0>\n",
      "schedule <mlrose.decay.ExpDecay object at 0x1265fbdd0>\n"
     ]
    }
   ],
   "source": [
    "sa_hp3=[]\n",
    "for max_attempts in [10,50,100]:\n",
    "    print('schedule',schedule)\n",
    "    runner = Runner(mlrose.OneMax(), 150)\n",
    "    sa_hp3.append(runner.run_agg(mlrose.simulated_annealing, max_attempts = max_attempts)) "
   ]
  },
  {
   "cell_type": "code",
   "execution_count": 169,
   "metadata": {},
   "outputs": [
    {
     "data": {
      "text/html": [
       "<div>\n",
       "<style scoped>\n",
       "    .dataframe tbody tr th:only-of-type {\n",
       "        vertical-align: middle;\n",
       "    }\n",
       "\n",
       "    .dataframe tbody tr th {\n",
       "        vertical-align: top;\n",
       "    }\n",
       "\n",
       "    .dataframe thead th {\n",
       "        text-align: right;\n",
       "    }\n",
       "</style>\n",
       "<table border=\"1\" class=\"dataframe\">\n",
       "  <thead>\n",
       "    <tr style=\"text-align: right;\">\n",
       "      <th></th>\n",
       "      <th>score</th>\n",
       "      <th>time</th>\n",
       "      <th>attempts</th>\n",
       "    </tr>\n",
       "  </thead>\n",
       "  <tbody>\n",
       "    <tr>\n",
       "      <th>0</th>\n",
       "      <td>117.0</td>\n",
       "      <td>0.007488</td>\n",
       "      <td>10</td>\n",
       "    </tr>\n",
       "    <tr>\n",
       "      <th>1</th>\n",
       "      <td>116.0</td>\n",
       "      <td>0.082298</td>\n",
       "      <td>50</td>\n",
       "    </tr>\n",
       "    <tr>\n",
       "      <th>2</th>\n",
       "      <td>123.0</td>\n",
       "      <td>0.009750</td>\n",
       "      <td>100</td>\n",
       "    </tr>\n",
       "  </tbody>\n",
       "</table>\n",
       "</div>"
      ],
      "text/plain": [
       "   score      time  attempts\n",
       "0  117.0  0.007488        10\n",
       "1  116.0  0.082298        50\n",
       "2  123.0  0.009750       100"
      ]
     },
     "execution_count": 169,
     "metadata": {},
     "output_type": "execute_result"
    }
   ],
   "source": [
    "sa_hp_time3 = [sa_hp1.time for sa_hp1 in sa_hp3]\n",
    "sa_hp_score3 = [sa_hp1.score for sa_hp1 in sa_hp3]\n",
    "schedule_prob=[10, 50, 100]\n",
    "sched=pd.DataFrame(list(zip(sa_hp_score,sa_hp_time,schedule_prob)),columns=['score','time','attempts'])\n",
    "sched"
   ]
  },
  {
   "cell_type": "code",
   "execution_count": 171,
   "metadata": {},
   "outputs": [
    {
     "data": {
      "image/png": "[encoded data removed]",
      "text/plain": [
       "<Figure size 360x216 with 2 Axes>"
      ]
     },
     "metadata": {
      "needs_background": "light"
     },
     "output_type": "display_data"
    }
   ],
   "source": [
    "fig,ax1 =plt.subplots(figsize=(5,3))\n",
    "ax1.set_xlabel('Maximum attempts', fontsize=12)\n",
    "ax1.set_ylabel('Fitness value', color='b',fontsize=12)\n",
    "ax1.plot(schedule_prob,sa_hp_score3 , color='b', label='fitness')\n",
    "ax1.tick_params(axis='y', labelcolor='b')\n",
    "#ax1.set_xscale('log')\n",
    "\n",
    "\n",
    "ax2=ax1.twinx()\n",
    "ax2.set_ylabel('Time(s)',fontsize=12)\n",
    "ax2.plot(schedule_prob,sa_hp_time3 , color='r',label='Time(s)')\n",
    "ax2.tick_params(axis='y', labelcolor='r')\n",
    "#ax2.set_xscale('log')\n",
    "#plt.legend(loc='best',fontsize=10)\n",
    "plt.title('SA')\n",
    "plt.show()"
   ]
  },
  {
   "cell_type": "code",
   "execution_count": null,
   "metadata": {},
   "outputs": [],
   "source": [
    "# hyperparameter tuning for random hill climbing"
   ]
  },
  {
   "cell_type": "code",
   "execution_count": 145,
   "metadata": {},
   "outputs": [
    {
     "name": "stdout",
     "output_type": "stream",
     "text": [
      "restarts 10\n",
      "restarts 20\n",
      "restarts 40\n",
      "restarts 60\n",
      "restarts 80\n",
      "restarts 100\n",
      "restarts 200\n"
     ]
    }
   ],
   "source": [
    "rhc_hp2=[]\n",
    "for restarts in [10,20,40,60,80,100,200]:\n",
    "    print('restarts',restarts)\n",
    "    runner = Runner(mlrose.OneMax(), 150)\n",
    "    rhc_hp2.append(runner.run_agg(mlrose.random_hill_climb, restarts=restarts, max_attempts=100))"
   ]
  },
  {
   "cell_type": "code",
   "execution_count": 146,
   "metadata": {},
   "outputs": [
    {
     "data": {
      "text/html": [
       "<div>\n",
       "<style scoped>\n",
       "    .dataframe tbody tr th:only-of-type {\n",
       "        vertical-align: middle;\n",
       "    }\n",
       "\n",
       "    .dataframe tbody tr th {\n",
       "        vertical-align: top;\n",
       "    }\n",
       "\n",
       "    .dataframe thead th {\n",
       "        text-align: right;\n",
       "    }\n",
       "</style>\n",
       "<table border=\"1\" class=\"dataframe\">\n",
       "  <thead>\n",
       "    <tr style=\"text-align: right;\">\n",
       "      <th></th>\n",
       "      <th>score</th>\n",
       "      <th>time</th>\n",
       "      <th>restarts</th>\n",
       "    </tr>\n",
       "  </thead>\n",
       "  <tbody>\n",
       "    <tr>\n",
       "      <th>0</th>\n",
       "      <td>150.0</td>\n",
       "      <td>0.192733</td>\n",
       "      <td>10</td>\n",
       "    </tr>\n",
       "    <tr>\n",
       "      <th>1</th>\n",
       "      <td>150.0</td>\n",
       "      <td>0.351222</td>\n",
       "      <td>20</td>\n",
       "    </tr>\n",
       "    <tr>\n",
       "      <th>2</th>\n",
       "      <td>150.0</td>\n",
       "      <td>0.691811</td>\n",
       "      <td>40</td>\n",
       "    </tr>\n",
       "    <tr>\n",
       "      <th>3</th>\n",
       "      <td>150.0</td>\n",
       "      <td>1.009295</td>\n",
       "      <td>60</td>\n",
       "    </tr>\n",
       "    <tr>\n",
       "      <th>4</th>\n",
       "      <td>150.0</td>\n",
       "      <td>1.334832</td>\n",
       "      <td>80</td>\n",
       "    </tr>\n",
       "    <tr>\n",
       "      <th>5</th>\n",
       "      <td>150.0</td>\n",
       "      <td>1.633765</td>\n",
       "      <td>100</td>\n",
       "    </tr>\n",
       "    <tr>\n",
       "      <th>6</th>\n",
       "      <td>150.0</td>\n",
       "      <td>3.309457</td>\n",
       "      <td>200</td>\n",
       "    </tr>\n",
       "  </tbody>\n",
       "</table>\n",
       "</div>"
      ],
      "text/plain": [
       "   score      time  restarts\n",
       "0  150.0  0.192733        10\n",
       "1  150.0  0.351222        20\n",
       "2  150.0  0.691811        40\n",
       "3  150.0  1.009295        60\n",
       "4  150.0  1.334832        80\n",
       "5  150.0  1.633765       100\n",
       "6  150.0  3.309457       200"
      ]
     },
     "execution_count": 146,
     "metadata": {},
     "output_type": "execute_result"
    }
   ],
   "source": [
    "rhc_hp_time2 = [rhc_hp1.time for rhc_hp1 in rhc_hp2]\n",
    "rhc_hp_score2 = [rhc_hp1.score for rhc_hp1 in rhc_hp2]\n",
    "restarts_prob=[10,20,40,60,80,100,200]\n",
    "restart2=pd.DataFrame(list(zip(rhc_hp_score2,rhc_hp_time2,restarts_prob)),columns=['score','time','restarts'])\n",
    "restart2"
   ]
  },
  {
   "cell_type": "code",
   "execution_count": 147,
   "metadata": {},
   "outputs": [
    {
     "data": {
      "image/png": "[encoded data removed]",
      "text/plain": [
       "<Figure size 360x216 with 2 Axes>"
      ]
     },
     "metadata": {
      "needs_background": "light"
     },
     "output_type": "display_data"
    }
   ],
   "source": [
    "fig,ax1 =plt.subplots(figsize=(5,3))\n",
    "ax1.set_xlabel('Number of restarts', fontsize=12)\n",
    "ax1.set_ylabel('Fitness value', color='b',fontsize=12)\n",
    "ax1.plot(restarts_prob,rhc_hp_score2, color='b', label='fitness')\n",
    "ax1.tick_params(axis='y', labelcolor='b')\n",
    "#ax1.set_xscale('log')\n",
    "\n",
    "\n",
    "ax2=ax1.twinx()\n",
    "ax2.set_ylabel('Time(s)',fontsize=12)\n",
    "ax2.plot(restarts_prob,rhc_hp_time2  , color='r',label='Time(s)')\n",
    "ax2.tick_params(axis='y', labelcolor='r')\n",
    "#ax2.set_xscale('log')\n",
    "#plt.legend(loc='best',fontsize=10)\n",
    "plt.title('RHC')\n",
    "plt.show()"
   ]
  },
  {
   "cell_type": "code",
   "execution_count": 178,
   "metadata": {},
   "outputs": [
    {
     "name": "stdout",
     "output_type": "stream",
     "text": [
      "max_attempts 10\n",
      "max_attempts 50\n",
      "max_attempts 100\n"
     ]
    }
   ],
   "source": [
    "rhc_hp4=[]\n",
    "for max_attempts in [10,50, 100]:\n",
    "    print('max_attempts',max_attempts)\n",
    "    runner = Runner(mlrose.OneMax(), 150)\n",
    "    rhc_hp4.append(runner.run_agg(mlrose.random_hill_climb, restarts=10, max_attempts= max_attempts))"
   ]
  },
  {
   "cell_type": "code",
   "execution_count": 179,
   "metadata": {},
   "outputs": [
    {
     "data": {
      "text/html": [
       "<div>\n",
       "<style scoped>\n",
       "    .dataframe tbody tr th:only-of-type {\n",
       "        vertical-align: middle;\n",
       "    }\n",
       "\n",
       "    .dataframe tbody tr th {\n",
       "        vertical-align: top;\n",
       "    }\n",
       "\n",
       "    .dataframe thead th {\n",
       "        text-align: right;\n",
       "    }\n",
       "</style>\n",
       "<table border=\"1\" class=\"dataframe\">\n",
       "  <thead>\n",
       "    <tr style=\"text-align: right;\">\n",
       "      <th></th>\n",
       "      <th>score</th>\n",
       "      <th>time</th>\n",
       "      <th>max_attempts</th>\n",
       "    </tr>\n",
       "  </thead>\n",
       "  <tbody>\n",
       "    <tr>\n",
       "      <th>0</th>\n",
       "      <td>129.0</td>\n",
       "      <td>0.035108</td>\n",
       "      <td>10</td>\n",
       "    </tr>\n",
       "    <tr>\n",
       "      <th>1</th>\n",
       "      <td>149.0</td>\n",
       "      <td>0.124589</td>\n",
       "      <td>50</td>\n",
       "    </tr>\n",
       "    <tr>\n",
       "      <th>2</th>\n",
       "      <td>150.0</td>\n",
       "      <td>0.182885</td>\n",
       "      <td>100</td>\n",
       "    </tr>\n",
       "  </tbody>\n",
       "</table>\n",
       "</div>"
      ],
      "text/plain": [
       "   score      time  max_attempts\n",
       "0  129.0  0.035108            10\n",
       "1  149.0  0.124589            50\n",
       "2  150.0  0.182885           100"
      ]
     },
     "execution_count": 179,
     "metadata": {},
     "output_type": "execute_result"
    }
   ],
   "source": [
    "rhc_hp_time4 = [rhc_hp1.time for rhc_hp1 in rhc_hp4]\n",
    "rhc_hp_score4 = [rhc_hp1.score for rhc_hp1 in rhc_hp4]\n",
    "restarts_prob=[10,50,100]\n",
    "restart4=pd.DataFrame(list(zip(rhc_hp_score4,rhc_hp_time4,restarts_prob)),columns=['score','time','max_attempts'])\n",
    "restart4"
   ]
  },
  {
   "cell_type": "code",
   "execution_count": 180,
   "metadata": {},
   "outputs": [
    {
     "data": {
      "image/png": "[encoded data removed]",
      "text/plain": [
       "<Figure size 360x216 with 2 Axes>"
      ]
     },
     "metadata": {
      "needs_background": "light"
     },
     "output_type": "display_data"
    }
   ],
   "source": [
    "fig,ax1 =plt.subplots(figsize=(5,3))\n",
    "ax1.set_xlabel('Maximum attempts', fontsize=12)\n",
    "ax1.set_ylabel('Fitness value', color='b',fontsize=12)\n",
    "ax1.plot(restarts_prob,rhc_hp_score4, color='b', label='fitness')\n",
    "ax1.tick_params(axis='y', labelcolor='b')\n",
    "#ax1.set_xscale('log')\n",
    "\n",
    "\n",
    "ax2=ax1.twinx()\n",
    "ax2.set_ylabel('Time(s)',fontsize=12)\n",
    "ax2.plot(restarts_prob,rhc_hp_time4  , color='r',label='Time(s)')\n",
    "ax2.tick_params(axis='y', labelcolor='r')\n",
    "#ax2.set_xscale('log')\n",
    "#plt.legend(loc='best',fontsize=10)\n",
    "plt.title('RHC')\n",
    "plt.show()"
   ]
  },
  {
   "cell_type": "code",
   "execution_count": 37,
   "metadata": {},
   "outputs": [
    {
     "name": "stdout",
     "output_type": "stream",
     "text": [
      "restarts 10\n",
      "restarts 20\n",
      "restarts 40\n",
      "restarts 60\n",
      "restarts 80\n",
      "restarts 100\n",
      "restarts 200\n"
     ]
    }
   ],
   "source": [
    "rhc_hp=[]\n",
    "for restarts in [10,20,40,60,80,100,200]:\n",
    "    print('restarts',restarts)\n",
    "    runner = Runner(mlrose.OneMax(), 150)\n",
    "    rhc_hp.append(runner.run_agg(mlrose.random_hill_climb, restarts=restarts))"
   ]
  },
  {
   "cell_type": "code",
   "execution_count": 38,
   "metadata": {},
   "outputs": [
    {
     "data": {
      "text/html": [
       "<div>\n",
       "<style scoped>\n",
       "    .dataframe tbody tr th:only-of-type {\n",
       "        vertical-align: middle;\n",
       "    }\n",
       "\n",
       "    .dataframe tbody tr th {\n",
       "        vertical-align: top;\n",
       "    }\n",
       "\n",
       "    .dataframe thead th {\n",
       "        text-align: right;\n",
       "    }\n",
       "</style>\n",
       "<table border=\"1\" class=\"dataframe\">\n",
       "  <thead>\n",
       "    <tr style=\"text-align: right;\">\n",
       "      <th></th>\n",
       "      <th>score</th>\n",
       "      <th>time</th>\n",
       "      <th>restarts</th>\n",
       "    </tr>\n",
       "  </thead>\n",
       "  <tbody>\n",
       "    <tr>\n",
       "      <th>0</th>\n",
       "      <td>128.0</td>\n",
       "      <td>0.038438</td>\n",
       "      <td>10</td>\n",
       "    </tr>\n",
       "    <tr>\n",
       "      <th>1</th>\n",
       "      <td>131.0</td>\n",
       "      <td>0.078017</td>\n",
       "      <td>20</td>\n",
       "    </tr>\n",
       "    <tr>\n",
       "      <th>2</th>\n",
       "      <td>133.0</td>\n",
       "      <td>0.138122</td>\n",
       "      <td>40</td>\n",
       "    </tr>\n",
       "    <tr>\n",
       "      <th>3</th>\n",
       "      <td>133.0</td>\n",
       "      <td>0.204787</td>\n",
       "      <td>60</td>\n",
       "    </tr>\n",
       "    <tr>\n",
       "      <th>4</th>\n",
       "      <td>136.0</td>\n",
       "      <td>0.291636</td>\n",
       "      <td>80</td>\n",
       "    </tr>\n",
       "    <tr>\n",
       "      <th>5</th>\n",
       "      <td>135.0</td>\n",
       "      <td>0.346359</td>\n",
       "      <td>100</td>\n",
       "    </tr>\n",
       "    <tr>\n",
       "      <th>6</th>\n",
       "      <td>137.0</td>\n",
       "      <td>0.707819</td>\n",
       "      <td>200</td>\n",
       "    </tr>\n",
       "  </tbody>\n",
       "</table>\n",
       "</div>"
      ],
      "text/plain": [
       "   score      time  restarts\n",
       "0  128.0  0.038438        10\n",
       "1  131.0  0.078017        20\n",
       "2  133.0  0.138122        40\n",
       "3  133.0  0.204787        60\n",
       "4  136.0  0.291636        80\n",
       "5  135.0  0.346359       100\n",
       "6  137.0  0.707819       200"
      ]
     },
     "execution_count": 38,
     "metadata": {},
     "output_type": "execute_result"
    }
   ],
   "source": [
    "rhc_hp_time = [rhc_hp1.time for rhc_hp1 in rhc_hp]\n",
    "rhc_hp_score = [rhc_hp1.score for rhc_hp1 in rhc_hp]\n",
    "restarts_prob=[10,20,40,60,80,100,200]\n",
    "restart=pd.DataFrame(list(zip(rhc_hp_score,rhc_hp_time,restarts_prob)),columns=['score','time','restarts'])\n",
    "restart"
   ]
  },
  {
   "cell_type": "code",
   "execution_count": 39,
   "metadata": {},
   "outputs": [
    {
     "data": {
      "image/png": "[encoded data removed]",
      "text/plain": [
       "<Figure size 360x216 with 2 Axes>"
      ]
     },
     "metadata": {
      "needs_background": "light"
     },
     "output_type": "display_data"
    }
   ],
   "source": [
    "fig,ax1 =plt.subplots(figsize=(5,3))\n",
    "ax1.set_xlabel('Number of restarts', fontsize=12)\n",
    "ax1.set_ylabel('Fitness value', color='b',fontsize=12)\n",
    "ax1.plot(restarts_prob,rhc_hp_score, color='b', label='fitness')\n",
    "ax1.tick_params(axis='y', labelcolor='b')\n",
    "#ax1.set_xscale('log')\n",
    "\n",
    "\n",
    "ax2=ax1.twinx()\n",
    "ax2.set_ylabel('Time(s)',fontsize=12)\n",
    "ax2.plot(restarts_prob,rhc_hp_time  , color='r',label='Time(s)')\n",
    "ax2.tick_params(axis='y', labelcolor='r')\n",
    "#ax2.set_xscale('log')\n",
    "#plt.legend(loc='best',fontsize=10)\n",
    "plt.show()"
   ]
  },
  {
   "cell_type": "code",
   "execution_count": null,
   "metadata": {},
   "outputs": [],
   "source": [
    "#hyperparameter tuning for mimic"
   ]
  },
  {
   "cell_type": "code",
   "execution_count": 40,
   "metadata": {},
   "outputs": [
    {
     "name": "stdout",
     "output_type": "stream",
     "text": [
      "keep_pct 0.1\n",
      "keep_pct 0.2\n",
      "keep_pct 0.4\n"
     ]
    }
   ],
   "source": [
    "mimi_hp=[]\n",
    "for keep_pct in [0.1, 0.2, 0.4]:\n",
    "    print('keep_pct',keep_pct)\n",
    "    runner = Runner(mlrose.OneMax(), 150)\n",
    "    mimi_hp.append(runner.run_agg(mlrose.mimic, pop_size=200, count=5, keep_pct=keep_pct))"
   ]
  },
  {
   "cell_type": "code",
   "execution_count": 41,
   "metadata": {},
   "outputs": [
    {
     "data": {
      "text/html": [
       "<div>\n",
       "<style scoped>\n",
       "    .dataframe tbody tr th:only-of-type {\n",
       "        vertical-align: middle;\n",
       "    }\n",
       "\n",
       "    .dataframe tbody tr th {\n",
       "        vertical-align: top;\n",
       "    }\n",
       "\n",
       "    .dataframe thead th {\n",
       "        text-align: right;\n",
       "    }\n",
       "</style>\n",
       "<table border=\"1\" class=\"dataframe\">\n",
       "  <thead>\n",
       "    <tr style=\"text-align: right;\">\n",
       "      <th></th>\n",
       "      <th>score</th>\n",
       "      <th>time</th>\n",
       "      <th>keep_pct</th>\n",
       "    </tr>\n",
       "  </thead>\n",
       "  <tbody>\n",
       "    <tr>\n",
       "      <th>0</th>\n",
       "      <td>139.0</td>\n",
       "      <td>326.536219</td>\n",
       "      <td>0.1</td>\n",
       "    </tr>\n",
       "    <tr>\n",
       "      <th>1</th>\n",
       "      <td>148.0</td>\n",
       "      <td>315.976051</td>\n",
       "      <td>0.2</td>\n",
       "    </tr>\n",
       "    <tr>\n",
       "      <th>2</th>\n",
       "      <td>150.0</td>\n",
       "      <td>368.379513</td>\n",
       "      <td>0.4</td>\n",
       "    </tr>\n",
       "  </tbody>\n",
       "</table>\n",
       "</div>"
      ],
      "text/plain": [
       "   score        time  keep_pct\n",
       "0  139.0  326.536219       0.1\n",
       "1  148.0  315.976051       0.2\n",
       "2  150.0  368.379513       0.4"
      ]
     },
     "execution_count": 41,
     "metadata": {},
     "output_type": "execute_result"
    }
   ],
   "source": [
    "mimi_hp_time = [gas_hp1.time for gas_hp1 in mimi_hp]\n",
    "mimi_hp_score = [gas_hp1.score for gas_hp1 in mimi_hp]\n",
    "keep_prob=[0.1, 0.2, 0.4]\n",
    "keep=pd.DataFrame(list(zip(mimi_hp_score,mimi_hp_time,keep_prob)),columns=['score','time','keep_pct'])\n",
    "keep"
   ]
  },
  {
   "cell_type": "code",
   "execution_count": 163,
   "metadata": {},
   "outputs": [
    {
     "data": {
      "image/png": "[encoded data removed]",
      "text/plain": [
       "<Figure size 360x216 with 2 Axes>"
      ]
     },
     "metadata": {
      "needs_background": "light"
     },
     "output_type": "display_data"
    }
   ],
   "source": [
    "fig,ax1 =plt.subplots(figsize=(5,3))\n",
    "ax1.set_xlabel('Sample proportion', fontsize=12)\n",
    "ax1.set_ylabel('Fitness value', color='b',fontsize=12)\n",
    "ax1.plot(keep_prob,mimi_hp_score, color='b', label='fitness')\n",
    "ax1.tick_params(axis='y', labelcolor='b')\n",
    "#ax1.set_xscale('log')\n",
    "\n",
    "\n",
    "ax2=ax1.twinx()\n",
    "ax2.set_ylabel('Time(s)',fontsize=12)\n",
    "ax2.plot(keep_prob,mimi_hp_time  , color='r',label='Time(s)')\n",
    "ax2.tick_params(axis='y', labelcolor='r')\n",
    "#ax2.set_xscale('log')\n",
    "#plt.legend(loc='best',fontsize=10)\n",
    "plt.title('MIMIC')\n",
    "plt.show()"
   ]
  },
  {
   "cell_type": "code",
   "execution_count": null,
   "metadata": {},
   "outputs": [],
   "source": [
    "# using tuned hyperparameters for building random oprimization algorithms"
   ]
  },
  {
   "cell_type": "code",
   "execution_count": 59,
   "metadata": {},
   "outputs": [
    {
     "name": "stdout",
     "output_type": "stream",
     "text": [
      "10\n",
      "50\n",
      "100\n",
      "150\n"
     ]
    }
   ],
   "source": [
    "rhcs3, sas3, gas3, mim3 = [], [], [], []\n",
    "for prob_size in [10, 50, 100, 150]:\n",
    "    runner = Runner(mlrose.OneMax(), prob_size)\n",
    "    print(prob_size)\n",
    "    rhcs3.append(runner.run_agg(mlrose.random_hill_climb, restarts=100))\n",
    "    sas3.append(runner.run_agg(mlrose.simulated_annealing, schedule=mlrose.ExpDecay()))\n",
    "    gas3.append(runner.run_agg(mlrose.genetic_alg, pop_size=200, mutation_prob=0.001))\n",
    "    mim3.append(runner.run_agg(mlrose.mimic, pop_size=200, count=5, keep_pct=0.4))"
   ]
  },
  {
   "cell_type": "code",
   "execution_count": 60,
   "metadata": {},
   "outputs": [
    {
     "data": {
      "text/plain": [
       "([RunResult(time=0.07161355018615723, num_calls=2812.5, score=10.0, best=array([1, 1, 1, 1, 1, 1, 1, 1, 1, 1]), curve=array([ 5.,  6.,  6., ..., 10., 10., 10.])),\n",
       "  RunResult(time=0.17634785175323486, num_calls=7517.0, score=49.0, best=array([1, 1, 1, 1, 1, 1, 1, 1, 1, 1, 1, 1, 1, 1, 1, 1, 1, 1, 1, 1, 1, 1,\n",
       "         1, 1, 1, 1, 1, 1, 1, 1, 1, 1, 1, 1, 0, 1, 1, 1, 1, 1, 1, 1, 1, 1,\n",
       "         1, 1, 1, 1, 1, 1]), curve=array([28., 29., 30., ..., 46., 46., 46.])),\n",
       "  RunResult(time=0.27199721336364746, num_calls=11737.0, score=93.0, best=array([1, 1, 0, 1, 1, 1, 1, 1, 1, 1, 1, 1, 1, 1, 1, 1, 1, 1, 1, 1, 1, 0,\n",
       "         1, 1, 1, 1, 1, 0, 1, 1, 1, 1, 0, 1, 1, 1, 1, 1, 1, 1, 1, 1, 1, 1,\n",
       "         1, 1, 1, 1, 1, 1, 1, 1, 1, 1, 1, 1, 1, 1, 1, 0, 1, 1, 1, 1, 1, 1,\n",
       "         1, 1, 0, 1, 0, 1, 1, 1, 1, 1, 1, 1, 1, 1, 1, 1, 1, 1, 1, 1, 1, 1,\n",
       "         1, 1, 1, 1, 1, 1, 1, 1, 1, 1, 1, 1]), curve=array([52., 53., 54., ..., 92., 92., 92.])),\n",
       "  RunResult(time=0.33366668224334717, num_calls=15359.5, score=136.0, best=array([1, 1, 1, 1, 0, 1, 1, 1, 1, 1, 0, 1, 1, 1, 1, 1, 1, 1, 1, 1, 1, 1,\n",
       "         1, 1, 1, 1, 1, 0, 1, 1, 1, 1, 1, 1, 1, 1, 1, 1, 0, 1, 1, 1, 1, 0,\n",
       "         1, 1, 1, 1, 1, 1, 1, 1, 1, 1, 1, 1, 1, 1, 1, 1, 1, 1, 1, 1, 1, 1,\n",
       "         1, 0, 1, 1, 1, 0, 1, 1, 1, 1, 1, 1, 1, 1, 1, 1, 1, 1, 1, 1, 1, 1,\n",
       "         1, 0, 0, 1, 1, 1, 1, 1, 1, 1, 1, 1, 1, 1, 1, 1, 1, 1, 1, 0, 1, 1,\n",
       "         1, 0, 1, 1, 1, 1, 1, 1, 1, 1, 1, 1, 1, 1, 1, 1, 1, 0, 1, 1, 1, 0,\n",
       "         1, 1, 1, 1, 1, 1, 1, 1, 0, 1, 1, 1, 1, 1, 1, 1, 1, 1]), curve=array([ 65.,  65.,  65., ..., 112., 112., 112.]))],\n",
       " [RunResult(time=0.00598299503326416, num_calls=207.0, score=10.0, best=array([1, 1, 1, 1, 1, 1, 1, 1, 1, 1]), curve=array([ 4.,  5.,  6.,  6.,  7.,  7.,  7.,  7.,  8.,  7.,  7.,  8.,  7.,\n",
       "          8.,  8.,  9.,  8.,  7.,  6.,  5.,  5.,  5.,  5.,  6.,  6.,  6.,\n",
       "          7.,  8.,  9.,  9.,  9.,  9.,  9.,  9.,  9.,  9.,  9.,  8.,  8.,\n",
       "          8.,  9.,  9.,  9.,  9.,  9., 10., 10.,  9.,  9.,  9.,  9.,  8.,\n",
       "          7.,  7.,  7.,  7.,  8.,  8.,  8.,  7.,  7.,  7.,  7.,  7.,  8.,\n",
       "          8.,  8.,  7.,  7.,  8.,  9.,  9.,  8.,  8.,  8.,  8.,  8.,  7.,\n",
       "          8.,  7.,  7.,  6.,  6.,  5.,  5.,  6.,  6.,  6.,  7.,  6.,  7.,\n",
       "          7.,  7.,  8.,  8.,  7.,  8.,  8.,  8.,  8.,  8.,  8.,  7.,  7.,\n",
       "          7.,  7.,  7.,  8.,  8.,  8.,  9.,  9.,  9.,  8.,  9.,  9.,  9.,\n",
       "          9.,  8.,  9.,  9.,  9.,  8.,  8.,  9.,  9., 10., 10., 10., 10.,\n",
       "         10., 10., 10.,  9.,  9.,  9.,  8.,  8.,  8.,  7.,  7.,  7.,  7.,\n",
       "          7.,  7.,  6.,  6.,  6.,  6.,  7.,  7.,  7.,  8.,  8.,  8.,  9.,\n",
       "          9.,  8.,  9.,  9.,  9.,  9., 10., 10., 10., 10., 10., 10., 10.,\n",
       "         10., 10., 10.,  9.,  9.,  9.,  9., 10., 10., 10.,  9.,  9.,  9.,\n",
       "          8.,  8.,  8.,  8.,  8.,  8.,  8.,  7.,  7.,  7.,  7.,  7.,  7.,\n",
       "          8.,  8.,  9.,  9., 10., 10., 10., 10., 10., 10., 10., 10., 10.,\n",
       "         10.,  9.,  9.,  8.,  9.,  9., 10., 10., 10., 10., 10., 10., 10.,\n",
       "         10., 10., 10., 10.])),\n",
       "  RunResult(time=0.0064525604248046875, num_calls=248.0, score=43.0, best=array([1, 0, 1, 1, 1, 1, 1, 1, 0, 1, 1, 1, 1, 1, 1, 1, 0, 1, 1, 1, 1, 1,\n",
       "         0, 1, 1, 1, 1, 1, 1, 1, 1, 1, 1, 1, 1, 1, 1, 1, 1, 1, 1, 1, 0, 0,\n",
       "         1, 0, 1, 1, 1, 1]), curve=array([26., 27., 28., 28., 28., 29., 30., 31., 32., 33., 34., 34., 33.,\n",
       "         32., 32., 32., 32., 31., 30., 30., 30., 29., 30., 29., 30., 30.,\n",
       "         29., 29., 30., 30., 31., 30., 30., 29., 30., 31., 31., 31., 31.,\n",
       "         31., 31., 32., 32., 33., 33., 34., 34., 35., 36., 36., 36., 37.,\n",
       "         37., 37., 37., 38., 38., 38., 38., 37., 37., 37., 37., 36., 36.,\n",
       "         36., 35., 36., 36., 35., 35., 35., 34., 35., 34., 35., 36., 36.,\n",
       "         36., 36., 37., 36., 35., 36., 36., 37., 38., 38., 38., 38., 37.,\n",
       "         36., 37., 37., 38., 37., 36., 37., 37., 37., 38., 38., 39., 38.,\n",
       "         38., 37., 38., 38., 39., 39., 39., 38., 38., 38., 38., 38., 38.,\n",
       "         38., 38., 39., 39., 39., 40., 40., 40., 40., 39., 38., 37., 37.,\n",
       "         37., 37., 38., 39., 40., 40., 41., 41., 41., 40., 40., 41., 41.,\n",
       "         41., 41., 42., 42., 42., 42., 41., 42., 42., 42., 42., 42., 42.,\n",
       "         42., 43., 43., 42., 43., 43., 43., 43., 43., 43., 43., 43., 43.,\n",
       "         42., 42., 42., 42., 42., 42., 42., 42., 42., 42., 43., 43., 44.,\n",
       "         44., 45., 45., 45., 45., 45., 44., 44., 43., 43., 43., 44., 43.,\n",
       "         43., 42., 42., 43., 43., 43., 43., 44., 44., 44., 43., 43., 43.,\n",
       "         43., 42., 43., 42., 42., 42., 43., 43., 43., 43., 43., 43., 43.,\n",
       "         43., 43., 43., 43.])),\n",
       "  RunResult(time=0.0084306001663208, num_calls=285.0, score=84.0, best=array([1, 1, 0, 1, 1, 0, 1, 1, 0, 0, 1, 1, 0, 1, 1, 1, 1, 1, 0, 1, 1, 1,\n",
       "         1, 1, 1, 1, 1, 1, 1, 0, 1, 1, 0, 0, 1, 1, 1, 1, 1, 0, 1, 1, 0, 1,\n",
       "         1, 1, 1, 1, 1, 1, 1, 1, 1, 1, 1, 1, 1, 1, 1, 0, 1, 1, 1, 0, 1, 1,\n",
       "         1, 1, 1, 1, 1, 1, 1, 1, 1, 1, 1, 1, 1, 1, 0, 1, 1, 1, 1, 1, 1, 1,\n",
       "         1, 0, 0, 1, 1, 1, 1, 1, 1, 1, 1, 1]), curve=array([51., 51., 51., 50., 50., 50., 51., 52., 52., 53., 54., 55., 55.,\n",
       "         54., 53., 53., 53., 52., 51., 52., 53., 53., 52., 53., 53., 52.,\n",
       "         52., 52., 53., 54., 55., 56., 57., 56., 55., 54., 54., 54., 53.,\n",
       "         53., 53., 54., 54., 55., 54., 54., 55., 56., 57., 57., 58., 59.,\n",
       "         60., 59., 60., 60., 59., 60., 61., 62., 63., 64., 65., 66., 66.,\n",
       "         66., 66., 66., 67., 66., 65., 65., 66., 66., 66., 66., 65., 66.,\n",
       "         67., 68., 67., 66., 67., 66., 66., 65., 65., 65., 65., 64., 64.,\n",
       "         64., 65., 65., 66., 66., 66., 66., 66., 67., 67., 68., 68., 69.,\n",
       "         70., 70., 70., 70., 70., 70., 70., 70., 71., 72., 72., 72., 71.,\n",
       "         72., 72., 73., 73., 73., 72., 71., 71., 72., 72., 72., 72., 72.,\n",
       "         73., 74., 74., 75., 76., 76., 75., 75., 76., 76., 77., 77., 77.,\n",
       "         77., 78., 78., 79., 79., 79., 79., 79., 79., 79., 80., 80., 80.,\n",
       "         80., 80., 80., 80., 80., 81., 81., 82., 82., 82., 82., 82., 82.,\n",
       "         82., 83., 83., 83., 84., 83., 83., 83., 83., 83., 84., 84., 84.,\n",
       "         84., 84., 84., 84., 84., 84., 84., 84.])),\n",
       "  RunResult(time=0.009852886199951172, num_calls=335.0, score=123.0, best=array([1, 1, 1, 0, 1, 1, 1, 1, 1, 1, 1, 1, 0, 0, 1, 1, 1, 1, 1, 1, 1, 1,\n",
       "         0, 1, 1, 1, 1, 1, 1, 1, 1, 1, 1, 1, 1, 1, 1, 1, 1, 1, 1, 1, 1, 1,\n",
       "         1, 1, 1, 1, 0, 1, 1, 0, 1, 1, 1, 1, 1, 1, 1, 1, 0, 1, 1, 1, 1, 1,\n",
       "         0, 1, 0, 0, 0, 1, 1, 1, 1, 1, 1, 1, 1, 1, 1, 1, 1, 1, 1, 1, 1, 1,\n",
       "         1, 1, 1, 0, 1, 1, 1, 1, 0, 1, 0, 1, 1, 1, 1, 1, 0, 1, 1, 1, 1, 1,\n",
       "         0, 0, 1, 0, 0, 0, 1, 1, 1, 0, 1, 1, 1, 1, 1, 1, 1, 0, 1, 1, 0, 1,\n",
       "         1, 0, 1, 1, 1, 1, 0, 0, 1, 1, 0, 1, 1, 1, 1, 1, 1, 1]), curve=array([ 71.,  72.,  73.,  72.,  72.,  73.,  74.,  74.,  75.,  74.,  74.,\n",
       "          75.,  76.,  77.,  76.,  75.,  76.,  76.,  77.,  78.,  78.,  79.,\n",
       "          80.,  80.,  81.,  81.,  80.,  81.,  81.,  82.,  83.,  83.,  84.,\n",
       "          84.,  83.,  84.,  83.,  84.,  85.,  84.,  85.,  86.,  86.,  86.,\n",
       "          86.,  87.,  87.,  87.,  87.,  87.,  87.,  86.,  86.,  87.,  86.,\n",
       "          86.,  86.,  86.,  86.,  86.,  86.,  87.,  87.,  88.,  87.,  88.,\n",
       "          87.,  88.,  89.,  89.,  90.,  90.,  90.,  90.,  90.,  90.,  91.,\n",
       "          91.,  92.,  92.,  93.,  93.,  94.,  94.,  93.,  94.,  94.,  94.,\n",
       "          95.,  96.,  96.,  97.,  98.,  97.,  97.,  97.,  98.,  99., 100.,\n",
       "         101., 101., 102., 102., 102., 103., 103., 103., 103., 102., 102.,\n",
       "         101., 101., 102., 103., 103., 103., 104., 104., 104., 105., 105.,\n",
       "         105., 104., 104., 105., 105., 106., 106., 105., 106., 106., 106.,\n",
       "         107., 107., 107., 106., 107., 107., 108., 108., 108., 108., 108.,\n",
       "         108., 108., 108., 109., 109., 110., 110., 110., 110., 110., 110.,\n",
       "         111., 111., 111., 111., 111., 111., 112., 112., 113., 113., 114.,\n",
       "         114., 115., 115., 115., 116., 116., 116., 116., 117., 117., 117.,\n",
       "         118., 118., 118., 118., 118., 118., 118., 117., 116., 116., 116.,\n",
       "         117., 118., 119., 119., 119., 119., 120., 120., 120., 120., 120.,\n",
       "         119., 119., 119., 119., 119., 119., 118., 118., 118., 118., 118.,\n",
       "         117., 117., 117., 117., 118., 118., 118., 118., 117., 117., 117.,\n",
       "         118., 118., 118., 118., 118., 118., 118., 118., 119., 119., 119.,\n",
       "         119., 119., 120., 120., 120., 120., 120., 120., 120., 121., 121.,\n",
       "         121., 121., 121., 121., 121., 121., 122., 122., 122., 122., 123.,\n",
       "         123., 123., 123., 123., 123., 123., 123., 123., 123., 123.]))],\n",
       " [RunResult(time=0.23520290851593018, num_calls=2615.0, score=10.0, best=array([1, 1, 1, 1, 1, 1, 1, 1, 1, 1]), curve=array([10., 10., 10., 10., 10., 10., 10., 10., 10., 10., 10.])),\n",
       "  RunResult(time=0.581830620765686, num_calls=5836.0, score=42.0, best=array([1, 1, 1, 1, 0, 1, 0, 1, 1, 1, 1, 1, 1, 1, 1, 1, 0, 1, 1, 1, 1, 1,\n",
       "         1, 1, 0, 1, 1, 1, 1, 1, 1, 1, 0, 1, 0, 1, 1, 1, 1, 1, 1, 1, 1, 1,\n",
       "         1, 1, 1, 0, 1, 0]), curve=array([33., 34., 36., 36., 36., 38., 38., 38., 38., 38., 39., 39., 39.,\n",
       "         39., 39., 39., 39., 39., 40., 41., 41., 42., 42., 42., 42., 42.,\n",
       "         42., 42., 42., 42., 42., 42.])),\n",
       "  RunResult(time=0.6446354389190674, num_calls=5834.0, score=75.0, best=array([1, 1, 1, 0, 1, 1, 1, 1, 1, 1, 0, 1, 0, 1, 1, 1, 1, 0, 1, 1, 1, 1,\n",
       "         1, 0, 1, 1, 1, 1, 1, 1, 1, 0, 0, 1, 0, 1, 0, 1, 1, 1, 1, 1, 1, 0,\n",
       "         1, 1, 1, 0, 0, 1, 1, 1, 0, 1, 1, 0, 1, 1, 1, 1, 0, 1, 1, 1, 1, 1,\n",
       "         1, 0, 1, 1, 1, 1, 0, 1, 1, 0, 1, 1, 1, 1, 1, 1, 1, 1, 1, 0, 0, 1,\n",
       "         1, 1, 0, 1, 0, 0, 1, 0, 1, 1, 0, 1]), curve=array([64., 67., 67., 67., 75., 75., 75., 75., 75., 75., 75., 75., 75.,\n",
       "         75., 75.])),\n",
       "  RunResult(time=0.5239905118942261, num_calls=4929.5, score=103.0, best=array([1, 0, 1, 0, 1, 1, 0, 1, 0, 0, 1, 1, 1, 1, 1, 1, 0, 1, 0, 0, 1, 1,\n",
       "         1, 1, 1, 0, 1, 0, 0, 0, 1, 1, 1, 1, 1, 1, 1, 1, 1, 1, 1, 1, 1, 0,\n",
       "         1, 1, 1, 0, 0, 0, 1, 0, 1, 1, 0, 1, 0, 1, 1, 0, 1, 0, 1, 1, 0, 1,\n",
       "         0, 1, 0, 0, 0, 1, 1, 1, 0, 0, 1, 1, 1, 1, 1, 1, 1, 1, 1, 0, 1, 0,\n",
       "         1, 0, 1, 0, 1, 1, 1, 1, 1, 1, 1, 1, 0, 0, 0, 0, 1, 0, 0, 1, 1, 0,\n",
       "         1, 0, 0, 1, 0, 1, 1, 1, 1, 1, 1, 1, 0, 1, 1, 1, 1, 1, 1, 1, 0, 1,\n",
       "         1, 1, 0, 1, 1, 1, 1, 1, 1, 1, 0, 1, 1, 0, 1, 1, 1, 1]), curve=array([ 92.,  94.,  94.,  94.,  94., 103., 103., 103., 103., 103., 103.,\n",
       "         103., 103., 103., 103., 103.]))],\n",
       " [RunResult(time=0.7304098606109619, num_calls=2615.0, score=10.0, best=array([1, 1, 1, 1, 1, 1, 1, 1, 1, 1]), curve=array([10., 10., 10., 10., 10., 10., 10., 10., 10., 10., 10.])),\n",
       "  RunResult(time=28.31854796409607, num_calls=4028.0, score=50.0, best=array([1, 1, 1, 1, 1, 1, 1, 1, 1, 1, 1, 1, 1, 1, 1, 1, 1, 1, 1, 1, 1, 1,\n",
       "         1, 1, 1, 1, 1, 1, 1, 1, 1, 1, 1, 1, 1, 1, 1, 1, 1, 1, 1, 1, 1, 1,\n",
       "         1, 1, 1, 1, 1, 1]), curve=array([36., 39., 43., 43., 44., 48., 48., 50., 50., 50., 50., 50., 50.,\n",
       "         50., 50., 50., 50., 50.])),\n",
       "  RunResult(time=151.94920182228088, num_calls=5440.0, score=100.0, best=array([1, 1, 1, 1, 1, 1, 1, 1, 1, 1, 1, 1, 1, 1, 1, 1, 1, 1, 1, 1, 1, 1,\n",
       "         1, 1, 1, 1, 1, 1, 1, 1, 1, 1, 1, 1, 1, 1, 1, 1, 1, 1, 1, 1, 1, 1,\n",
       "         1, 1, 1, 1, 1, 1, 1, 1, 1, 1, 1, 1, 1, 1, 1, 1, 1, 1, 1, 1, 1, 1,\n",
       "         1, 1, 1, 1, 1, 1, 1, 1, 1, 1, 1, 1, 1, 1, 1, 1, 1, 1, 1, 1, 1, 1,\n",
       "         1, 1, 1, 1, 1, 1, 1, 1, 1, 1, 1, 1]), curve=array([ 68.,  69.,  72.,  79.,  79.,  82.,  84.,  87.,  91.,  91.,  94.,\n",
       "          97.,  98.,  99.,  99., 100., 100., 100., 100., 100., 100., 100.,\n",
       "         100., 100., 100., 100.])),\n",
       "  RunResult(time=389.2633180618286, num_calls=6247.0, score=150.0, best=array([1, 1, 1, 1, 1, 1, 1, 1, 1, 1, 1, 1, 1, 1, 1, 1, 1, 1, 1, 1, 1, 1,\n",
       "         1, 1, 1, 1, 1, 1, 1, 1, 1, 1, 1, 1, 1, 1, 1, 1, 1, 1, 1, 1, 1, 1,\n",
       "         1, 1, 1, 1, 1, 1, 1, 1, 1, 1, 1, 1, 1, 1, 1, 1, 1, 1, 1, 1, 1, 1,\n",
       "         1, 1, 1, 1, 1, 1, 1, 1, 1, 1, 1, 1, 1, 1, 1, 1, 1, 1, 1, 1, 1, 1,\n",
       "         1, 1, 1, 1, 1, 1, 1, 1, 1, 1, 1, 1, 1, 1, 1, 1, 1, 1, 1, 1, 1, 1,\n",
       "         1, 1, 1, 1, 1, 1, 1, 1, 1, 1, 1, 1, 1, 1, 1, 1, 1, 1, 1, 1, 1, 1,\n",
       "         1, 1, 1, 1, 1, 1, 1, 1, 1, 1, 1, 1, 1, 1, 1, 1, 1, 1]), curve=array([ 95.,  98., 104., 109., 113., 115., 121., 124., 129., 130., 136.,\n",
       "         138., 140., 142., 144., 148., 148., 149., 149., 150., 150., 150.,\n",
       "         150., 150., 150., 150., 150., 150., 150., 150.]))])"
      ]
     },
     "execution_count": 60,
     "metadata": {},
     "output_type": "execute_result"
    }
   ],
   "source": [
    "rhcs3, sas3, gas3, mim3"
   ]
  },
  {
   "cell_type": "code",
   "execution_count": 61,
   "metadata": {},
   "outputs": [],
   "source": [
    "rhc_score3 = [rhc.score for rhc in rhcs3]\n",
    "sas_score3 =[saas.score for saas in sas3 ]\n",
    "gas_score3 =[gaas.score for gaas in gas3 ]\n",
    "mim_score3 =[mimi.score for mimi in mim3 ]"
   ]
  },
  {
   "cell_type": "code",
   "execution_count": 62,
   "metadata": {},
   "outputs": [
    {
     "data": {
      "text/plain": [
       "[10.0, 50.0, 100.0, 150.0]"
      ]
     },
     "execution_count": 62,
     "metadata": {},
     "output_type": "execute_result"
    }
   ],
   "source": [
    "mim_score3"
   ]
  },
  {
   "cell_type": "code",
   "execution_count": null,
   "metadata": {},
   "outputs": [],
   "source": [
    "# checking for performance of better optimised SA and RHC and using them for further analysis"
   ]
  },
  {
   "cell_type": "code",
   "execution_count": 148,
   "metadata": {},
   "outputs": [
    {
     "name": "stdout",
     "output_type": "stream",
     "text": [
      "10\n",
      "50\n",
      "100\n",
      "150\n"
     ]
    }
   ],
   "source": [
    "sas6, rhcs6= [], []\n",
    "for prob_size in [10, 50, 100, 150]:\n",
    "    runner = Runner(mlrose.OneMax(), prob_size)\n",
    "    print(prob_size)\n",
    "    rhcs6.append(runner.run_agg(mlrose.random_hill_climb, restarts=10,max_attempts=100))\n",
    "    sas6.append(runner.run_agg(mlrose.simulated_annealing, max_attempts=100, schedule=mlrose.GeomDecay()))\n"
   ]
  },
  {
   "cell_type": "code",
   "execution_count": 196,
   "metadata": {},
   "outputs": [
    {
     "data": {
      "text/plain": [
       "(7393.5, 735.5)"
      ]
     },
     "execution_count": 196,
     "metadata": {},
     "output_type": "execute_result"
    }
   ],
   "source": [
    "rhcs6[-1].num_calls, sas6[-1].num_calls"
   ]
  },
  {
   "cell_type": "code",
   "execution_count": 197,
   "metadata": {},
   "outputs": [
    {
     "data": {
      "text/plain": [
       "(6247.0, 4929.5)"
      ]
     },
     "execution_count": 197,
     "metadata": {},
     "output_type": "execute_result"
    }
   ],
   "source": [
    "mim3[-1].num_calls, gas3[-1].num_calls"
   ]
  },
  {
   "cell_type": "code",
   "execution_count": 195,
   "metadata": {},
   "outputs": [
    {
     "data": {
      "text/plain": [
       "510"
      ]
     },
     "execution_count": 195,
     "metadata": {},
     "output_type": "execute_result"
    }
   ],
   "source": [
    "len(sas6[-1].curve)"
   ]
  },
  {
   "cell_type": "code",
   "execution_count": 198,
   "metadata": {},
   "outputs": [
    {
     "data": {
      "text/plain": [
       "30"
      ]
     },
     "execution_count": 198,
     "metadata": {},
     "output_type": "execute_result"
    }
   ],
   "source": [
    "len(mim3[-1].curve)"
   ]
  },
  {
   "cell_type": "code",
   "execution_count": 149,
   "metadata": {},
   "outputs": [],
   "source": [
    "sas_score6 =[saas.score for saas in sas6 ]\n",
    "rhc_score6 = [rhc.score for rhc in rhcs6]"
   ]
  },
  {
   "cell_type": "code",
   "execution_count": null,
   "metadata": {},
   "outputs": [],
   "source": [
    "# checking fitness value for RO algorithms"
   ]
  },
  {
   "cell_type": "code",
   "execution_count": 150,
   "metadata": {},
   "outputs": [
    {
     "data": {
      "text/plain": [
       "<matplotlib.legend.Legend at 0x124086490>"
      ]
     },
     "execution_count": 150,
     "metadata": {},
     "output_type": "execute_result"
    },
    {
     "data": {
      "image/png": "[encoded data removed]",
      "text/plain": [
       "<Figure size 360x216 with 1 Axes>"
      ]
     },
     "metadata": {
      "needs_background": "light"
     },
     "output_type": "display_data"
    }
   ],
   "source": [
    "plt.figure(figsize=(5,3))\n",
    "plt.plot(problem_size,rhc_score5, 'o-',color='r', label='RH')\n",
    "plt.plot(problem_size,sas_score5, 'o-',color='b', label='SA')\n",
    "plt.plot(problem_size,gas_score3, 'o-',color='k', label='GA')\n",
    "plt.plot(problem_size,mim_score3, 'o-',color='g', label='MIMIC')\n",
    "plt.ylabel('Fitness value',fontsize=12)\n",
    "plt.xlabel('Problem size',fontsize=12)\n",
    "plt.legend(loc='best',fontsize=10)"
   ]
  },
  {
   "cell_type": "code",
   "execution_count": null,
   "metadata": {},
   "outputs": [],
   "source": [
    "# checking number of calls for RO algorithms"
   ]
  },
  {
   "cell_type": "code",
   "execution_count": 151,
   "metadata": {},
   "outputs": [],
   "source": [
    "rhc_num_calls6 = [rhc.num_calls for rhc in rhcs6]\n",
    "sas_num_calls6=[saas.num_calls for saas in sas6 ]\n",
    "gas_num_calls3=[gaas.num_calls for gaas in gas3 ]\n",
    "mim_num_calls3=[mimi.num_calls for mimi in mim3 ]"
   ]
  },
  {
   "cell_type": "code",
   "execution_count": 154,
   "metadata": {},
   "outputs": [
    {
     "data": {
      "text/plain": [
       "<matplotlib.legend.Legend at 0x1263cce10>"
      ]
     },
     "execution_count": 154,
     "metadata": {},
     "output_type": "execute_result"
    },
    {
     "data": {
      "image/png": "[encoded data removed]",
      "text/plain": [
       "<Figure size 360x216 with 1 Axes>"
      ]
     },
     "metadata": {
      "needs_background": "light"
     },
     "output_type": "display_data"
    }
   ],
   "source": [
    "plt.figure(figsize=(5,3))\n",
    "plt.plot(problem_size,rhc_num_calls6, 'o-', color='r', label='RH')\n",
    "plt.plot(problem_size,sas_num_calls6,'o-', color='b', label='SA')\n",
    "plt.plot(problem_size,gas_num_calls3,'o-', color='k', label='GA')\n",
    "plt.plot(problem_size,mim_num_calls3,'o-', color='g', label='MIMIC')\n",
    "plt.ylabel('Number of function calls',fontsize=12)\n",
    "plt.xlabel('Problem size',fontsize=12)\n",
    "plt.legend(loc='best',fontsize=10)"
   ]
  },
  {
   "cell_type": "code",
   "execution_count": null,
   "metadata": {},
   "outputs": [],
   "source": [
    "# checking time taken for RO algorithms"
   ]
  },
  {
   "cell_type": "code",
   "execution_count": 155,
   "metadata": {},
   "outputs": [],
   "source": [
    "rhc_time6 = [rhc.time for rhc in rhcs6]\n",
    "sas_time6=[saas.time for saas in sas6 ]\n",
    "gas_time3=[gaas.time for gaas in gas3 ]\n",
    "mim_time3=[mimi.time for mimi in mim3 ]"
   ]
  },
  {
   "cell_type": "code",
   "execution_count": 156,
   "metadata": {},
   "outputs": [
    {
     "data": {
      "image/png": "[encoded data removed]",
      "text/plain": [
       "<Figure size 360x216 with 1 Axes>"
      ]
     },
     "metadata": {
      "needs_background": "light"
     },
     "output_type": "display_data"
    }
   ],
   "source": [
    "plt.figure(figsize=(5,3))\n",
    "plt.plot(problem_size,rhc_time6, 'o-', color='r', label='RH')\n",
    "plt.plot(problem_size,sas_time6,'o-', color='b', label='SA')\n",
    "plt.plot(problem_size,gas_time3,'o-', color='k', label='GA')\n",
    "plt.plot(problem_size,mim_time3,'o-', color='g', label='MIMIC')\n",
    "plt.ylabel('Time Taken (s)',fontsize=12)\n",
    "plt.xlabel('Problem size',fontsize=12)\n",
    "plt.legend(loc='upper left',fontsize=10)\n",
    "plt.yscale('log')"
   ]
  },
  {
   "cell_type": "code",
   "execution_count": null,
   "metadata": {},
   "outputs": [],
   "source": [
    "# checking number of iterations for RO algorithms"
   ]
  },
  {
   "cell_type": "code",
   "execution_count": 157,
   "metadata": {},
   "outputs": [],
   "source": [
    "rhc_iter6 = [len(rhc.curve) for rhc in rhcs6]\n",
    "sas_iter6=[len(saas.curve) for saas in sas6 ]\n",
    "gas_iter3=[len(gaas.curve) for gaas in gas3 ]\n",
    "mim_iter3=[len(mimi.curve) for mimi in mim3]"
   ]
  },
  {
   "cell_type": "code",
   "execution_count": 158,
   "metadata": {},
   "outputs": [
    {
     "data": {
      "image/png": "[encoded data removed]",
      "text/plain": [
       "<Figure size 360x216 with 1 Axes>"
      ]
     },
     "metadata": {
      "needs_background": "light"
     },
     "output_type": "display_data"
    }
   ],
   "source": [
    "plt.figure(figsize=(5,3))\n",
    "plt.plot(problem_size,rhc_iter5, 'o-', color='r', label='RH')\n",
    "plt.plot(problem_size,sas_iter5,'o-', color='b', label='SA')\n",
    "plt.plot(problem_size,gas_iter3,'o-', color='k', label='GA')\n",
    "plt.plot(problem_size,mim_iter3,'o-', color='g', label='MIMIC')\n",
    "plt.ylabel('Number of iterations',fontsize=12)\n",
    "plt.xlabel('Problem size',fontsize=12)\n",
    "plt.legend(loc='upper left',fontsize=10)\n",
    "plt.yscale('log')"
   ]
  },
  {
   "cell_type": "code",
   "execution_count": 159,
   "metadata": {},
   "outputs": [
    {
     "data": {
      "text/plain": [
       "<matplotlib.legend.Legend at 0x123f59a90>"
      ]
     },
     "execution_count": 159,
     "metadata": {},
     "output_type": "execute_result"
    },
    {
     "data": {
      "image/png": "[encoded data removed]",
      "text/plain": [
       "<Figure size 360x216 with 1 Axes>"
      ]
     },
     "metadata": {
      "needs_background": "light"
     },
     "output_type": "display_data"
    }
   ],
   "source": [
    "plt.figure(figsize=(5,3))\n",
    "#plt.plot(rhcs3[3].curve, color='r', label='SA')\n",
    "plt.plot(sas6[3].curve, color='b', label='SA')\n",
    "plt.plot(gas3[3].curve, color='k', label='GA')\n",
    "plt.plot(mim3[3].curve, color='g', label='MIMIC')\n",
    "plt.ylabel('Fitness value',fontsize=12)\n",
    "plt.xlabel('Number of iterations',fontsize=12)\n",
    "plt.legend(loc='lower right',fontsize=10)"
   ]
  },
  {
   "cell_type": "code",
   "execution_count": 181,
   "metadata": {},
   "outputs": [
    {
     "data": {
      "image/png": "[encoded data removed]",
      "text/plain": [
       "<Figure size 360x216 with 1 Axes>"
      ]
     },
     "metadata": {
      "needs_background": "light"
     },
     "output_type": "display_data"
    }
   ],
   "source": [
    "plt.figure(figsize=(5,3))\n",
    "#plt.plot(rhcs3[3].curve, color='r', label='SA')\n",
    "plt.plot(sas6[3].curve, color='b', label='SA')\n",
    "plt.plot(gas3[3].curve, color='k', label='GA')\n",
    "plt.plot(mim3[3].curve, color='g', label='MIMIC')\n",
    "plt.ylabel('Fitness value',fontsize=12)\n",
    "plt.xlabel('Number of iterations',fontsize=12)\n",
    "plt.legend(loc='lower right',fontsize=10)\n",
    "plt.xscale('log')"
   ]
  },
  {
   "cell_type": "code",
   "execution_count": 161,
   "metadata": {},
   "outputs": [
    {
     "data": {
      "text/plain": [
       "<matplotlib.legend.Legend at 0x106a05bd0>"
      ]
     },
     "execution_count": 161,
     "metadata": {},
     "output_type": "execute_result"
    },
    {
     "data": {
      "image/png": "[encoded data removed]",
      "text/plain": [
       "<Figure size 360x216 with 1 Axes>"
      ]
     },
     "metadata": {
      "needs_background": "light"
     },
     "output_type": "display_data"
    }
   ],
   "source": [
    "plt.figure(figsize=(5,3))\n",
    "#plt.plot(rhcs3[3].curve, color='r', label='SA')\n",
    "plt.plot(sas6[3].curve, color='b', label='SA')\n",
    "plt.plot(rhcs6[3].curve, color='r', label='RH')\n",
    "plt.plot(gas3[3].curve, color='k', label='GA')\n",
    "plt.plot(mim3[3].curve, color='g', label='MIMIC')\n",
    "plt.ylabel('Fitness value',fontsize=12)\n",
    "plt.xlabel('Number of iterations',fontsize=12)\n",
    "plt.legend(loc='lower right',fontsize=10)"
   ]
  },
  {
   "cell_type": "code",
   "execution_count": null,
   "metadata": {},
   "outputs": [],
   "source": []
  }
 ],
 "metadata": {
  "kernelspec": {
   "display_name": "Python 3",
   "language": "python",
   "name": "python3"
  },
  "language_info": {
   "codemirror_mode": {
    "name": "ipython",
    "version": 3
   },
   "file_extension": ".py",
   "mimetype": "text/x-python",
   "name": "python",
   "nbconvert_exporter": "python",
   "pygments_lexer": "ipython3",
   "version": "3.7.6"
  }
 },
 "nbformat": 4,
 "nbformat_minor": 4
}
