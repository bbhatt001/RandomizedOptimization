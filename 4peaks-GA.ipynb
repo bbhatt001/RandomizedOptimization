{
 "cells": [
  {
   "cell_type": "code",
   "execution_count": 1,
   "metadata": {},
   "outputs": [],
   "source": [
    "# mlrose dependency workaround: https://stackoverflow.com/a/62354885\n",
    "import six\n",
    "import sys\n",
    "sys.modules['sklearn.externals.six'] = six\n",
    "\n",
    "from dataclasses import dataclass\n",
    "from matplotlib import pyplot as plt\n",
    "import mlrose\n",
    "import multiprocessing as mp\n",
    "import numpy as np\n",
    "import pandas as pd\n",
    "import time\n",
    "from typing import Iterable\n",
    "\n",
    "random_state = 42"
   ]
  },
  {
   "cell_type": "code",
   "execution_count": 2,
   "metadata": {},
   "outputs": [],
   "source": [
    "class Fitness(object):\n",
    "    def __init__(self, fitness):\n",
    "        self.fitness = fitness\n",
    "        self.count_calls = 0\n",
    "    def evaluate(self, state):\n",
    "        self.count_calls += 1\n",
    "        return self.fitness.evaluate(state)\n",
    "    def get_prob_type(self):\n",
    "        return self.fitness.get_prob_type()\n",
    "    \n",
    "@dataclass\n",
    "class RunResult:\n",
    "    time: float\n",
    "    num_calls: int\n",
    "    score: float\n",
    "    best: Iterable = None\n",
    "    curve: Iterable = None\n",
    "    \n",
    "    \n",
    "def run_helper(args):\n",
    "    runner, alg, kwargs = args\n",
    "    return runner.run(alg, **kwargs) \n",
    "\n",
    "class Runner(object):\n",
    "    def __init__(self, fitness, size):\n",
    "        self.fitness = Fitness(fitness)\n",
    "        self.size = size\n",
    "        self.problem = mlrose.DiscreteOpt(size, self.fitness)\n",
    "        \n",
    "    def run(self, alg, **kwargs):\n",
    "        self.fitness.count_calls = 0\n",
    "        start = time.time()\n",
    "        best, score, curve = alg(self.problem, curve=True, **kwargs)\n",
    "        end = time.time()\n",
    "        return RunResult(time=end-start, num_calls=self.fitness.count_calls, best=best,\n",
    "                         score=score, curve=curve)\n",
    "    \n",
    "    def run_agg(self, alg, count=20, **kwargs):\n",
    "        results = [self.run(alg, **kwargs) for _ in range(count)]\n",
    "        #pool = mp.Pool()\n",
    "        #results = pool.map(run_helper, [(self, alg, kwargs)] * count)\n",
    "        times = [res.time for res in results]\n",
    "        calls = [res.num_calls for res in results]\n",
    "        scores = [res.score for res in results]\n",
    "        med_idx = scores.index(np.percentile(scores,50,interpolation='nearest'))\n",
    "        return RunResult(time=np.median(times), num_calls=np.median(calls), score=scores[med_idx],\n",
    "                         best=results[med_idx].best, curve=results[med_idx].curve)\n"
   ]
  },
  {
   "cell_type": "code",
   "execution_count": 3,
   "metadata": {},
   "outputs": [
    {
     "data": {
      "text/plain": [
       "{'divide': 'warn', 'over': 'warn', 'under': 'ignore', 'invalid': 'warn'}"
      ]
     },
     "execution_count": 3,
     "metadata": {},
     "output_type": "execute_result"
    }
   ],
   "source": [
    " np.seterr(over='ignore' )"
   ]
  },
  {
   "cell_type": "code",
   "execution_count": 4,
   "metadata": {},
   "outputs": [
    {
     "name": "stdout",
     "output_type": "stream",
     "text": [
      "20\n",
      "40\n",
      "60\n",
      "80\n",
      "100\n"
     ]
    }
   ],
   "source": [
    "#checking problem size with default settings of random optimization algorithms\n",
    "rhcs, sas, gas = [], [], []\n",
    "for prob_size in [20, 40, 60, 80,100]:\n",
    "    runner = Runner(mlrose.FourPeaks(), prob_size)\n",
    "    print(prob_size)\n",
    "    rhcs.append(runner.run_agg(mlrose.random_hill_climb, restarts=10))\n",
    "    sas.append(runner.run_agg(mlrose.simulated_annealing))\n",
    "    gas.append(runner.run_agg(mlrose.genetic_alg, pop_size=200, mutation_prob=0.1))\n",
    "    "
   ]
  },
  {
   "cell_type": "code",
   "execution_count": 5,
   "metadata": {},
   "outputs": [
    {
     "data": {
      "text/plain": [
       "([RunResult(time=0.008320927619934082, num_calls=187.5, score=27.0, best=array([1, 1, 1, 1, 1, 1, 1, 0, 1, 0, 1, 1, 0, 1, 1, 0, 1, 0, 0, 0]), curve=array([ 0.,  0.,  0.,  0.,  0.,  0.,  0.,  0.,  0.,  0.,  2.,  2.,  2.,\n",
       "          2.,  2.,  2.,  3.,  3.,  3.,  3.,  3.,  3.,  3.,  3.,  3.,  3.,\n",
       "          3.,  1.,  1.,  1.,  1.,  1.,  1.,  1.,  1.,  1.,  1.,  2.,  2.,\n",
       "          2.,  2.,  2.,  2.,  2.,  2.,  2.,  2.,  2.,  2.,  5.,  8.,  8.,\n",
       "          8.,  8.,  8.,  8.,  8.,  8.,  8.,  8.,  8.,  3.,  3.,  3.,  3.,\n",
       "          3., 27., 27., 27., 27., 27., 27., 27., 27., 27., 27., 27.,  1.,\n",
       "          1.,  1.,  1.,  1.,  1.,  1.,  1.,  1.,  1.,  1.,  1.,  1.,  1.,\n",
       "          1.,  1.,  1.,  1.,  4., 24., 24., 24., 24., 24., 24., 24., 24.,\n",
       "         24., 24., 24.,  3.,  3.,  3.,  3.,  3.,  3.,  5.,  5.,  5.,  5.,\n",
       "          5.,  5.,  5.,  5.,  5.,  5.,  5.,  0.,  0.,  0.,  0.,  0.,  0.,\n",
       "          0.,  0.,  0.,  0.,  1.,  3.,  3.,  3.,  3.,  3.,  3.,  3.,  3.,\n",
       "          3.,  3.,  3.])),\n",
       "  RunResult(time=0.006673097610473633, num_calls=146.5, score=8.0, best=array([1, 1, 0, 1, 1, 1, 1, 1, 1, 0, 0, 1, 1, 1, 1, 0, 1, 0, 0, 1, 0, 0,\n",
       "         0, 0, 1, 1, 1, 1, 1, 0, 1, 1, 0, 0, 0, 0, 0, 0, 0, 0]), curve=array([6., 6., 6., 7., 7., 7., 7., 7., 7., 7., 7., 8., 8., 8., 8., 8., 8.,\n",
       "         8., 8., 8., 8., 8., 1., 1., 1., 1., 1., 1., 1., 1., 1., 1., 0., 0.,\n",
       "         0., 0., 0., 0., 0., 0., 0., 0., 0., 0., 0., 0., 0., 0., 0., 0., 0.,\n",
       "         0., 3., 3., 3., 3., 3., 3., 3., 3., 3., 3., 3., 3., 3., 3., 3., 3.,\n",
       "         3., 3., 3., 3., 1., 1., 1., 1., 1., 1., 1., 1., 1., 1., 6., 6., 6.,\n",
       "         6., 6., 6., 6., 7., 7., 7., 7., 7., 7., 7., 7., 7., 7., 7., 0., 0.,\n",
       "         0., 0., 2., 2., 2., 2., 2., 2., 2., 2., 2., 2., 2., 1., 1., 1., 1.,\n",
       "         1., 1., 1., 1., 1., 1., 0., 0., 0., 0., 0., 0., 0., 3., 3., 3., 3.,\n",
       "         3., 3., 3., 3., 3., 3., 3.])),\n",
       "  RunResult(time=0.005852937698364258, num_calls=138.0, score=6.0, best=array([0, 0, 1, 0, 0, 1, 1, 0, 0, 1, 0, 1, 1, 1, 1, 0, 1, 0, 1, 1, 1, 0,\n",
       "         0, 0, 0, 0, 0, 1, 0, 1, 1, 1, 0, 0, 0, 1, 0, 1, 0, 0, 0, 0, 0, 0,\n",
       "         1, 1, 1, 1, 1, 0, 1, 1, 1, 1, 0, 0, 0, 0, 0, 0]), curve=array([1., 1., 1., 1., 1., 1., 1., 1., 1., 1., 0., 0., 1., 1., 1., 1., 1.,\n",
       "         1., 3., 3., 3., 3., 3., 3., 3., 3., 3., 3., 3., 3., 3., 3., 3., 3.,\n",
       "         3., 3., 3., 3., 3., 0., 0., 0., 0., 0., 0., 0., 0., 0., 0., 2., 2.,\n",
       "         2., 2., 2., 2., 2., 2., 2., 2., 1., 1., 1., 1., 1., 1., 1., 1., 1.,\n",
       "         1., 0., 0., 0., 0., 0., 0., 0., 6., 6., 6., 6., 6., 6., 6., 6., 6.,\n",
       "         6., 6., 0., 0., 0., 0., 0., 0., 0., 0., 0., 0., 4., 4., 4., 6., 6.,\n",
       "         6., 6., 6., 6., 6., 6., 6., 6., 6., 2., 2., 2., 2., 2., 2., 2., 2.,\n",
       "         2., 2., 2., 2., 2., 2., 2., 2., 2., 2., 2., 2.])),\n",
       "  RunResult(time=0.006942033767700195, num_calls=137.0, score=5.0, best=array([1, 0, 1, 1, 0, 0, 1, 1, 0, 1, 1, 1, 0, 0, 1, 1, 0, 1, 0, 0, 1, 1,\n",
       "         0, 1, 1, 1, 1, 1, 0, 0, 0, 1, 0, 0, 1, 1, 0, 0, 1, 1, 1, 1, 1, 1,\n",
       "         0, 0, 0, 0, 1, 0, 1, 1, 0, 1, 0, 0, 1, 1, 1, 0, 1, 0, 1, 1, 1, 0,\n",
       "         1, 1, 0, 0, 0, 1, 0, 1, 1, 0, 0, 0, 0, 0]), curve=array([2., 2., 2., 2., 2., 2., 2., 2., 2., 2., 1., 1., 1., 1., 1., 1., 1.,\n",
       "         1., 1., 1., 0., 0., 0., 0., 0., 0., 0., 0., 0., 0., 1., 1., 1., 1.,\n",
       "         1., 1., 1., 1., 1., 1., 1., 1., 1., 1., 1., 1., 2., 2., 2., 2., 2.,\n",
       "         2., 2., 2., 2., 2., 2., 1., 1., 1., 1., 1., 1., 1., 1., 1., 1., 5.,\n",
       "         5., 5., 5., 5., 5., 5., 5., 5., 5., 2., 2., 2., 2., 2., 2., 2., 2.,\n",
       "         2., 2., 0., 0., 0., 0., 0., 0., 0., 0., 0., 0., 3., 3., 3., 3., 3.,\n",
       "         3., 3., 3., 3., 3., 0., 0., 0., 0., 0., 0., 0., 0., 0., 0.])),\n",
       "  RunResult(time=0.006365656852722168, num_calls=128.0, score=5.0, best=array([1, 1, 1, 1, 1, 0, 1, 1, 1, 1, 0, 1, 0, 0, 0, 1, 0, 1, 0, 1, 0, 1,\n",
       "         0, 0, 1, 0, 0, 1, 1, 0, 0, 0, 0, 1, 1, 0, 1, 0, 0, 1, 0, 1, 1, 1,\n",
       "         1, 1, 0, 0, 0, 1, 0, 0, 0, 0, 1, 1, 1, 1, 1, 1, 0, 0, 0, 0, 0, 1,\n",
       "         0, 0, 0, 1, 0, 0, 1, 0, 1, 0, 1, 0, 1, 1, 0, 0, 1, 1, 1, 0, 0, 1,\n",
       "         1, 0, 0, 1, 0, 0, 0, 1, 0, 1, 1, 1]), curve=array([1., 1., 1., 1., 1., 1., 1., 1., 1., 1., 1., 1., 1., 1., 1., 1., 1.,\n",
       "         1., 1., 1., 1., 1., 1., 1., 1., 1., 1., 1., 1., 1., 5., 5., 5., 5.,\n",
       "         5., 5., 5., 5., 5., 5., 0., 0., 0., 0., 0., 0., 0., 0., 0., 0., 1.,\n",
       "         1., 1., 1., 1., 1., 1., 1., 1., 1., 2., 2., 2., 4., 4., 4., 4., 4.,\n",
       "         4., 4., 4., 4., 4., 4., 0., 0., 0., 0., 0., 0., 0., 0., 0., 0., 2.,\n",
       "         2., 2., 2., 2., 2., 2., 2., 2., 2., 0., 0., 0., 0., 0., 0., 0., 0.,\n",
       "         0., 1., 1., 1., 1., 1., 1., 1., 1., 1., 1., 1., 3., 3., 3., 3., 3.,\n",
       "         3., 3., 3., 3., 3.]))],\n",
       " [RunResult(time=0.010012507438659668, num_calls=195.5, score=34.0, best=array([1, 1, 1, 0, 1, 1, 0, 0, 0, 0, 0, 0, 0, 0, 0, 0, 0, 0, 0, 0]), curve=array([ 3.,  3.,  2.,  2.,  2.,  2.,  3.,  3.,  3.,  3.,  3.,  3.,  3.,\n",
       "          3.,  3.,  3.,  3.,  3.,  3.,  3.,  3.,  3.,  3.,  3.,  3.,  3.,\n",
       "          3.,  3.,  3.,  3.,  3.,  3.,  3.,  3.,  4.,  3.,  3.,  3.,  3.,\n",
       "          3.,  3.,  3.,  3.,  3.,  3.,  3.,  3.,  3.,  3.,  3.,  3.,  3.,\n",
       "          3.,  3.,  3.,  3.,  3.,  3.,  3.,  3.,  3.,  3.,  3., 23., 23.,\n",
       "         23., 23., 23., 24., 24., 24., 24., 24., 24., 24., 24., 24., 26.,\n",
       "         26., 26., 26., 26., 26., 26., 26., 26., 30., 32., 32., 32., 32.,\n",
       "         32., 32., 32., 32., 32., 32., 33., 33., 33., 33., 33., 33., 33.,\n",
       "         33., 33., 33., 33., 34., 34., 34., 34., 34., 34., 34., 34., 34.,\n",
       "         34., 34.])),\n",
       "  RunResult(time=0.04440867900848389, num_calls=857.0, score=63.0, best=array([1, 1, 1, 1, 1, 0, 1, 1, 1, 1, 0, 0, 1, 0, 0, 0, 1, 0, 0, 0, 0, 0,\n",
       "         0, 0, 0, 0, 0, 0, 0, 0, 0, 0, 0, 0, 0, 0, 0, 0, 0, 0]), curve=array([ 0.,  0.,  0.,  0.,  0.,  0.,  0.,  0.,  0.,  0.,  0.,  0.,  0.,\n",
       "          1.,  1.,  1.,  1.,  1.,  1.,  1.,  1.,  1.,  1.,  1.,  1.,  1.,\n",
       "          1.,  1.,  1.,  1.,  1.,  1.,  2.,  2.,  2.,  2.,  2.,  2.,  2.,\n",
       "          2.,  2.,  2.,  2.,  2.,  2.,  2.,  2.,  2.,  2.,  2.,  2.,  2.,\n",
       "          2.,  2.,  2.,  2.,  2.,  2.,  2.,  2.,  2.,  2.,  2.,  6.,  6.,\n",
       "          6.,  6.,  6.,  6.,  6.,  6.,  6.,  6.,  6.,  6.,  7.,  7.,  7.,\n",
       "          7.,  7.,  7.,  7.,  7.,  7.,  7.,  7.,  7.,  7.,  8.,  8.,  8.,\n",
       "          8.,  8.,  8.,  8.,  8.,  8.,  8.,  8.,  8.,  8.,  8.,  8.,  8.,\n",
       "          8.,  8.,  8.,  8.,  8.,  8.,  8.,  8.,  8.,  8.,  8.,  8.,  8.,\n",
       "          8.,  8.,  8.,  8.,  8.,  8.,  8.,  8.,  8.,  8.,  8.,  8.,  8.,\n",
       "          8.,  8.,  8.,  8.,  8.,  8.,  8.,  8.,  8.,  8.,  8.,  8.,  8.,\n",
       "          8.,  8.,  8.,  8.,  8.,  8.,  8.,  8.,  8.,  8.,  8.,  8.,  8.,\n",
       "          8.,  8.,  8.,  8.,  8.,  8.,  8.,  8.,  8.,  8.,  8.,  8.,  8.,\n",
       "          8.,  8.,  8.,  8.,  8.,  8.,  8.,  8.,  8.,  8.,  8.,  8.,  8.,\n",
       "          8.,  8.,  8.,  8.,  8.,  8.,  8.,  8.,  8.,  8.,  8.,  8.,  8.,\n",
       "          8.,  8.,  8.,  8.,  8.,  8.,  8.,  8.,  8.,  8.,  8.,  8.,  8.,\n",
       "          8.,  8.,  8.,  8.,  8.,  8.,  8.,  8.,  8.,  8., 48., 48., 48.,\n",
       "         48., 48., 48., 48., 48., 48., 48., 48., 48., 48., 50., 50., 50.,\n",
       "         50., 50., 50., 50., 50., 50., 50., 50., 50., 50., 50., 50., 50.,\n",
       "         50., 50., 50., 50., 50., 50., 50., 50., 50., 50., 50., 52., 52.,\n",
       "         52., 52., 52., 52., 52., 52., 52., 52., 52., 52., 52., 52., 52.,\n",
       "         52., 52., 52., 52., 52., 52., 52., 52., 52., 52., 52., 52., 52.,\n",
       "         52., 52., 52., 52., 52., 52., 52., 52., 52., 52., 52., 52., 52.,\n",
       "         52., 52., 52., 52., 52., 52., 52., 52., 52., 52., 52., 52., 52.,\n",
       "         52., 52., 52., 52., 52., 52., 52., 52., 52., 52., 52., 52., 52.,\n",
       "         52., 52., 52., 52., 52., 52., 52., 52., 52., 52., 52., 52., 52.,\n",
       "         52., 52., 52., 52., 52., 52., 52., 52., 52., 52., 52., 52., 52.,\n",
       "         56., 56., 56., 56., 56., 56., 56., 56., 56., 56., 56., 56., 56.,\n",
       "         56., 56., 56., 56., 56., 56., 56., 56., 56., 56., 56., 56., 56.,\n",
       "         56., 56., 56., 56., 56., 57., 57., 57., 57., 57., 57., 57., 57.,\n",
       "         57., 57., 57., 57., 57., 58., 58., 58., 58., 58., 58., 58., 58.,\n",
       "         58., 58., 58., 58., 58., 58., 58., 58., 58., 58., 58., 58., 58.,\n",
       "         58., 58., 58., 58., 58., 58., 58., 58., 58., 58., 60., 60., 60.,\n",
       "         60., 60., 60., 60., 60., 60., 60., 60., 60., 60., 60., 60., 60.,\n",
       "         60., 60., 60., 60., 60., 60., 60., 60., 60., 60., 60., 60., 60.,\n",
       "         60., 60., 60., 60., 60., 60., 60., 60., 60., 60., 60., 60., 60.,\n",
       "         60., 60., 60., 60., 60., 60., 60., 60., 60., 60., 60., 60., 60.,\n",
       "         60., 60., 60., 60., 60., 60., 60., 60., 60., 61., 61., 61., 61.,\n",
       "         61., 61., 61., 61., 61., 61., 61., 61., 61., 61., 61., 61., 61.,\n",
       "         61., 61., 61., 61., 61., 61., 61., 61., 61., 61., 61., 61., 61.,\n",
       "         61., 61., 61., 61., 61., 61., 61., 61., 61., 61., 61., 61., 61.,\n",
       "         62., 62., 62., 62., 62., 62., 62., 62., 62., 62., 62., 62., 62.,\n",
       "         62., 62., 62., 62., 62., 62., 62., 62., 62., 62., 63., 63., 63.,\n",
       "         63., 63., 63., 63., 63., 63., 63., 63.])),\n",
       "  RunResult(time=0.08149242401123047, num_calls=1633.0, score=49.0, best=array([1, 1, 1, 1, 1, 1, 1, 1, 1, 1, 1, 1, 1, 1, 1, 1, 1, 1, 1, 1, 1, 1,\n",
       "         1, 1, 1, 1, 1, 1, 1, 1, 1, 1, 1, 1, 1, 1, 1, 1, 1, 1, 1, 1, 1, 1,\n",
       "         1, 1, 1, 1, 1, 0, 0, 1, 1, 1, 0, 1, 0, 0, 1, 1]), curve=array([ 1.,  1.,  1., ..., 49., 49., 49.])),\n",
       "  RunResult(time=0.205794095993042, num_calls=3274.0, score=58.0, best=array([1, 0, 1, 1, 1, 1, 0, 1, 1, 0, 1, 0, 0, 1, 1, 0, 0, 0, 1, 0, 1, 1,\n",
       "         0, 0, 0, 0, 0, 0, 0, 0, 0, 0, 0, 0, 0, 0, 0, 0, 0, 0, 0, 0, 0, 0,\n",
       "         0, 0, 0, 0, 0, 0, 0, 0, 0, 0, 0, 0, 0, 0, 0, 0, 0, 0, 0, 0, 0, 0,\n",
       "         0, 0, 0, 0, 0, 0, 0, 0, 0, 0, 0, 0, 0, 0]), curve=array([ 3.,  3.,  3., ..., 58., 58., 58.])),\n",
       "  RunResult(time=0.39616692066192627, num_calls=4406.0, score=61.0, best=array([1, 1, 1, 1, 1, 1, 1, 1, 1, 1, 1, 1, 1, 1, 1, 1, 1, 1, 1, 1, 1, 1,\n",
       "         1, 1, 1, 1, 1, 1, 1, 1, 1, 1, 1, 1, 1, 1, 1, 1, 1, 1, 1, 1, 1, 1,\n",
       "         1, 1, 1, 1, 1, 1, 1, 1, 1, 1, 1, 1, 1, 1, 1, 1, 1, 0, 0, 0, 0, 0,\n",
       "         1, 1, 0, 0, 1, 0, 1, 0, 0, 0, 1, 1, 1, 0, 1, 0, 0, 1, 1, 1, 0, 0,\n",
       "         1, 1, 1, 0, 0, 0, 0, 1, 1, 0, 1, 1]), curve=array([ 1.,  1.,  1., ..., 61., 61., 61.]))],\n",
       " [RunResult(time=0.7904635667800903, num_calls=3421.5, score=34.0, best=array([1, 1, 1, 1, 1, 1, 1, 1, 1, 1, 1, 1, 1, 1, 0, 0, 0, 0, 0, 0]), curve=array([28., 29., 31., 31., 31., 32., 32., 32., 32., 32., 32., 32., 33.,\n",
       "         33., 33., 33., 33., 33., 34., 34., 34., 34., 34., 34., 34., 34.,\n",
       "         34., 34., 34.])),\n",
       "  RunResult(time=0.7380229234695435, num_calls=3723.5, score=57.0, best=array([1, 1, 1, 1, 1, 1, 1, 1, 0, 0, 0, 0, 0, 1, 1, 0, 0, 0, 0, 1, 1, 0,\n",
       "         1, 0, 0, 0, 0, 0, 0, 0, 0, 0, 0, 0, 0, 0, 0, 0, 0, 0]), curve=array([52., 52., 54., 54., 54., 54., 54., 55., 55., 57., 57., 57., 57.,\n",
       "         57., 57., 57., 57., 57., 57., 57.])),\n",
       "  RunResult(time=1.0665639638900757, num_calls=5132.0, score=77.0, best=array([1, 1, 1, 1, 1, 1, 1, 0, 1, 1, 1, 0, 1, 1, 0, 0, 1, 1, 0, 0, 0, 1,\n",
       "         1, 1, 0, 1, 0, 0, 1, 0, 1, 1, 1, 0, 0, 0, 1, 1, 0, 0, 1, 0, 1, 0,\n",
       "         0, 0, 0, 0, 0, 0, 0, 0, 0, 0, 0, 0, 0, 0, 0, 0]), curve=array([69., 71., 71., 74., 74., 74., 74., 74., 74., 74., 77., 77., 77.,\n",
       "         77., 77., 77., 77., 77., 77., 77., 77.])),\n",
       "  RunResult(time=1.532931923866272, num_calls=5434.0, score=98.0, best=array([1, 1, 1, 1, 1, 1, 1, 1, 1, 1, 1, 1, 1, 1, 1, 1, 1, 1, 0, 0, 0, 0,\n",
       "         1, 0, 1, 1, 0, 0, 0, 0, 1, 0, 0, 1, 1, 0, 1, 1, 1, 0, 1, 0, 1, 0,\n",
       "         0, 1, 0, 0, 0, 0, 1, 1, 0, 1, 0, 0, 1, 1, 0, 0, 0, 1, 1, 1, 1, 0,\n",
       "         0, 1, 0, 1, 1, 0, 0, 0, 0, 0, 0, 0, 0, 0]), curve=array([11., 16., 16., 16., 16., 16., 90., 92., 95., 95., 96., 96., 96.,\n",
       "         96., 98., 98., 98., 98., 98., 98., 98., 98., 98., 98., 98.])),\n",
       "  RunResult(time=1.8947930335998535, num_calls=5533.0, score=113.0, best=array([1, 1, 1, 1, 1, 1, 1, 1, 1, 1, 1, 0, 1, 1, 1, 1, 1, 0, 1, 1, 1, 0,\n",
       "         0, 1, 1, 0, 1, 1, 0, 1, 0, 0, 0, 1, 0, 1, 0, 0, 1, 0, 1, 1, 0, 0,\n",
       "         0, 0, 0, 1, 1, 1, 0, 0, 0, 0, 0, 0, 0, 0, 0, 0, 0, 1, 0, 0, 1, 0,\n",
       "         0, 0, 0, 1, 0, 0, 0, 1, 0, 1, 1, 0, 1, 1, 0, 1, 0, 0, 0, 1, 1, 0,\n",
       "         0, 0, 0, 0, 0, 0, 0, 0, 0, 0, 0, 0]), curve=array([  9.,  11.,  11.,  11.,  11.,  11.,  11.,  12.,  12.,  12.,  12.,\n",
       "          13., 112., 112., 112., 113., 113., 113., 113., 113., 113., 113.,\n",
       "         113., 113., 113., 113.]))])"
      ]
     },
     "execution_count": 5,
     "metadata": {},
     "output_type": "execute_result"
    }
   ],
   "source": [
    "rhcs, sas, gas"
   ]
  },
  {
   "cell_type": "code",
   "execution_count": 13,
   "metadata": {},
   "outputs": [
    {
     "name": "stdout",
     "output_type": "stream",
     "text": [
      "20\n",
      "40\n",
      "60\n",
      "80\n",
      "100\n"
     ]
    }
   ],
   "source": [
    "mim = []\n",
    "for prob_size in [20, 40, 60, 80,100]:\n",
    "    runner = Runner(mlrose.FourPeaks(), prob_size)\n",
    "    print(prob_size)\n",
    "    #rhcs.append(runner.run_agg(mlrose.random_hill_climb, restarts=10))\n",
    "    #sas.append(runner.run_agg(mlrose.simulated_annealing))\n",
    "    #gas.append(runner.run_agg(mlrose.genetic_alg, pop_size=200, mutation_prob=0.1))\n",
    "    mim.append(runner.run_agg(mlrose.mimic, pop_size=200, count=5))"
   ]
  },
  {
   "cell_type": "code",
   "execution_count": null,
   "metadata": {},
   "outputs": [],
   "source": [
    "#fitness values\n",
    "rhc_score = [rhc.score for rhc in rhcs]\n",
    "sas_score=[saas.score for saas in sas ]\n",
    "gas_score=[gaas.score for gaas in gas]\n",
    "mim_score=[mimi.score for mimi in mim]\n",
    "problem_size = [20, 40, 60, 80,100]"
   ]
  },
  {
   "cell_type": "code",
   "execution_count": 17,
   "metadata": {},
   "outputs": [
    {
     "data": {
      "text/plain": [
       "<matplotlib.legend.Legend at 0x121f33ed0>"
      ]
     },
     "execution_count": 17,
     "metadata": {},
     "output_type": "execute_result"
    },
    {
     "data": {
      "image/png": "[encoded data removed]",
      "text/plain": [
       "<Figure size 360x216 with 1 Axes>"
      ]
     },
     "metadata": {
      "needs_background": "light"
     },
     "output_type": "display_data"
    }
   ],
   "source": [
    "plt.figure(figsize=(5,3))\n",
    "plt.plot(problem_size,rhc_score, 'o-', color='r', label='RHC')\n",
    "plt.plot(problem_size,sas_score, 'o-',color='b', label='SA')\n",
    "plt.plot(problem_size,gas_score, 'o-',color='k', label='GA')\n",
    "plt.plot(problem_size,mim_score, 'o-',color='g', label='MIMIC')\n",
    "plt.ylabel('Score', fontsize=12)\n",
    "plt.xlabel('Problem Size', fontsize=12)\n",
    "plt.legend(loc='best', fontsize=10)"
   ]
  },
  {
   "cell_type": "code",
   "execution_count": 18,
   "metadata": {},
   "outputs": [],
   "source": [
    "#number of function calls\n",
    "rhc_num_calls = [rhc.num_calls for rhc in rhcs]\n",
    "sas_num_calls =[saas.num_calls for saas in sas ]\n",
    "gas_num_calls =[gaas.num_calls for gaas in gas ]\n",
    "mim_num_calls =[mimi.num_calls for mimi in mim ]"
   ]
  },
  {
   "cell_type": "code",
   "execution_count": 19,
   "metadata": {},
   "outputs": [
    {
     "data": {
      "text/plain": [
       "<matplotlib.legend.Legend at 0x121fff450>"
      ]
     },
     "execution_count": 19,
     "metadata": {},
     "output_type": "execute_result"
    },
    {
     "data": {
      "image/png": "[encoded data removed]",
      "text/plain": [
       "<Figure size 360x216 with 1 Axes>"
      ]
     },
     "metadata": {
      "needs_background": "light"
     },
     "output_type": "display_data"
    }
   ],
   "source": [
    "plt.figure(figsize=(5,3))\n",
    "plt.plot(problem_size,rhc_num_calls, 'o-', color='r', label='RH')\n",
    "plt.plot(problem_size,sas_num_calls,'o-', color='b', label='SA')\n",
    "plt.plot(problem_size,gas_num_calls,'o-', color='k', label='GA')\n",
    "plt.plot(problem_size,mim_num_calls,'o-', color='g', label='MIMIC')\n",
    "plt.ylabel('Number of function calls',fontsize=12)\n",
    "plt.xlabel('Problem size',fontsize=12)\n",
    "plt.legend(loc='best',fontsize=10)"
   ]
  },
  {
   "cell_type": "code",
   "execution_count": 20,
   "metadata": {},
   "outputs": [],
   "source": [
    "# time taken\n",
    "rhc_time = [rhc.time for rhc in rhcs]\n",
    "sas_time=[saas.time for saas in sas ]\n",
    "gas_time=[gaas.time for gaas in gas ]\n",
    "mim_time=[mimi.time for mimi in mim ]"
   ]
  },
  {
   "cell_type": "code",
   "execution_count": 21,
   "metadata": {},
   "outputs": [
    {
     "data": {
      "image/png": "[encoded data removed]",
      "text/plain": [
       "<Figure size 360x216 with 1 Axes>"
      ]
     },
     "metadata": {
      "needs_background": "light"
     },
     "output_type": "display_data"
    }
   ],
   "source": [
    "plt.figure(figsize=(5,3))\n",
    "plt.plot(problem_size,rhc_time, 'o-', color='r', label='RH')\n",
    "plt.plot(problem_size,sas_time,'o-', color='b', label='SA')\n",
    "plt.plot(problem_size,gas_time,'o-', color='k', label='GA')\n",
    "plt.plot(problem_size,mim_time,'o-', color='g', label='MIMIC')\n",
    "plt.ylabel('Time Taken',fontsize=12)\n",
    "plt.xlabel('Problem size',fontsize=12)\n",
    "plt.legend(loc='upper left',fontsize=10)\n",
    "plt.yscale('log')"
   ]
  },
  {
   "cell_type": "code",
   "execution_count": 24,
   "metadata": {},
   "outputs": [],
   "source": [
    "#number of iterations\n",
    "rhc_iter = [len(rhc.curve) for rhc in rhcs]\n",
    "sas_iter=[len(saas.curve) for saas in sas ]\n",
    "gas_iter=[len(gaas.curve) for gaas in gas ]\n",
    "mim_iter=[len(mimi.curve) for mimi in mim ]"
   ]
  },
  {
   "cell_type": "code",
   "execution_count": 25,
   "metadata": {},
   "outputs": [
    {
     "data": {
      "text/plain": [
       "[146, 143, 131, 117, 124]"
      ]
     },
     "execution_count": 25,
     "metadata": {},
     "output_type": "execute_result"
    }
   ],
   "source": [
    "rhc_iter"
   ]
  },
  {
   "cell_type": "code",
   "execution_count": 28,
   "metadata": {},
   "outputs": [
    {
     "data": {
      "text/plain": [
       "[119, 567, 1005, 2214, 3483]"
      ]
     },
     "execution_count": 28,
     "metadata": {},
     "output_type": "execute_result"
    }
   ],
   "source": [
    "sas_iter"
   ]
  },
  {
   "cell_type": "code",
   "execution_count": 29,
   "metadata": {},
   "outputs": [
    {
     "data": {
      "text/plain": [
       "[29, 20, 21, 25, 26]"
      ]
     },
     "execution_count": 29,
     "metadata": {},
     "output_type": "execute_result"
    }
   ],
   "source": [
    "gas_iter"
   ]
  },
  {
   "cell_type": "code",
   "execution_count": 30,
   "metadata": {},
   "outputs": [
    {
     "data": {
      "text/plain": [
       "[16, 16, 16, 16, 20]"
      ]
     },
     "execution_count": 30,
     "metadata": {},
     "output_type": "execute_result"
    }
   ],
   "source": [
    "mim_iter"
   ]
  },
  {
   "cell_type": "code",
   "execution_count": 31,
   "metadata": {},
   "outputs": [
    {
     "data": {
      "text/plain": [
       "<matplotlib.legend.Legend at 0x122468490>"
      ]
     },
     "execution_count": 31,
     "metadata": {},
     "output_type": "execute_result"
    },
    {
     "data": {
      "image/png": "[encoded data removed]",
      "text/plain": [
       "<Figure size 360x216 with 1 Axes>"
      ]
     },
     "metadata": {
      "needs_background": "light"
     },
     "output_type": "display_data"
    }
   ],
   "source": [
    "plt.figure(figsize=(5,3))\n",
    "plt.plot(problem_size,rhc_iter, 'o-', color='r', label='RH')\n",
    "plt.plot(problem_size,sas_iter,'o-', color='b', label='SA')\n",
    "plt.plot(problem_size,gas_iter,'o-', color='k', label='GA')\n",
    "plt.plot(problem_size,mim_iter,'o-', color='g', label='MIMIC')\n",
    "plt.ylabel('Number of iterations',fontsize=12)\n",
    "plt.xlabel('Problem size',fontsize=12)\n",
    "plt.legend(loc='upper left',fontsize=10)"
   ]
  },
  {
   "cell_type": "code",
   "execution_count": null,
   "metadata": {},
   "outputs": [],
   "source": [
    "# hyperparameter tuning for random optimization algorithms"
   ]
  },
  {
   "cell_type": "code",
   "execution_count": null,
   "metadata": {},
   "outputs": [],
   "source": [
    "# hyperparameter tuning for genetic algorithm"
   ]
  },
  {
   "cell_type": "code",
   "execution_count": 36,
   "metadata": {},
   "outputs": [
    {
     "name": "stdout",
     "output_type": "stream",
     "text": [
      "mutation_prob 0.001\n",
      "mutation_prob 0.005\n",
      "mutation_prob 0.01\n",
      "mutation_prob 0.05\n",
      "mutation_prob 0.1\n",
      "mutation_prob 0.2\n"
     ]
    }
   ],
   "source": [
    "gas_hp=[]\n",
    "for mutation_prob in [0.001, 0.005, 0.01, 0.05,0.1, 0.2]:\n",
    "    print('mutation_prob',mutation_prob)\n",
    "    runner = Runner(mlrose.FourPeaks(), 100)\n",
    "    gas_hp.append(runner.run_agg(mlrose.genetic_alg, pop_size=200, mutation_prob=mutation_prob))"
   ]
  },
  {
   "cell_type": "code",
   "execution_count": 39,
   "metadata": {},
   "outputs": [],
   "source": [
    "gas_hp_time = [gas_hp1.time for gas_hp1 in gas_hp]"
   ]
  },
  {
   "cell_type": "code",
   "execution_count": 43,
   "metadata": {},
   "outputs": [
    {
     "data": {
      "text/plain": [
       "[0.5844008922576904,\n",
       " 0.6363509893417358,\n",
       " 0.719687819480896,\n",
       " 0.7417445182800293,\n",
       " 0.4970118999481201,\n",
       " 0.5659247636795044]"
      ]
     },
     "execution_count": 43,
     "metadata": {},
     "output_type": "execute_result"
    }
   ],
   "source": [
    "gas_hp_time"
   ]
  },
  {
   "cell_type": "code",
   "execution_count": 40,
   "metadata": {},
   "outputs": [],
   "source": [
    "gas_hp_score = [gas_hp1.score for gas_hp1 in gas_hp]"
   ]
  },
  {
   "cell_type": "code",
   "execution_count": 44,
   "metadata": {},
   "outputs": [
    {
     "data": {
      "text/plain": [
       "[16.0, 117.0, 120.0, 120.0, 17.0, 14.0]"
      ]
     },
     "execution_count": 44,
     "metadata": {},
     "output_type": "execute_result"
    }
   ],
   "source": [
    "gas_hp_score "
   ]
  },
  {
   "cell_type": "code",
   "execution_count": 41,
   "metadata": {},
   "outputs": [],
   "source": [
    "mutation_prob=[0.001, 0.005, 0.01, 0.05,0.1, 0.2]"
   ]
  },
  {
   "cell_type": "code",
   "execution_count": 46,
   "metadata": {},
   "outputs": [],
   "source": [
    "mut=pd.DataFrame(list(zip(gas_hp_score,gas_hp_time,mutation_prob)),columns=['score','time','mutation'])"
   ]
  },
  {
   "cell_type": "code",
   "execution_count": 47,
   "metadata": {},
   "outputs": [
    {
     "data": {
      "text/html": [
       "<div>\n",
       "<style scoped>\n",
       "    .dataframe tbody tr th:only-of-type {\n",
       "        vertical-align: middle;\n",
       "    }\n",
       "\n",
       "    .dataframe tbody tr th {\n",
       "        vertical-align: top;\n",
       "    }\n",
       "\n",
       "    .dataframe thead th {\n",
       "        text-align: right;\n",
       "    }\n",
       "</style>\n",
       "<table border=\"1\" class=\"dataframe\">\n",
       "  <thead>\n",
       "    <tr style=\"text-align: right;\">\n",
       "      <th></th>\n",
       "      <th>score</th>\n",
       "      <th>time</th>\n",
       "      <th>mutation</th>\n",
       "    </tr>\n",
       "  </thead>\n",
       "  <tbody>\n",
       "    <tr>\n",
       "      <th>0</th>\n",
       "      <td>16.0</td>\n",
       "      <td>0.584401</td>\n",
       "      <td>0.001</td>\n",
       "    </tr>\n",
       "    <tr>\n",
       "      <th>1</th>\n",
       "      <td>117.0</td>\n",
       "      <td>0.636351</td>\n",
       "      <td>0.005</td>\n",
       "    </tr>\n",
       "    <tr>\n",
       "      <th>2</th>\n",
       "      <td>120.0</td>\n",
       "      <td>0.719688</td>\n",
       "      <td>0.010</td>\n",
       "    </tr>\n",
       "    <tr>\n",
       "      <th>3</th>\n",
       "      <td>120.0</td>\n",
       "      <td>0.741745</td>\n",
       "      <td>0.050</td>\n",
       "    </tr>\n",
       "    <tr>\n",
       "      <th>4</th>\n",
       "      <td>17.0</td>\n",
       "      <td>0.497012</td>\n",
       "      <td>0.100</td>\n",
       "    </tr>\n",
       "    <tr>\n",
       "      <th>5</th>\n",
       "      <td>14.0</td>\n",
       "      <td>0.565925</td>\n",
       "      <td>0.200</td>\n",
       "    </tr>\n",
       "  </tbody>\n",
       "</table>\n",
       "</div>"
      ],
      "text/plain": [
       "   score      time  mutation\n",
       "0   16.0  0.584401     0.001\n",
       "1  117.0  0.636351     0.005\n",
       "2  120.0  0.719688     0.010\n",
       "3  120.0  0.741745     0.050\n",
       "4   17.0  0.497012     0.100\n",
       "5   14.0  0.565925     0.200"
      ]
     },
     "execution_count": 47,
     "metadata": {},
     "output_type": "execute_result"
    }
   ],
   "source": [
    "mut"
   ]
  },
  {
   "cell_type": "code",
   "execution_count": 111,
   "metadata": {},
   "outputs": [
    {
     "data": {
      "image/png": "[encoded data removed]",
      "text/plain": [
       "<Figure size 360x216 with 2 Axes>"
      ]
     },
     "metadata": {
      "needs_background": "light"
     },
     "output_type": "display_data"
    }
   ],
   "source": [
    "fig,ax1 =plt.subplots(figsize=(5,3))\n",
    "ax1.set_xlabel('Mutation Probability', fontsize=12)\n",
    "ax1.set_ylabel('Fitness value', color='b',fontsize=12)\n",
    "ax1.plot(mutation_prob,gas_hp_score , color='b', label='fitness')\n",
    "ax1.tick_params(axis='y', labelcolor='b')\n",
    "ax1.set_xscale('log')\n",
    "\n",
    "\n",
    "ax2=ax1.twinx()\n",
    "ax2.set_ylabel('Time(s)',fontsize=12)\n",
    "ax2.plot(mutation_prob,gas_hp_time , color='r',label='time')\n",
    "ax2.tick_params(axis='y', labelcolor='r')\n",
    "ax2.set_xscale('log')\n",
    "plt.title('GA')\n",
    "#plt.legend(loc='best',fontsize=10)\n",
    "plt.show()"
   ]
  },
  {
   "cell_type": "code",
   "execution_count": null,
   "metadata": {},
   "outputs": [],
   "source": [
    "# sa hyperparameter tuning"
   ]
  },
  {
   "cell_type": "code",
   "execution_count": 72,
   "metadata": {},
   "outputs": [
    {
     "name": "stdout",
     "output_type": "stream",
     "text": [
      "schedule <mlrose.decay.GeomDecay object at 0x122c9df90>\n",
      "schedule <mlrose.decay.ArithDecay object at 0x122c9d4d0>\n",
      "schedule <mlrose.decay.ExpDecay object at 0x122c9d210>\n"
     ]
    }
   ],
   "source": [
    "sa_hp=[]\n",
    "for schedule in [mlrose.GeomDecay(),mlrose.ArithDecay(),mlrose.ExpDecay()]:\n",
    "    print('schedule',schedule)\n",
    "    runner = Runner(mlrose.FourPeaks(), 100)\n",
    "    sa_hp.append(runner.run_agg(mlrose.simulated_annealing,schedule=schedule)) "
   ]
  },
  {
   "cell_type": "code",
   "execution_count": 73,
   "metadata": {},
   "outputs": [
    {
     "data": {
      "text/html": [
       "<div>\n",
       "<style scoped>\n",
       "    .dataframe tbody tr th:only-of-type {\n",
       "        vertical-align: middle;\n",
       "    }\n",
       "\n",
       "    .dataframe tbody tr th {\n",
       "        vertical-align: top;\n",
       "    }\n",
       "\n",
       "    .dataframe thead th {\n",
       "        text-align: right;\n",
       "    }\n",
       "</style>\n",
       "<table border=\"1\" class=\"dataframe\">\n",
       "  <thead>\n",
       "    <tr style=\"text-align: right;\">\n",
       "      <th></th>\n",
       "      <th>score</th>\n",
       "      <th>time</th>\n",
       "      <th>decay</th>\n",
       "    </tr>\n",
       "  </thead>\n",
       "  <tbody>\n",
       "    <tr>\n",
       "      <th>0</th>\n",
       "      <td>59.0</td>\n",
       "      <td>0.152116</td>\n",
       "      <td>Geometric_Decay</td>\n",
       "    </tr>\n",
       "    <tr>\n",
       "      <th>1</th>\n",
       "      <td>62.0</td>\n",
       "      <td>0.226573</td>\n",
       "      <td>Arithmetic_Decay</td>\n",
       "    </tr>\n",
       "    <tr>\n",
       "      <th>2</th>\n",
       "      <td>63.0</td>\n",
       "      <td>0.167912</td>\n",
       "      <td>Exp_Decay</td>\n",
       "    </tr>\n",
       "  </tbody>\n",
       "</table>\n",
       "</div>"
      ],
      "text/plain": [
       "   score      time             decay\n",
       "0   59.0  0.152116   Geometric_Decay\n",
       "1   62.0  0.226573  Arithmetic_Decay\n",
       "2   63.0  0.167912         Exp_Decay"
      ]
     },
     "execution_count": 73,
     "metadata": {},
     "output_type": "execute_result"
    }
   ],
   "source": [
    "sa_hp_time = [sa_hp1.time for sa_hp1 in sa_hp]\n",
    "sa_hp_score = [sa_hp1.score for sa_hp1 in sa_hp]\n",
    "schedule_prob=['Geometric_Decay','Arithmetic_Decay','Exp_Decay']\n",
    "sched=pd.DataFrame(list(zip(sa_hp_score,sa_hp_time,schedule_prob)),columns=['score','time','decay'])\n",
    "sched"
   ]
  },
  {
   "cell_type": "code",
   "execution_count": 112,
   "metadata": {},
   "outputs": [
    {
     "data": {
      "image/png": "[encoded data removed]",
      "text/plain": [
       "<Figure size 360x216 with 2 Axes>"
      ]
     },
     "metadata": {
      "needs_background": "light"
     },
     "output_type": "display_data"
    }
   ],
   "source": [
    "fig,ax1 =plt.subplots(figsize=(5,3))\n",
    "ax1.set_xlabel('Decay', fontsize=12)\n",
    "ax1.set_ylabel('Fitness value', color='b',fontsize=12)\n",
    "ax1.plot(schedule_prob,sa_hp_score , color='b', label='fitness')\n",
    "ax1.tick_params(axis='y', labelcolor='b')\n",
    "#ax1.set_xscale('log')\n",
    "\n",
    "\n",
    "ax2=ax1.twinx()\n",
    "ax2.set_ylabel('Time(s)',fontsize=12)\n",
    "ax2.plot(schedule_prob,sa_hp_time , color='r',label='Time(s)')\n",
    "ax2.tick_params(axis='y', labelcolor='r')\n",
    "#ax2.set_xscale('log')\n",
    "#plt.legend(loc='best',fontsize=10)\n",
    "plt.title('SA')\n",
    "plt.show()"
   ]
  },
  {
   "cell_type": "code",
   "execution_count": null,
   "metadata": {},
   "outputs": [],
   "source": [
    "# mimic hyperparameter tuning"
   ]
  },
  {
   "cell_type": "code",
   "execution_count": 74,
   "metadata": {},
   "outputs": [
    {
     "name": "stdout",
     "output_type": "stream",
     "text": [
      "keep_pct 0.1\n",
      "keep_pct 0.2\n",
      "keep_pct 0.4\n"
     ]
    }
   ],
   "source": [
    "mimi_hp=[]\n",
    "for keep_pct in [0.1, 0.2, 0.4]:\n",
    "    print('keep_pct',keep_pct)\n",
    "    runner = Runner(mlrose.FourPeaks(), 100)\n",
    "    mimi_hp.append(runner.run_agg(mlrose.mimic, pop_size=200, count=5, keep_pct=keep_pct))"
   ]
  },
  {
   "cell_type": "code",
   "execution_count": 76,
   "metadata": {},
   "outputs": [
    {
     "data": {
      "text/html": [
       "<div>\n",
       "<style scoped>\n",
       "    .dataframe tbody tr th:only-of-type {\n",
       "        vertical-align: middle;\n",
       "    }\n",
       "\n",
       "    .dataframe tbody tr th {\n",
       "        vertical-align: top;\n",
       "    }\n",
       "\n",
       "    .dataframe thead th {\n",
       "        text-align: right;\n",
       "    }\n",
       "</style>\n",
       "<table border=\"1\" class=\"dataframe\">\n",
       "  <thead>\n",
       "    <tr style=\"text-align: right;\">\n",
       "      <th></th>\n",
       "      <th>score</th>\n",
       "      <th>time</th>\n",
       "      <th>keep_pct</th>\n",
       "    </tr>\n",
       "  </thead>\n",
       "  <tbody>\n",
       "    <tr>\n",
       "      <th>0</th>\n",
       "      <td>115.0</td>\n",
       "      <td>95.775454</td>\n",
       "      <td>0.1</td>\n",
       "    </tr>\n",
       "    <tr>\n",
       "      <th>1</th>\n",
       "      <td>114.0</td>\n",
       "      <td>121.261656</td>\n",
       "      <td>0.2</td>\n",
       "    </tr>\n",
       "    <tr>\n",
       "      <th>2</th>\n",
       "      <td>114.0</td>\n",
       "      <td>134.854682</td>\n",
       "      <td>0.4</td>\n",
       "    </tr>\n",
       "  </tbody>\n",
       "</table>\n",
       "</div>"
      ],
      "text/plain": [
       "   score        time  keep_pct\n",
       "0  115.0   95.775454       0.1\n",
       "1  114.0  121.261656       0.2\n",
       "2  114.0  134.854682       0.4"
      ]
     },
     "execution_count": 76,
     "metadata": {},
     "output_type": "execute_result"
    }
   ],
   "source": [
    "mimi_hp_time = [gas_hp1.time for gas_hp1 in mimi_hp]\n",
    "mimi_hp_score = [gas_hp1.score for gas_hp1 in mimi_hp]\n",
    "keep_prob=[0.1, 0.2, 0.4]\n",
    "keep=pd.DataFrame(list(zip(mimi_hp_score,mimi_hp_time,keep_prob)),columns=['score','time','keep_pct'])\n",
    "keep"
   ]
  },
  {
   "cell_type": "code",
   "execution_count": 114,
   "metadata": {},
   "outputs": [
    {
     "data": {
      "image/png": "[encoded data removed]",
      "text/plain": [
       "<Figure size 360x216 with 2 Axes>"
      ]
     },
     "metadata": {
      "needs_background": "light"
     },
     "output_type": "display_data"
    }
   ],
   "source": [
    "fig,ax1 =plt.subplots(figsize=(5,3))\n",
    "ax1.set_xlabel('Sample proportion', fontsize=12)\n",
    "ax1.set_ylabel('Fitness value', color='b',fontsize=12)\n",
    "ax1.plot(keep_prob,mimi_hp_score, color='b', label='fitness')\n",
    "ax1.tick_params(axis='y', labelcolor='b')\n",
    "#ax1.set_xscale('log')\n",
    "\n",
    "\n",
    "ax2=ax1.twinx()\n",
    "ax2.set_ylabel('Time(s)',fontsize=12)\n",
    "ax2.plot(keep_prob,mimi_hp_time  , color='r',label='Time(s)')\n",
    "ax2.tick_params(axis='y', labelcolor='r')\n",
    "#ax2.set_xscale('log')\n",
    "#plt.legend(loc='best',fontsize=10)\n",
    "plt.title('MIMIC')\n",
    "plt.show()"
   ]
  },
  {
   "cell_type": "code",
   "execution_count": null,
   "metadata": {},
   "outputs": [],
   "source": [
    "# hyperparameter tuning for random hill climbing"
   ]
  },
  {
   "cell_type": "code",
   "execution_count": 82,
   "metadata": {},
   "outputs": [
    {
     "name": "stdout",
     "output_type": "stream",
     "text": [
      "restarts 10\n",
      "restarts 20\n",
      "restarts 40\n",
      "restarts 60\n",
      "restarts 80\n",
      "restarts 100\n",
      "restarts 200\n"
     ]
    }
   ],
   "source": [
    "rhc_hp=[]\n",
    "for restarts in [10,20,40,60,80,100,200]:\n",
    "    print('restarts',restarts)\n",
    "    runner = Runner(mlrose.FourPeaks(), 100)\n",
    "    rhc_hp.append(runner.run_agg(mlrose.random_hill_climb, restarts=restarts))"
   ]
  },
  {
   "cell_type": "code",
   "execution_count": 83,
   "metadata": {},
   "outputs": [
    {
     "data": {
      "text/html": [
       "<div>\n",
       "<style scoped>\n",
       "    .dataframe tbody tr th:only-of-type {\n",
       "        vertical-align: middle;\n",
       "    }\n",
       "\n",
       "    .dataframe tbody tr th {\n",
       "        vertical-align: top;\n",
       "    }\n",
       "\n",
       "    .dataframe thead th {\n",
       "        text-align: right;\n",
       "    }\n",
       "</style>\n",
       "<table border=\"1\" class=\"dataframe\">\n",
       "  <thead>\n",
       "    <tr style=\"text-align: right;\">\n",
       "      <th></th>\n",
       "      <th>score</th>\n",
       "      <th>time</th>\n",
       "      <th>restarts</th>\n",
       "    </tr>\n",
       "  </thead>\n",
       "  <tbody>\n",
       "    <tr>\n",
       "      <th>0</th>\n",
       "      <td>5.0</td>\n",
       "      <td>0.002976</td>\n",
       "      <td>10</td>\n",
       "    </tr>\n",
       "    <tr>\n",
       "      <th>1</th>\n",
       "      <td>7.0</td>\n",
       "      <td>0.005070</td>\n",
       "      <td>20</td>\n",
       "    </tr>\n",
       "    <tr>\n",
       "      <th>2</th>\n",
       "      <td>8.0</td>\n",
       "      <td>0.009571</td>\n",
       "      <td>40</td>\n",
       "    </tr>\n",
       "    <tr>\n",
       "      <th>3</th>\n",
       "      <td>8.0</td>\n",
       "      <td>0.014291</td>\n",
       "      <td>60</td>\n",
       "    </tr>\n",
       "    <tr>\n",
       "      <th>4</th>\n",
       "      <td>9.0</td>\n",
       "      <td>0.019084</td>\n",
       "      <td>80</td>\n",
       "    </tr>\n",
       "    <tr>\n",
       "      <th>5</th>\n",
       "      <td>9.0</td>\n",
       "      <td>0.024655</td>\n",
       "      <td>100</td>\n",
       "    </tr>\n",
       "    <tr>\n",
       "      <th>6</th>\n",
       "      <td>10.0</td>\n",
       "      <td>0.049556</td>\n",
       "      <td>200</td>\n",
       "    </tr>\n",
       "  </tbody>\n",
       "</table>\n",
       "</div>"
      ],
      "text/plain": [
       "   score      time  restarts\n",
       "0    5.0  0.002976        10\n",
       "1    7.0  0.005070        20\n",
       "2    8.0  0.009571        40\n",
       "3    8.0  0.014291        60\n",
       "4    9.0  0.019084        80\n",
       "5    9.0  0.024655       100\n",
       "6   10.0  0.049556       200"
      ]
     },
     "execution_count": 83,
     "metadata": {},
     "output_type": "execute_result"
    }
   ],
   "source": [
    "rhc_hp_time = [rhc_hp1.time for rhc_hp1 in rhc_hp]\n",
    "rhc_hp_score = [rhc_hp1.score for rhc_hp1 in rhc_hp]\n",
    "restarts_prob=[10,20,40,60,80,100,200]\n",
    "restart=pd.DataFrame(list(zip(rhc_hp_score,rhc_hp_time,restarts_prob)),columns=['score','time','restarts'])\n",
    "restart"
   ]
  },
  {
   "cell_type": "code",
   "execution_count": 115,
   "metadata": {},
   "outputs": [
    {
     "data": {
      "image/png": "[encoded data removed]",
      "text/plain": [
       "<Figure size 360x216 with 2 Axes>"
      ]
     },
     "metadata": {
      "needs_background": "light"
     },
     "output_type": "display_data"
    }
   ],
   "source": [
    "fig,ax1 =plt.subplots(figsize=(5,3))\n",
    "ax1.set_xlabel('Number of restarts', fontsize=12)\n",
    "ax1.set_ylabel('Fitness value', color='b',fontsize=12)\n",
    "ax1.plot(restarts_prob,rhc_hp_score, color='b', label='fitness')\n",
    "ax1.tick_params(axis='y', labelcolor='b')\n",
    "#ax1.set_xscale('log')\n",
    "\n",
    "\n",
    "ax2=ax1.twinx()\n",
    "ax2.set_ylabel('Time(s)',fontsize=12)\n",
    "ax2.plot(restarts_prob,rhc_hp_time  , color='r',label='Time(s)')\n",
    "ax2.tick_params(axis='y', labelcolor='r')\n",
    "#ax2.set_xscale('log')\n",
    "#plt.legend(loc='best',fontsize=10)\n",
    "plt.title('RHC')\n",
    "plt.show()"
   ]
  },
  {
   "cell_type": "code",
   "execution_count": null,
   "metadata": {},
   "outputs": [],
   "source": [
    "# using tuned hyperparameters for building random oprimization algorithms"
   ]
  },
  {
   "cell_type": "code",
   "execution_count": 85,
   "metadata": {},
   "outputs": [
    {
     "name": "stdout",
     "output_type": "stream",
     "text": [
      "20\n",
      "40\n",
      "60\n",
      "80\n",
      "100\n"
     ]
    }
   ],
   "source": [
    "rhcs3, sas3, gas3 = [], [], []\n",
    "for prob_size in [20, 40, 60, 80,100]:\n",
    "    runner = Runner(mlrose.FourPeaks(), prob_size)\n",
    "    print(prob_size)\n",
    "    rhcs3.append(runner.run_agg(mlrose.random_hill_climb, restarts=80))\n",
    "    sas3.append(runner.run_agg(mlrose.simulated_annealing, schedule=mlrose.ExpDecay()))\n",
    "    gas3.append(runner.run_agg(mlrose.genetic_alg, pop_size=200, mutation_prob=0.01))"
   ]
  },
  {
   "cell_type": "code",
   "execution_count": 86,
   "metadata": {},
   "outputs": [
    {
     "data": {
      "text/plain": [
       "([RunResult(time=0.02984297275543213, num_calls=1369.5, score=32.0, best=array([1, 1, 1, 0, 0, 1, 0, 1, 0, 0, 0, 0, 0, 0, 0, 0, 0, 0, 0, 0]), curve=array([ 1.,  1.,  1., ..., 30., 30., 30.])),\n",
       "  RunResult(time=0.024826526641845703, num_calls=1090.0, score=45.0, best=array([1, 1, 1, 1, 1, 0, 0, 1, 1, 1, 1, 1, 0, 1, 0, 1, 1, 0, 1, 0, 1, 0,\n",
       "         0, 1, 0, 1, 1, 1, 0, 1, 1, 1, 1, 0, 1, 0, 0, 0, 0, 0]), curve=array([ 0.,  0.,  0.,  0.,  0.,  4.,  4.,  4.,  4.,  4.,  4.,  4.,  4.,\n",
       "          4.,  4.,  4.,  0.,  0.,  0.,  0.,  0.,  0.,  0.,  0.,  3.,  3.,\n",
       "          3.,  3.,  3.,  3.,  3.,  3.,  3.,  3.,  3.,  2.,  2.,  2.,  2.,\n",
       "          2.,  2.,  2.,  2.,  2.,  2.,  1.,  1.,  1.,  1.,  1.,  1.,  1.,\n",
       "          1.,  1.,  1.,  4.,  4.,  4.,  4.,  4.,  4.,  4.,  4.,  4.,  4.,\n",
       "          2.,  2.,  2.,  2.,  2.,  2.,  2.,  5.,  5.,  5.,  5.,  5.,  5.,\n",
       "          5.,  5.,  5.,  5.,  5.,  0.,  0.,  0.,  0.,  0.,  0.,  0.,  0.,\n",
       "          0.,  0.,  2.,  2., 10., 10., 10., 10., 10., 10., 10., 10., 10.,\n",
       "         10., 10.,  3.,  4.,  4.,  4.,  4.,  4.,  4.,  4.,  4.,  7.,  7.,\n",
       "          7.,  7.,  7.,  7.,  7.,  7.,  7.,  7.,  7.,  3.,  3.,  3.,  3.,\n",
       "          3.,  3.,  3.,  3.,  3.,  3.,  1.,  1.,  1.,  1.,  1.,  1.,  1.,\n",
       "          1.,  1.,  1.,  0.,  0.,  2.,  2.,  2.,  2.,  2.,  2.,  2.,  2.,\n",
       "          2.,  3.,  3.,  3.,  4.,  4.,  4.,  4.,  4.,  4.,  4.,  4.,  8.,\n",
       "          8.,  8.,  8.,  8.,  8.,  8.,  8.,  8.,  8.,  8.,  3.,  3.,  3.,\n",
       "          3.,  3.,  3.,  3.,  3.,  3.,  3.,  2.,  2.,  2.,  2.,  2.,  2.,\n",
       "          2.,  2.,  2.,  2.,  0.,  0.,  0.,  0.,  0.,  0.,  0.,  0.,  0.,\n",
       "          0.,  0.,  0.,  1.,  1.,  1.,  5.,  5.,  5.,  5.,  5.,  5.,  5.,\n",
       "          5.,  5.,  6.,  6.,  6.,  6.,  6.,  6.,  6.,  6.,  6.,  6.,  6.,\n",
       "          3.,  3.,  3.,  3.,  3.,  3.,  3.,  3.,  3.,  3.,  4.,  4.,  4.,\n",
       "          4.,  4.,  4.,  4.,  4.,  4.,  4.,  1.,  1.,  1.,  1.,  1.,  1.,\n",
       "          1.,  1.,  1.,  1.,  1.,  1.,  1.,  1.,  1.,  1.,  1.,  1.,  1.,\n",
       "          1.,  2.,  2.,  2.,  2.,  2.,  2.,  2.,  2.,  2.,  2.,  0.,  0.,\n",
       "          0.,  0.,  0.,  0.,  0.,  0.,  0.,  0.,  2.,  2.,  2.,  2.,  2.,\n",
       "          2.,  2.,  5.,  5.,  5.,  5.,  5.,  5.,  5.,  5.,  5.,  5.,  5.,\n",
       "          1.,  1.,  1.,  1.,  1.,  1.,  1.,  1.,  1.,  1.,  0.,  0.,  0.,\n",
       "          0.,  0.,  0.,  0.,  0.,  0.,  0.,  2.,  3.,  3.,  3.,  3.,  3.,\n",
       "          3.,  3.,  3.,  3.,  3.,  3.,  2.,  2.,  2.,  2.,  2.,  2.,  2.,\n",
       "          7.,  7.,  7.,  7.,  7.,  7.,  7.,  7.,  7.,  7.,  7.,  0.,  0.,\n",
       "          0.,  0.,  0.,  0.,  0.,  0.,  0.,  0.,  0.,  0.,  0.,  0.,  0.,\n",
       "          0.,  0.,  0.,  0.,  0.,  2.,  2.,  2.,  2.,  2.,  2.,  2.,  2.,\n",
       "          2.,  2.,  2.,  2.,  2.,  2.,  2.,  2.,  2.,  2.,  2.,  2.,  3.,\n",
       "          3.,  3.,  3.,  3.,  3.,  3.,  3.,  3.,  3.,  0.,  0.,  0.,  0.,\n",
       "          0.,  0.,  0.,  0.,  0.,  0.,  0.,  0.,  0.,  0.,  0.,  0.,  0.,\n",
       "          0.,  0.,  4.,  4.,  4.,  4.,  4.,  4.,  4.,  4.,  4.,  4.,  4.,\n",
       "          5.,  5.,  5.,  5.,  5.,  5.,  5.,  5.,  5.,  5.,  4.,  4.,  4.,\n",
       "          4.,  4.,  4.,  4.,  4.,  4.,  4.,  1.,  1.,  1.,  1.,  1.,  1.,\n",
       "          1.,  1.,  1.,  1.,  1.,  1.,  1.,  1.,  1.,  1.,  1.,  1.,  1.,\n",
       "          2.,  2.,  2.,  2.,  2.,  2.,  2.,  2.,  2.,  2.,  2.,  1.,  1.,\n",
       "          1.,  1.,  1.,  1.,  1.,  1.,  1.,  1.,  3.,  3.,  3.,  3.,  3.,\n",
       "          3.,  3.,  3.,  3.,  3.,  2.,  2.,  2.,  2.,  2.,  2.,  2.,  2.,\n",
       "          2.,  2.,  1.,  1.,  1.,  1.,  1.,  1.,  1.,  1.,  1.,  1.,  4.,\n",
       "          4.,  4.,  4.,  4.,  4.,  4.,  4.,  4.,  4.,  3.,  3.,  4.,  4.,\n",
       "          4.,  4.,  4.,  4.,  4.,  4.,  4.,  4.,  4.,  3.,  3.,  3.,  3.,\n",
       "          3.,  3.,  3.,  3.,  3.,  3.,  0.,  0.,  0.,  0.,  0.,  0.,  0.,\n",
       "          0.,  0.,  0.,  1.,  1.,  1.,  1.,  1.,  1.,  1.,  1.,  1.,  1.,\n",
       "          2.,  2.,  2.,  2.,  2.,  2.,  2.,  2.,  2.,  2.,  1.,  1.,  1.,\n",
       "          1.,  1.,  1.,  1.,  1.,  1.,  1.,  1.,  1.,  1.,  1.,  1.,  1.,\n",
       "          1.,  1.,  1.,  1.,  1.,  1.,  1.,  1.,  1.,  1.,  1.,  1.,  1.,\n",
       "          1.,  1.,  3.,  3.,  3.,  3.,  3.,  3.,  3.,  3.,  3.,  3.,  3.,\n",
       "          3.,  3.,  3.,  3.,  3.,  3.,  3.,  3.,  3.,  1.,  1.,  1.,  1.,\n",
       "          1.,  1.,  1.,  1.,  1.,  1.,  1.,  1.,  1.,  1.,  1.,  1.,  1.,\n",
       "          1.,  1.,  1.,  2.,  2.,  2.,  2.,  2.,  2.,  2.,  2.,  2.,  2.,\n",
       "          3.,  3.,  3.,  3.,  3.,  3.,  3.,  3.,  3.,  3.,  4.,  4.,  4.,\n",
       "          4.,  4.,  4.,  4.,  4.,  4.,  4.,  6.,  7.,  7.,  7.,  7.,  7.,\n",
       "          7.,  7.,  7.,  7.,  7.,  7.,  1.,  1.,  1.,  1.,  1.,  1.,  1.,\n",
       "          1.,  1.,  1.,  0.,  0.,  0.,  0.,  0.,  0.,  0.,  0.,  0.,  0.,\n",
       "          3.,  3.,  3.,  3.,  3.,  3.,  3.,  3.,  3.,  3.,  2.,  2.,  2.,\n",
       "          2.,  2.,  2.,  2.,  2.,  2.,  2.,  0.,  0.,  0.,  0.,  0.,  0.,\n",
       "          0.,  0.,  0.,  0.,  1.,  1.,  1.,  1.,  6.,  6.,  6.,  6.,  6.,\n",
       "          6.,  6.,  6.,  6.,  8.,  8.,  8.,  8.,  8.,  8.,  8.,  8.,  8.,\n",
       "          8.,  8.,  4.,  4.,  4.,  4.,  4.,  4.,  4.,  4.,  4.,  4.,  5.,\n",
       "          5.,  5.,  5., 45., 45., 45., 45., 45., 45., 45., 45., 45., 45.,\n",
       "         45.,  0.,  0.,  0.,  0.,  0.,  0.,  0.,  0.,  0.,  0.,  0.,  0.,\n",
       "          2.,  2.,  2.,  2.,  2.,  2.,  2.,  2.,  2.,  2.,  2.,  2.,  2.,\n",
       "          5.,  5.,  5.,  5.,  5.,  5.,  5.,  5.,  5.,  5.,  5.,  3.,  3.,\n",
       "          3.,  3.,  3.,  3.,  3.,  3.,  3.,  3.,  2.,  2.,  2.,  2.,  2.,\n",
       "          2.,  2.,  2.,  2.,  2.,  2.,  2.,  2.,  2.,  2.,  2.,  2.,  2.,\n",
       "          2.,  2.,  3.,  3.,  3.,  3.,  3.,  3.,  3.,  3.,  3.,  3.,  0.,\n",
       "          0.,  0.,  0.,  0.,  0.,  0.,  0.,  0.,  0.,  1.,  1.,  1.,  1.,\n",
       "          1.,  1.,  1.,  1.,  1.,  1.,  1.,  1.,  1.,  1.,  1.,  1.,  1.,\n",
       "          1.,  1.,  1.,  3.,  3.,  3.,  3.,  3.,  3.,  3.,  3.,  3.,  3.,\n",
       "          1.,  1.,  1.,  1.,  1.,  1.,  1.,  1.,  1.,  1.,  0.,  0.,  0.,\n",
       "          0.,  0.,  0.,  0.,  0.,  0.,  0.,  2.,  2.,  2.,  2.,  2.,  4.,\n",
       "          4.,  4.,  4.,  4.,  4.,  4.,  4.,  4.,  4.,  4.])),\n",
       "  RunResult(time=0.022185921669006348, num_calls=1028.0, score=10.0, best=array([1, 1, 1, 1, 1, 1, 1, 1, 1, 1, 0, 1, 0, 1, 0, 0, 0, 0, 1, 1, 0, 0,\n",
       "         1, 1, 0, 0, 0, 0, 0, 0, 1, 1, 0, 0, 0, 0, 0, 1, 1, 0, 0, 0, 0, 1,\n",
       "         0, 1, 1, 0, 0, 1, 0, 1, 0, 1, 0, 1, 1, 1, 1, 0]), curve=array([ 1.,  1.,  1.,  1.,  1.,  1.,  1.,  1.,  1.,  1.,  1.,  1.,  1.,\n",
       "          1.,  1.,  1.,  1.,  2.,  2.,  2.,  2.,  2.,  2.,  2.,  2.,  2.,\n",
       "          2.,  2.,  1.,  2.,  2.,  2.,  2.,  2.,  2.,  2.,  2.,  2.,  2.,\n",
       "          2.,  0.,  0.,  0.,  0.,  0.,  0.,  0.,  0.,  0.,  0.,  2.,  2.,\n",
       "          2.,  2.,  2.,  2.,  2.,  2.,  2.,  2.,  2.,  2.,  2.,  2.,  2.,\n",
       "          2.,  2.,  2.,  2.,  2.,  0.,  0.,  0.,  0.,  0.,  0.,  0.,  0.,\n",
       "          0.,  0.,  2.,  2.,  2.,  2.,  2.,  2.,  2.,  2.,  2.,  2.,  2.,\n",
       "          2.,  2.,  2.,  2.,  2.,  2.,  2.,  2.,  2.,  2.,  2.,  2.,  2.,\n",
       "          2.,  2.,  2.,  2.,  2.,  2.,  1.,  1.,  1.,  1.,  1.,  1.,  1.,\n",
       "          1.,  1.,  1.,  1.,  1.,  1.,  1.,  3.,  3.,  3.,  3.,  3.,  3.,\n",
       "          3.,  3.,  3.,  3.,  3.,  3.,  3.,  3.,  3.,  3.,  3.,  3.,  3.,\n",
       "          3.,  3.,  2.,  2.,  5.,  5.,  5.,  5.,  5.,  5.,  5.,  5.,  5.,\n",
       "          5.,  5.,  1.,  1.,  1.,  1.,  1.,  1.,  1.,  1.,  1.,  1.,  1.,\n",
       "          1.,  1.,  1.,  1.,  1.,  1.,  1.,  1.,  1.,  1.,  1.,  1.,  1.,\n",
       "          1.,  1.,  1.,  1.,  1.,  1.,  1.,  1.,  1.,  1.,  1.,  1.,  1.,\n",
       "          1.,  1.,  1., 10., 10., 10., 10., 10., 10., 10., 10., 10., 10.,\n",
       "          1.,  1.,  1.,  1.,  1.,  1.,  1.,  1.,  1.,  1.,  6.,  6.,  6.,\n",
       "          6.,  6.,  6.,  6.,  6.,  6.,  6.,  3.,  3.,  3.,  3.,  3.,  3.,\n",
       "          3.,  3.,  3.,  3.,  3.,  0.,  0.,  0.,  0.,  0.,  0.,  0.,  0.,\n",
       "          0.,  0.,  0.,  0.,  0.,  0.,  0.,  0.,  0.,  0.,  0.,  0.,  1.,\n",
       "          1.,  1.,  1.,  1.,  1.,  1.,  1.,  1.,  1.,  1.,  1.,  1.,  1.,\n",
       "          1.,  1.,  1.,  1.,  1.,  1.,  1.,  1.,  1.,  1.,  1.,  1.,  1.,\n",
       "          1.,  1.,  1.,  0.,  0.,  0.,  0.,  0.,  0.,  0.,  0.,  0.,  0.,\n",
       "          0.,  0.,  0.,  1.,  2.,  2.,  2.,  2.,  2.,  2.,  2.,  2.,  2.,\n",
       "          2.,  2.,  4.,  4.,  4.,  4.,  4.,  4.,  4.,  4.,  4.,  4.,  2.,\n",
       "          2.,  2.,  2.,  2.,  2.,  2.,  2.,  2.,  2.,  1.,  1.,  1.,  1.,\n",
       "          1.,  1.,  1.,  1.,  1.,  1.,  0.,  0.,  0.,  0.,  0.,  0.,  0.,\n",
       "          0.,  0.,  0.,  1.,  1.,  5.,  5.,  5.,  5.,  5.,  5.,  5.,  5.,\n",
       "          5.,  5.,  5.,  0.,  0.,  0.,  0.,  1.,  1.,  5.,  5.,  5.,  5.,\n",
       "          5.,  5.,  5.,  5.,  5.,  5.,  5.,  1.,  1.,  1.,  1.,  1.,  1.,\n",
       "          1.,  1.,  1.,  1.,  3.,  3.,  3.,  3.,  3.,  3.,  3.,  3.,  3.,\n",
       "          3.,  1.,  1.,  1.,  1.,  1.,  1.,  1.,  1.,  1.,  1.,  2.,  2.,\n",
       "          2.,  2.,  2.,  2.,  2.,  2.,  2.,  2.,  1.,  1.,  1.,  1.,  1.,\n",
       "          1.,  1.,  1.,  1.,  1.,  4.,  4.,  4.,  4.,  4.,  4.,  4.,  4.,\n",
       "          4.,  4.,  2.,  2.,  2.,  2.,  2.,  2.,  2.,  2.,  2.,  2.,  1.,\n",
       "          1.,  1.,  1.,  1.,  1.,  1.,  1.,  1.,  1.,  2.,  2.,  2.,  2.,\n",
       "          2.,  2.,  2.,  3.,  3.,  3.,  3.,  3.,  3.,  3.,  3.,  3.,  3.,\n",
       "          3.,  2.,  2.,  2.,  2.,  2.,  2.,  2.,  2.,  2.,  2.,  2.,  5.,\n",
       "          5.,  5.,  5.,  5.,  5.,  5.,  5.,  5.,  5.,  2.,  2.,  2.,  2.,\n",
       "          2.,  2.,  2.,  2.,  2.,  2.,  2.,  2.,  2.,  2.,  2.,  2.,  2.,\n",
       "          2.,  2.,  2.,  6.,  6.,  6.,  6.,  6.,  6.,  6.,  6.,  6.,  6.,\n",
       "          2.,  2.,  2.,  2.,  2.,  2.,  2.,  2.,  2.,  2.,  2.,  3.,  3.,\n",
       "          3.,  3.,  3.,  3.,  3.,  3.,  3.,  3.,  1.,  1.,  1.,  1.,  1.,\n",
       "          1.,  1.,  1.,  1.,  5.,  5.,  5.,  5.,  5.,  5.,  5.,  5.,  5.,\n",
       "          5.,  5.,  2.,  2.,  2.,  2.,  2.,  2.,  2.,  2.,  2.,  2.,  1.,\n",
       "          1.,  1.,  1.,  1.,  1.,  1.,  1.,  1.,  1.,  1.,  1.,  1.,  1.,\n",
       "          1.,  1.,  1.,  1.,  1.,  1.,  2.,  2.,  2.,  2.,  2.,  2.,  2.,\n",
       "          2.,  2.,  2.,  2.,  2.,  2.,  2.,  2.,  2.,  2.,  2.,  2.,  2.,\n",
       "          3.,  3.,  3.,  3.,  3.,  3.,  3.,  3.,  3.,  3.,  3.,  1.,  1.,\n",
       "          1.,  1.,  1.,  1.,  1.,  1.,  4.,  4.,  4.,  4.,  4.,  4.,  4.,\n",
       "          4.,  4.,  4.,  4.,  3.,  3.,  3.,  3.,  3.,  3.,  3.,  3.,  3.,\n",
       "          3.,  2.,  2.,  2.,  2.,  2.,  2.,  2.,  2.,  2.,  2.,  1.,  1.,\n",
       "          1.,  1.,  1.,  1.,  1.,  1.,  1.,  1.,  1.,  1.,  1.,  1.,  1.,\n",
       "          1.,  1.,  1.,  1.,  1.,  1.,  1.,  1.,  1.,  1.,  1.,  1.,  1.,\n",
       "          1.,  1.,  1.,  1.,  1.,  1.,  1.,  1.,  1.,  1.,  1.,  1.,  4.,\n",
       "          4.,  4.,  4.,  4.,  4.,  4.,  4.,  4.,  4.,  4.,  1.,  1.,  1.,\n",
       "          1.,  1.,  1.,  1.,  1.,  1.,  1.,  0.,  0.,  0.,  0.,  0.,  0.,\n",
       "          0.,  0.,  0.,  0.,  0.,  0.,  0.,  0.,  0.,  0.,  0.,  0.,  0.,\n",
       "          0.,  0.,  0.,  0.,  0.,  0.,  0.,  0.,  0.,  0.,  0.,  1.,  1.,\n",
       "          1.,  1.,  1.,  1.,  1.,  1.,  1.,  1.,  1.,  1.,  1.,  1.,  1.,\n",
       "          1.,  4.,  4.,  4.,  4.,  4.,  4.,  4.,  4.,  4.,  4.,  4.,  3.,\n",
       "          3.,  3.,  3.,  3.,  3.,  3.,  3.,  3.,  3.,  1.,  1.,  1.,  1.,\n",
       "          1.,  1.,  1.,  1.,  1.,  1.,  4.,  4.,  4.,  4.,  4.,  4.,  4.,\n",
       "          4.,  4.,  4.,  3.,  3.,  3.,  3.,  3.,  3.,  3.,  3.,  3.,  3.,\n",
       "          0.,  0.,  0.,  0.,  0.,  0.,  0.,  0.,  0.,  5.,  5.,  5.,  5.,\n",
       "          5.,  5.,  5.,  5.,  5.,  5.,  5.,  1.,  1.,  3.,  3.,  3.,  3.,\n",
       "          3.,  3.,  3.,  3.,  3.,  3.,  3.,  1.,  1.,  1.,  1.,  1.,  2.,\n",
       "          2.,  2.,  2.,  2.,  2.,  2.,  2.,  2.,  2.,  2.,  1.,  1.,  1.,\n",
       "          1.,  1.,  1.,  1.,  1.,  1.,  1.,  2.,  2.,  2.,  2.,  2.,  2.,\n",
       "          2.,  2.,  2.,  2.])),\n",
       "  RunResult(time=0.022119998931884766, num_calls=990.5, score=9.0, best=array([1, 1, 1, 1, 1, 1, 1, 1, 1, 0, 0, 1, 1, 1, 0, 1, 0, 1, 1, 1, 0, 0,\n",
       "         1, 1, 0, 1, 0, 0, 0, 1, 1, 0, 0, 0, 0, 1, 1, 0, 0, 1, 1, 0, 0, 0,\n",
       "         1, 1, 1, 0, 0, 0, 1, 1, 0, 1, 1, 1, 0, 1, 1, 1, 0, 1, 0, 0, 1, 1,\n",
       "         1, 0, 1, 1, 0, 1, 0, 0, 0, 0, 1, 1, 0, 0]), curve=array([1., 1., 1., 1., 1., 1., 1., 1., 1., 1., 1., 1., 1., 1., 1., 1., 1.,\n",
       "         1., 1., 2., 2., 2., 2., 2., 2., 2., 2., 2., 2., 2., 3., 3., 3., 3.,\n",
       "         3., 3., 3., 3., 3., 3., 1., 1., 1., 1., 1., 1., 1., 1., 1., 1., 1.,\n",
       "         1., 1., 1., 1., 1., 1., 1., 1., 1., 2., 2., 2., 2., 2., 2., 2., 2.,\n",
       "         2., 2., 0., 0., 0., 0., 0., 1., 1., 2., 2., 2., 2., 2., 2., 2., 2.,\n",
       "         2., 2., 2., 0., 1., 1., 1., 1., 1., 1., 1., 1., 1., 1., 1., 1., 1.,\n",
       "         1., 1., 1., 1., 1., 1., 1., 1., 3., 3., 3., 3., 3., 3., 3., 3., 3.,\n",
       "         4., 4., 4., 4., 4., 4., 4., 4., 4., 4., 4., 0., 0., 0., 0., 0., 0.,\n",
       "         0., 0., 0., 0., 1., 1., 1., 1., 1., 1., 1., 1., 1., 1., 3., 3., 3.,\n",
       "         3., 3., 3., 3., 3., 3., 3., 4., 4., 4., 4., 4., 4., 4., 4., 4., 4.,\n",
       "         4., 4., 4., 4., 4., 4., 4., 4., 4., 4., 4., 2., 2., 2., 2., 2., 2.,\n",
       "         2., 2., 2., 2., 1., 1., 1., 1., 1., 1., 1., 1., 1., 1., 5., 5., 5.,\n",
       "         5., 5., 5., 5., 5., 5., 5., 4., 4., 4., 4., 4., 4., 4., 4., 4., 4.,\n",
       "         2., 2., 2., 2., 2., 2., 2., 2., 2., 2., 0., 0., 0., 1., 1., 1., 1.,\n",
       "         1., 1., 1., 1., 1., 1., 1., 1., 1., 1., 1., 1., 1., 1., 1., 1., 1.,\n",
       "         3., 3., 3., 3., 3., 3., 3., 3., 3., 3., 3., 3., 3., 3., 3., 3., 3.,\n",
       "         3., 3., 3., 0., 0., 0., 0., 0., 0., 0., 0., 0., 0., 3., 3., 3., 3.,\n",
       "         3., 3., 3., 3., 3., 4., 4., 4., 4., 4., 4., 4., 4., 4., 4., 4., 2.,\n",
       "         2., 2., 3., 3., 3., 3., 3., 3., 3., 3., 3., 3., 3., 0., 0., 0., 0.,\n",
       "         0., 0., 0., 0., 0., 0., 3., 3., 3., 3., 3., 3., 3., 3., 3., 3., 1.,\n",
       "         1., 1., 1., 1., 1., 1., 1., 1., 1., 1., 3., 4., 4., 4., 4., 4., 4.,\n",
       "         4., 4., 4., 4., 4., 0., 1., 1., 1., 1., 1., 1., 1., 1., 1., 1., 1.,\n",
       "         2., 2., 2., 2., 2., 2., 2., 2., 2., 2., 1., 1., 1., 1., 1., 1., 1.,\n",
       "         1., 1., 1., 2., 2., 2., 2., 2., 2., 2., 3., 3., 3., 3., 3., 3., 3.,\n",
       "         3., 3., 3., 3., 2., 2., 2., 2., 2., 2., 2., 2., 2., 2., 0., 0., 0.,\n",
       "         0., 0., 0., 0., 0., 1., 1., 1., 1., 1., 1., 1., 1., 7., 7., 7., 7.,\n",
       "         7., 7., 7., 7., 7., 7., 7., 1., 1., 1., 1., 1., 1., 1., 1., 1., 1.,\n",
       "         1., 1., 1., 1., 1., 1., 1., 1., 1., 1., 0., 0., 0., 0., 0., 0., 0.,\n",
       "         0., 0., 0., 2., 2., 2., 2., 2., 2., 2., 2., 2., 2., 1., 1., 1., 1.,\n",
       "         1., 1., 1., 1., 1., 1., 0., 0., 0., 0., 0., 0., 0., 0., 0., 0., 0.,\n",
       "         0., 0., 0., 0., 0., 0., 0., 0., 0., 5., 5., 5., 5., 5., 5., 5., 5.,\n",
       "         5., 5., 1., 1., 1., 1., 1., 1., 1., 1., 1., 1., 1., 1., 1., 1., 1.,\n",
       "         1., 1., 1., 1., 1., 0., 0., 0., 0., 0., 0., 0., 0., 0., 0., 3., 3.,\n",
       "         3., 3., 3., 3., 3., 3., 3., 3., 1., 1., 1., 1., 1., 1., 1., 1., 1.,\n",
       "         1., 4., 4., 4., 4., 4., 4., 4., 4., 4., 4., 4., 4., 4., 4., 4., 4.,\n",
       "         4., 5., 5., 5., 5., 5., 5., 5., 5., 5., 5., 5., 9., 9., 9., 9., 9.,\n",
       "         9., 9., 9., 9., 9., 5., 5., 5., 5., 5., 5., 5., 5., 5., 5., 1., 1.,\n",
       "         3., 3., 3., 3., 3., 3., 3., 3., 3., 3., 3., 2., 2., 2., 2., 2., 2.,\n",
       "         2., 2., 2., 2., 0., 0., 0., 0., 0., 0., 0., 0., 0., 0., 3., 3., 3.,\n",
       "         3., 3., 3., 3., 3., 3., 3., 3., 3., 3., 3., 3., 3., 3., 3., 3., 3.,\n",
       "         1., 1., 1., 1., 1., 1., 1., 1., 1., 1., 5., 5., 5., 5., 5., 5., 5.,\n",
       "         5., 5., 5., 5., 5., 5., 5., 5., 5., 5., 5., 5., 5., 2., 2., 2., 2.,\n",
       "         2., 2., 2., 2., 2., 2., 3., 3., 3., 3., 3., 3., 3., 3., 3., 3., 2.,\n",
       "         2., 2., 2., 2., 2., 2., 2., 2., 2., 1., 1., 1., 1., 1., 1., 1., 1.,\n",
       "         1., 1., 2., 2., 2., 2., 2., 2., 2., 6., 6., 6., 6., 6., 6., 6., 6.,\n",
       "         6., 6., 6., 1., 1., 1., 1., 1., 1., 1., 1., 1., 1., 0., 0., 0., 0.,\n",
       "         0., 0., 0., 0., 0., 0., 1., 1., 1., 1., 1., 1., 1., 1., 1., 1., 2.,\n",
       "         2., 2., 2., 2., 2., 2., 2., 2., 2., 0., 0., 0., 0., 0., 0., 0., 0.,\n",
       "         0., 0., 5., 5., 5., 5., 5., 5., 5., 5., 5., 5., 2., 2., 2., 2., 2.,\n",
       "         2., 2., 2., 2., 2., 4., 4., 4., 4., 4., 4., 6., 6., 8., 8., 8., 8.,\n",
       "         8., 8., 8., 8., 8., 8., 8., 2., 2., 2., 2., 2., 2., 2., 2., 2., 2.,\n",
       "         3., 3., 3., 3., 3., 3., 3., 3., 3., 3., 0., 0., 0., 0., 0., 0., 0.,\n",
       "         0., 0., 0., 1., 1., 1., 1., 1., 1., 1., 1., 1., 1., 4., 4., 4., 4.,\n",
       "         4., 4., 4., 4., 4., 4., 0., 0., 0., 0., 0., 0., 0., 0., 0., 0.])),\n",
       "  RunResult(time=0.021669864654541016, num_calls=975.0, score=8.0, best=array([1, 1, 1, 1, 1, 1, 1, 1, 0, 1, 1, 1, 1, 0, 0, 0, 1, 1, 0, 0, 0, 1,\n",
       "         0, 1, 0, 1, 0, 0, 0, 1, 1, 1, 0, 1, 0, 1, 0, 0, 0, 1, 0, 0, 1, 1,\n",
       "         0, 0, 1, 1, 1, 1, 1, 0, 1, 0, 1, 1, 1, 1, 0, 0, 0, 1, 1, 1, 0, 0,\n",
       "         0, 1, 0, 1, 0, 0, 0, 1, 0, 1, 0, 1, 1, 0, 0, 0, 0, 1, 1, 1, 0, 0,\n",
       "         1, 1, 0, 0, 1, 1, 1, 0, 0, 1, 1, 1]), curve=array([0., 0., 0., 0., 0., 0., 0., 0., 0., 0., 1., 1., 1., 1., 1., 1., 1.,\n",
       "         1., 1., 1., 4., 4., 4., 4., 4., 4., 4., 4., 4., 4., 0., 0., 0., 2.,\n",
       "         2., 2., 2., 2., 2., 2., 2., 2., 2., 2., 3., 3., 3., 3., 3., 3., 3.,\n",
       "         3., 3., 3., 7., 7., 7., 7., 7., 7., 7., 7., 7., 7., 0., 0., 0., 0.,\n",
       "         0., 0., 0., 0., 0., 0., 3., 3., 3., 3., 3., 3., 3., 3., 3., 3., 1.,\n",
       "         1., 1., 1., 1., 1., 1., 1., 1., 1., 0., 0., 0., 0., 0., 0., 0., 0.,\n",
       "         0., 0., 2., 2., 2., 2., 2., 2., 2., 2., 2., 3., 3., 3., 3., 3., 3.,\n",
       "         3., 3., 3., 3., 3., 7., 7., 7., 7., 7., 7., 7., 7., 7., 7., 0., 0.,\n",
       "         0., 0., 0., 0., 0., 0., 0., 0., 1., 1., 1., 1., 1., 1., 1., 1., 1.,\n",
       "         1., 3., 3., 3., 3., 3., 3., 4., 4., 4., 4., 4., 4., 4., 4., 4., 4.,\n",
       "         4., 2., 2., 2., 2., 2., 2., 2., 2., 2., 2., 4., 4., 4., 4., 4., 4.,\n",
       "         4., 4., 4., 4., 1., 1., 1., 1., 1., 1., 1., 1., 1., 1., 1., 1., 1.,\n",
       "         1., 1., 1., 1., 1., 1., 1., 1., 1., 1., 1., 1., 1., 1., 1., 1., 1.,\n",
       "         3., 3., 3., 3., 3., 3., 3., 3., 3., 3., 4., 4., 4., 4., 4., 4., 4.,\n",
       "         4., 4., 4., 1., 1., 1., 1., 1., 1., 1., 1., 1., 1., 0., 0., 0., 0.,\n",
       "         0., 0., 0., 0., 0., 0., 3., 3., 3., 3., 3., 3., 3., 3., 3., 3., 1.,\n",
       "         1., 1., 1., 1., 1., 5., 5., 5., 5., 5., 5., 5., 5., 5., 5., 5., 0.,\n",
       "         0., 0., 0., 0., 2., 2., 2., 2., 2., 2., 2., 2., 2., 2., 2., 1., 1.,\n",
       "         1., 1., 1., 1., 1., 1., 1., 1., 1., 1., 1., 1., 1., 1., 1., 1., 1.,\n",
       "         1., 0., 0., 0., 0., 0., 0., 0., 0., 0., 0., 0., 0., 0., 0., 0., 0.,\n",
       "         0., 0., 0., 0., 0., 0., 0., 0., 0., 0., 0., 0., 0., 0., 0., 0., 0.,\n",
       "         0., 0., 0., 0., 0., 0., 0., 2., 2., 2., 2., 2., 2., 2., 2., 2., 2.,\n",
       "         1., 1., 1., 1., 1., 1., 1., 1., 1., 1., 3., 3., 3., 3., 3., 3., 3.,\n",
       "         3., 3., 3., 2., 2., 2., 2., 2., 2., 2., 2., 2., 2., 3., 3., 3., 6.,\n",
       "         6., 6., 6., 6., 6., 6., 6., 6., 6., 6., 4., 4., 4., 4., 4., 4., 4.,\n",
       "         4., 4., 4., 2., 2., 2., 2., 2., 2., 2., 2., 2., 2., 3., 7., 7., 7.,\n",
       "         7., 7., 7., 7., 7., 7., 7., 7., 4., 4., 4., 4., 4., 4., 4., 4., 4.,\n",
       "         4., 2., 2., 2., 2., 2., 2., 2., 2., 2., 2., 1., 1., 1., 1., 1., 1.,\n",
       "         1., 1., 1., 1., 1., 1., 1., 1., 1., 1., 1., 1., 1., 1., 3., 3., 3.,\n",
       "         3., 3., 3., 3., 3., 3., 3., 8., 8., 8., 8., 8., 8., 8., 8., 8., 8.,\n",
       "         1., 1., 1., 1., 1., 1., 1., 1., 1., 1., 3., 3., 3., 3., 3., 3., 3.,\n",
       "         3., 3., 3., 1., 1., 1., 1., 1., 1., 1., 1., 1., 1., 0., 0., 0., 0.,\n",
       "         0., 0., 0., 0., 0., 0., 3., 3., 3., 3., 3., 3., 3., 3., 3., 3., 1.,\n",
       "         1., 1., 1., 1., 1., 1., 1., 1., 1., 6., 6., 6., 6., 6., 6., 6., 6.,\n",
       "         6., 6., 2., 2., 2., 2., 2., 2., 2., 2., 2., 2., 5., 5., 5., 5., 5.,\n",
       "         5., 5., 5., 5., 5., 1., 1., 1., 1., 1., 1., 1., 1., 1., 1., 2., 2.,\n",
       "         2., 2., 2., 2., 2., 2., 2., 2., 1., 1., 1., 1., 1., 1., 1., 1., 1.,\n",
       "         1., 4., 4., 4., 4., 4., 4., 4., 4., 4., 4., 0., 0., 0., 0., 0., 0.,\n",
       "         0., 0., 0., 0., 3., 3., 3., 3., 3., 3., 3., 3., 3., 3., 1., 1., 1.,\n",
       "         1., 1., 1., 1., 1., 1., 1., 0., 0., 0., 0., 0., 0., 0., 0., 0., 0.,\n",
       "         3., 3., 3., 4., 4., 4., 4., 4., 4., 4., 4., 4., 4., 4., 2., 2., 2.,\n",
       "         2., 2., 2., 2., 2., 2., 2., 4., 4., 4., 4., 4., 4., 4., 4., 4., 4.,\n",
       "         0., 0., 0., 0., 0., 0., 0., 0., 0., 0., 1., 1., 1., 1., 1., 1., 1.,\n",
       "         1., 1., 1., 1., 1., 1., 1., 1., 1., 1., 1., 1., 1., 0., 0., 0., 0.,\n",
       "         0., 0., 1., 1., 1., 1., 1., 1., 1., 1., 1., 1., 1., 2., 2., 2., 2.,\n",
       "         2., 2., 2., 2., 2., 2., 0., 0., 0., 0., 0., 0., 0., 0., 0., 0., 1.,\n",
       "         1., 1., 1., 1., 1., 1., 1., 1., 1., 1., 1., 1., 1., 1., 1., 1., 1.,\n",
       "         1., 1., 1., 1., 2., 2., 2., 2., 2., 2., 2., 2., 2., 2., 2., 1., 1.,\n",
       "         1., 1., 1., 1., 1., 1., 1., 1., 1., 1., 1., 1., 1., 1., 1., 1., 1.,\n",
       "         1., 1., 1., 1., 1., 1., 1., 1., 1., 1., 1., 2., 2., 2., 2., 2., 2.,\n",
       "         2., 2., 2., 2., 2., 2., 2., 2., 2., 2., 2., 2., 2., 2.]))],\n",
       " [RunResult(time=0.00555109977722168, num_calls=236.0, score=34.0, best=array([1, 1, 1, 1, 1, 1, 1, 1, 1, 1, 1, 1, 1, 1, 0, 0, 0, 0, 0, 0]), curve=array([ 2.,  2.,  2.,  2.,  0.,  0.,  2.,  2.,  2.,  2.,  2.,  2.,  1.,\n",
       "          1.,  1.,  1.,  1.,  1.,  1.,  1.,  1.,  1.,  1.,  1.,  1.,  1.,\n",
       "          1.,  3.,  3.,  6.,  6.,  6.,  6.,  6.,  6.,  6.,  6.,  6.,  6.,\n",
       "          6.,  6.,  6., 26., 26., 26., 29., 29., 29., 29., 29., 29., 29.,\n",
       "         29., 29., 28., 28., 28., 29., 29., 29., 29., 29., 29., 29., 29.,\n",
       "         29., 29., 29., 29., 29., 29., 29., 29., 29., 29., 29., 29., 29.,\n",
       "         29., 29., 27., 27., 27., 27., 27., 27., 27., 27., 27., 27., 27.,\n",
       "         27., 27., 27., 27., 27., 27., 27., 27., 27., 27., 27., 27., 27.,\n",
       "         27., 27., 27., 27., 27., 27., 27., 27., 27., 27., 27., 27., 27.,\n",
       "         27., 27., 27., 27., 27., 27., 27., 27., 27., 27., 27., 27., 27.,\n",
       "         27., 27., 27., 27., 27., 27., 27., 27., 27., 27., 27., 27., 27.,\n",
       "         27., 27., 27., 27., 27., 27., 27., 27., 27., 27., 27., 27., 27.,\n",
       "         27., 27., 27., 27., 27., 27., 27., 27., 31., 32., 32., 32., 32.,\n",
       "         32., 34., 34., 34., 34., 34., 34., 34., 34., 34., 34., 34.])),\n",
       "  RunResult(time=0.02326643466949463, num_calls=777.0, score=65.0, best=array([1, 1, 1, 1, 1, 1, 0, 1, 1, 1, 0, 1, 1, 1, 1, 0, 0, 0, 0, 0, 0, 0,\n",
       "         0, 0, 0, 0, 0, 0, 0, 0, 0, 0, 0, 0, 0, 0, 0, 0, 0, 0]), curve=array([ 0.,  0.,  0.,  0.,  1.,  1.,  1.,  1.,  1.,  1.,  1.,  1.,  1.,\n",
       "          1.,  1.,  1.,  1.,  1.,  1.,  1.,  1.,  1.,  1.,  1.,  1.,  1.,\n",
       "          1.,  1.,  1.,  1.,  1.,  1.,  1.,  1.,  1.,  1.,  1.,  1.,  1.,\n",
       "          1.,  1.,  1.,  1.,  1.,  1.,  1.,  1.,  1.,  1.,  1.,  1.,  1.,\n",
       "          1.,  1.,  1.,  1.,  1.,  1.,  1.,  1.,  1.,  1.,  1.,  1.,  1.,\n",
       "          1.,  1.,  1.,  1.,  1.,  1.,  1.,  1.,  1.,  1.,  1.,  1.,  1.,\n",
       "          1.,  1.,  1.,  1.,  1.,  1.,  1.,  1.,  1.,  1.,  1.,  1.,  1.,\n",
       "          1.,  1.,  4.,  4.,  4.,  7.,  7.,  7.,  7.,  7.,  7.,  7.,  7.,\n",
       "          7.,  7.,  7.,  7.,  7.,  7.,  7.,  8., 14., 14., 14., 14., 14.,\n",
       "         14., 14., 14., 14., 14., 14., 14., 14., 14., 14., 14., 14., 14.,\n",
       "         14., 14., 14., 14., 14., 14., 14., 14., 14., 14., 14., 14., 14.,\n",
       "         14., 14., 14., 14., 14., 15., 15., 15., 15., 15., 14., 14., 14.,\n",
       "         14., 14., 14., 14., 14., 14., 14., 14., 14., 14., 14., 14., 14.,\n",
       "         14., 14., 14., 14., 14., 14., 14., 14., 14., 14., 14., 14., 14.,\n",
       "         14., 14., 14., 14., 14., 14., 14., 14., 14., 14., 14., 14., 14.,\n",
       "         14., 14., 14., 14., 14., 14., 14., 14., 14., 14., 14., 15., 15.,\n",
       "         15., 15., 15., 15., 15., 15., 15., 15., 15., 15., 15., 15., 15.,\n",
       "         15., 15., 15., 15., 15., 15., 15., 15., 15., 15., 15., 15., 15.,\n",
       "         15., 16., 16., 16., 16., 16., 16., 16., 16., 16., 16., 16., 16.,\n",
       "         16., 16., 16., 16., 16., 16., 16., 16., 16., 16., 16., 16., 16.,\n",
       "         16., 16., 16., 16., 16., 16., 16., 16., 16., 16., 16., 16., 16.,\n",
       "         16., 16., 16., 16., 16., 16., 16., 16., 16., 16., 16., 17., 17.,\n",
       "         17., 17., 17., 17., 17., 17., 17., 17., 17., 17., 17., 17., 17.,\n",
       "         17., 17., 17., 17., 17., 17., 17., 17., 17., 17., 17., 17., 17.,\n",
       "         17., 17., 17., 17., 17., 17., 17., 17., 17., 17., 17., 17., 17.,\n",
       "         17., 18., 18., 18., 18., 18., 18., 18., 18., 18., 18., 18., 18.,\n",
       "         18., 18., 18., 18., 18., 18., 18., 18., 18., 19., 19., 19., 19.,\n",
       "         19., 19., 19., 19., 19., 19., 19., 19., 19., 19., 19., 19., 19.,\n",
       "         19., 19., 19., 19., 19., 19., 19., 19., 19., 19., 19., 19., 19.,\n",
       "         19., 19., 19., 19., 19., 19., 19., 19., 19., 19., 19., 19., 19.,\n",
       "         19., 59., 59., 59., 59., 60., 60., 60., 60., 60., 60., 60., 60.,\n",
       "         60., 60., 60., 60., 60., 60., 60., 60., 60., 60., 60., 60., 60.,\n",
       "         60., 62., 62., 65., 65., 65., 65., 65., 65., 65., 65., 65., 65.,\n",
       "         65., 65., 65., 65., 65., 65., 65., 65., 65., 65., 65., 65., 65.,\n",
       "         65., 65., 65., 65., 65., 65., 65., 65., 65., 65., 65., 65., 65.,\n",
       "         65., 65., 65., 65., 65., 65., 65., 65., 65., 65., 65., 65., 65.,\n",
       "         65., 65., 65., 65., 65., 65., 65., 65., 65., 65., 65., 65., 65.,\n",
       "         65., 65., 65., 65., 65., 65., 65., 65., 65.])),\n",
       "  RunResult(time=0.05113792419433594, num_calls=1710.5, score=81.0, best=array([1, 1, 1, 1, 1, 1, 1, 1, 1, 1, 1, 1, 1, 1, 1, 1, 1, 1, 1, 1, 1, 0,\n",
       "         0, 1, 0, 1, 0, 0, 1, 1, 0, 0, 1, 0, 0, 0, 1, 0, 0, 0, 1, 1, 0, 1,\n",
       "         0, 1, 0, 0, 1, 1, 0, 1, 0, 0, 0, 0, 0, 0, 0, 0]), curve=array([ 0.,  0.,  0.,  0.,  0.,  0.,  0.,  0.,  0.,  0.,  0.,  0.,  0.,\n",
       "          0.,  0.,  0.,  0.,  0.,  0.,  0.,  0.,  0.,  0.,  0.,  0.,  0.,\n",
       "          0.,  0.,  0.,  0.,  0.,  0.,  0.,  0.,  0.,  0.,  0.,  0.,  0.,\n",
       "          0.,  0.,  0.,  0.,  0.,  0.,  0.,  0.,  0.,  0.,  0.,  0.,  0.,\n",
       "          0.,  1.,  1.,  1.,  1.,  1.,  1.,  1.,  1.,  1.,  1.,  1.,  1.,\n",
       "          1.,  1.,  1.,  1.,  2.,  2.,  2.,  2.,  2.,  2.,  2.,  2.,  2.,\n",
       "          2.,  2.,  2.,  2.,  2.,  2.,  2.,  2.,  2.,  2.,  2.,  2.,  2.,\n",
       "          2.,  2.,  2.,  2.,  2.,  2.,  2.,  2.,  2.,  2.,  2.,  2.,  2.,\n",
       "          2.,  2.,  2.,  2.,  2.,  2.,  2.,  2.,  2.,  2.,  2.,  2.,  2.,\n",
       "          2.,  2.,  2.,  2.,  2.,  2.,  2.,  2.,  2.,  2.,  2.,  2.,  2.,\n",
       "          2.,  2.,  2.,  2.,  2.,  2.,  2.,  2.,  2.,  2.,  2.,  2.,  2.,\n",
       "          2.,  2.,  2.,  2.,  2.,  2.,  2.,  2.,  2.,  2.,  2.,  2.,  2.,\n",
       "          2.,  2.,  2.,  2.,  2.,  2.,  2.,  2.,  2.,  2.,  2.,  2.,  2.,\n",
       "          2.,  2.,  2.,  2.,  2.,  2.,  2.,  2.,  2.,  2.,  2.,  2.,  2.,\n",
       "          2.,  2.,  2.,  9.,  9.,  9.,  9.,  9.,  9.,  9.,  9.,  9.,  9.,\n",
       "          9.,  9.,  9.,  9.,  9.,  9.,  9.,  9.,  9.,  9.,  9.,  9.,  9.,\n",
       "         12., 12., 12., 12., 12., 12., 12., 12., 12., 12., 12., 12., 12.,\n",
       "         12., 12., 12., 12., 12., 12., 12., 12., 12., 12., 12., 12., 12.,\n",
       "         12., 12., 12., 12., 12., 12., 12., 12., 12., 12., 12., 12., 12.,\n",
       "         12., 12., 12., 12., 12., 12., 12., 12., 12., 12., 12., 12., 12.,\n",
       "         12., 12., 12., 12., 12., 12., 12., 12., 12., 12., 12., 12., 12.,\n",
       "         12., 12., 12., 12., 12., 12., 12., 12., 12., 12., 12., 12., 12.,\n",
       "         12., 12., 12., 12., 12., 12., 12., 12., 12., 12., 12., 12., 12.,\n",
       "         12., 12., 12., 12., 12., 12., 13., 13., 13., 13., 13., 13., 13.,\n",
       "         13., 13., 13., 13., 13., 13., 13., 13., 13., 13., 13., 13., 13.,\n",
       "         13., 13., 13., 13., 19., 19., 19., 19., 19., 19., 19., 19., 19.,\n",
       "         19., 79., 79., 79., 79., 79., 79., 79., 79., 79., 79., 79., 79.,\n",
       "         79., 79., 79., 79., 79., 79., 79., 79., 79., 79., 79., 79., 79.,\n",
       "         79., 79., 79., 79., 79., 79., 79., 79., 79., 79., 79., 79., 79.,\n",
       "         79., 79., 79., 79., 79., 79., 79., 79., 79., 79., 79., 79., 79.,\n",
       "         79., 79., 79., 79., 79., 79., 79., 81., 81., 81., 81., 81., 81.,\n",
       "         81., 81., 81., 81., 81., 81., 81., 81., 81., 81., 81., 81., 81.,\n",
       "         81., 81., 81., 81., 81., 81., 81., 81., 81., 81., 81., 81., 81.,\n",
       "         81., 81., 81., 81., 81., 81., 81., 81., 81., 81., 81., 81., 81.,\n",
       "         81., 81., 81., 81., 81., 81., 81.])),\n",
       "  RunResult(time=0.09311091899871826, num_calls=2999.0, score=52.0, best=array([1, 1, 1, 1, 1, 1, 1, 1, 1, 1, 1, 1, 1, 1, 1, 1, 1, 1, 1, 1, 1, 1,\n",
       "         1, 1, 1, 1, 1, 1, 1, 1, 1, 1, 1, 1, 1, 1, 1, 1, 1, 1, 1, 1, 1, 1,\n",
       "         1, 1, 1, 1, 1, 1, 1, 1, 0, 0, 1, 1, 1, 0, 1, 1, 1, 0, 0, 0, 1, 1,\n",
       "         1, 0, 1, 0, 1, 1, 0, 0, 0, 0, 1, 0, 1, 0]), curve=array([ 0.,  0.,  0., ..., 52., 52., 52.])),\n",
       "  RunResult(time=0.13863062858581543, num_calls=4307.5, score=61.0, best=array([1, 1, 1, 1, 1, 1, 1, 1, 1, 1, 1, 1, 1, 1, 1, 1, 1, 1, 1, 1, 1, 1,\n",
       "         1, 1, 1, 1, 1, 1, 1, 1, 1, 1, 1, 1, 1, 1, 1, 1, 1, 1, 1, 1, 1, 1,\n",
       "         1, 1, 1, 1, 1, 1, 1, 1, 1, 1, 1, 1, 1, 1, 1, 1, 1, 0, 1, 0, 0, 0,\n",
       "         1, 0, 0, 0, 1, 0, 1, 0, 0, 1, 0, 1, 1, 0, 1, 0, 0, 1, 1, 0, 0, 0,\n",
       "         1, 1, 1, 0, 0, 1, 0, 1, 1, 1, 0, 1]), curve=array([ 0.,  0.,  0., ..., 61., 61., 61.]))],\n",
       " [RunResult(time=0.4947240352630615, num_calls=4628.0, score=36.0, best=array([1, 1, 1, 1, 0, 0, 0, 0, 0, 0, 0, 0, 0, 0, 0, 0, 0, 0, 0, 0]), curve=array([30., 30., 33., 33., 33., 33., 33., 33., 33., 33., 33., 36., 36.,\n",
       "         36., 36., 36., 36., 36., 36., 36., 36., 36.])),\n",
       "  RunResult(time=0.42782652378082275, num_calls=3923.0, score=57.0, best=array([1, 1, 1, 1, 1, 1, 1, 1, 1, 1, 1, 1, 1, 1, 1, 1, 1, 0, 0, 1, 1, 1,\n",
       "         1, 0, 0, 0, 1, 1, 0, 0, 1, 1, 1, 0, 0, 0, 0, 0, 0, 0]), curve=array([48., 49., 50., 52., 52., 52., 52., 52., 52., 53., 53., 53., 53.,\n",
       "         53., 53., 53., 53., 57., 57., 57., 57., 57., 57., 57., 57., 57.,\n",
       "         57., 57.])),\n",
       "  RunResult(time=0.4628840684890747, num_calls=4227.0, score=77.0, best=array([1, 1, 1, 1, 1, 1, 1, 1, 0, 0, 1, 0, 0, 0, 1, 0, 1, 1, 0, 1, 1, 0,\n",
       "         0, 0, 1, 1, 0, 0, 1, 1, 0, 0, 1, 0, 0, 1, 1, 0, 0, 1, 0, 0, 1, 0,\n",
       "         0, 0, 0, 0, 0, 0, 0, 0, 0, 0, 0, 0, 0, 0, 0, 0]), curve=array([ 9., 10., 70., 72., 72., 74., 74., 76., 76., 76., 76., 77., 77.,\n",
       "         77., 77., 77., 77., 77., 77., 77., 77., 77.])),\n",
       "  RunResult(time=0.506229043006897, num_calls=4529.5, score=97.0, best=array([1, 1, 1, 1, 1, 1, 1, 1, 1, 1, 1, 1, 1, 1, 1, 1, 1, 0, 1, 1, 0, 1,\n",
       "         1, 0, 0, 0, 1, 0, 1, 1, 1, 0, 0, 1, 0, 1, 1, 0, 1, 1, 1, 0, 0, 0,\n",
       "         1, 1, 1, 0, 1, 0, 0, 0, 1, 0, 0, 0, 1, 1, 0, 1, 1, 1, 1, 0, 0, 1,\n",
       "         1, 0, 0, 0, 0, 0, 0, 0, 0, 0, 0, 0, 0, 0]), curve=array([ 9.,  9., 13., 13., 93., 93., 94., 95., 95., 95., 97., 97., 97.,\n",
       "         97., 97., 97., 97., 97., 97., 97., 97.])),\n",
       "  RunResult(time=0.7247161865234375, num_calls=6239.0, score=119.0, best=array([1, 1, 1, 1, 1, 1, 1, 1, 1, 1, 1, 1, 0, 0, 0, 0, 0, 0, 1, 1, 0, 0,\n",
       "         1, 0, 1, 0, 1, 1, 1, 1, 0, 1, 1, 1, 1, 1, 0, 0, 1, 0, 0, 0, 1, 1,\n",
       "         0, 1, 1, 0, 0, 0, 1, 0, 1, 1, 0, 1, 1, 0, 0, 1, 1, 0, 1, 0, 0, 0,\n",
       "         1, 0, 1, 0, 0, 0, 0, 0, 1, 1, 0, 1, 0, 0, 1, 0, 0, 0, 0, 0, 0, 0,\n",
       "         0, 0, 0, 0, 0, 0, 0, 0, 0, 0, 0, 0]), curve=array([ 13.,  13.,  14.,  14.,  14.,  14.,  17.,  17.,  17.,  17.,  17.,\n",
       "          17.,  19.,  19.,  19.,  19.,  19.,  19.,  19.,  19., 113., 117.,\n",
       "         119., 119., 119., 119., 119., 119., 119., 119., 119., 119., 119.]))])"
      ]
     },
     "execution_count": 86,
     "metadata": {},
     "output_type": "execute_result"
    }
   ],
   "source": [
    "rhcs3, sas3, gas3"
   ]
  },
  {
   "cell_type": "code",
   "execution_count": 87,
   "metadata": {},
   "outputs": [
    {
     "name": "stdout",
     "output_type": "stream",
     "text": [
      "20\n",
      "40\n",
      "60\n",
      "80\n",
      "100\n"
     ]
    }
   ],
   "source": [
    "mim3 = []\n",
    "for prob_size in [20, 40, 60, 80,100]:\n",
    "    runner = Runner(mlrose.FourPeaks(), prob_size)\n",
    "    print(prob_size)\n",
    "    #rhcs.append(runner.run_agg(mlrose.random_hill_climb, restarts=10))\n",
    "    #sas.append(runner.run_agg(mlrose.simulated_annealing))\n",
    "    #gas.append(runner.run_agg(mlrose.genetic_alg, pop_size=200, mutation_prob=0.1))\n",
    "    mim3.append(runner.run_agg(mlrose.mimic, pop_size=200, count=5, keep_pct=0.1))"
   ]
  },
  {
   "cell_type": "code",
   "execution_count": 88,
   "metadata": {},
   "outputs": [],
   "source": [
    "rhc_score3 = [rhc.score for rhc in rhcs3]\n",
    "sas_score3=[saas.score for saas in sas3 ]\n",
    "gas_score3=[gaas.score for gaas in gas3]\n",
    "mim_score3=[mimi.score for mimi in mim3]\n",
    "problem_size = [20, 40, 60, 80,100]"
   ]
  },
  {
   "cell_type": "code",
   "execution_count": null,
   "metadata": {},
   "outputs": [],
   "source": [
    "# checking fitness value for RO algorithms"
   ]
  },
  {
   "cell_type": "code",
   "execution_count": 116,
   "metadata": {},
   "outputs": [
    {
     "data": {
      "text/plain": [
       "<matplotlib.legend.Legend at 0x123ca3e90>"
      ]
     },
     "execution_count": 116,
     "metadata": {},
     "output_type": "execute_result"
    },
    {
     "data": {
      "image/png": "[encoded data removed]",
      "text/plain": [
       "<Figure size 360x216 with 1 Axes>"
      ]
     },
     "metadata": {
      "needs_background": "light"
     },
     "output_type": "display_data"
    }
   ],
   "source": [
    "plt.figure(figsize=(5,3))\n",
    "plt.plot(problem_size,rhc_score3, 'o-', color='r', label='RHC')\n",
    "plt.plot(problem_size,sas_score3, 'o-',color='b', label='SA')\n",
    "plt.plot(problem_size,gas_score3, 'o-',color='k', label='GA')\n",
    "plt.plot(problem_size,mim_score3, 'o-',color='g', label='MIMIC')\n",
    "plt.ylabel('Fitness Value', fontsize=12)\n",
    "plt.xlabel('Problem Size', fontsize=12)\n",
    "plt.legend(loc='best', fontsize=10)"
   ]
  },
  {
   "cell_type": "code",
   "execution_count": null,
   "metadata": {},
   "outputs": [],
   "source": [
    "# checking number of calls for RO algorithms"
   ]
  },
  {
   "cell_type": "code",
   "execution_count": 90,
   "metadata": {},
   "outputs": [],
   "source": [
    "rhc_num_calls3 = [rhc.num_calls for rhc in rhcs3]\n",
    "sas_num_calls3 =[saas.num_calls for saas in sas3 ]\n",
    "gas_num_calls3 =[gaas.num_calls for gaas in gas3 ]\n",
    "mim_num_calls3 =[mimi.num_calls for mimi in mim3 ]"
   ]
  },
  {
   "cell_type": "code",
   "execution_count": 91,
   "metadata": {},
   "outputs": [
    {
     "data": {
      "text/plain": [
       "<matplotlib.legend.Legend at 0x1234f2f50>"
      ]
     },
     "execution_count": 91,
     "metadata": {},
     "output_type": "execute_result"
    },
    {
     "data": {
      "image/png": "[encoded data removed]",
      "text/plain": [
       "<Figure size 360x216 with 1 Axes>"
      ]
     },
     "metadata": {
      "needs_background": "light"
     },
     "output_type": "display_data"
    }
   ],
   "source": [
    "plt.figure(figsize=(5,3))\n",
    "plt.plot(problem_size,rhc_num_calls3, 'o-', color='r', label='RH')\n",
    "plt.plot(problem_size,sas_num_calls3,'o-', color='b', label='SA')\n",
    "plt.plot(problem_size,gas_num_calls3,'o-', color='k', label='GA')\n",
    "plt.plot(problem_size,mim_num_calls3,'o-', color='g', label='MIMIC')\n",
    "plt.ylabel('Number of function calls',fontsize=12)\n",
    "plt.xlabel('Problem size',fontsize=12)\n",
    "plt.legend(loc='best',fontsize=10)"
   ]
  },
  {
   "cell_type": "code",
   "execution_count": null,
   "metadata": {},
   "outputs": [],
   "source": [
    "# checking time taken for RO algorithms"
   ]
  },
  {
   "cell_type": "code",
   "execution_count": 92,
   "metadata": {},
   "outputs": [],
   "source": [
    "rhc_time3 = [rhc.time for rhc in rhcs3]\n",
    "sas_time3=[saas.time for saas in sas3 ]\n",
    "gas_time3=[gaas.time for gaas in gas3 ]\n",
    "mim_time3=[mimi.time for mimi in mim3 ]"
   ]
  },
  {
   "cell_type": "code",
   "execution_count": 96,
   "metadata": {},
   "outputs": [
    {
     "data": {
      "image/png": "[encoded data removed]",
      "text/plain": [
       "<Figure size 360x216 with 1 Axes>"
      ]
     },
     "metadata": {
      "needs_background": "light"
     },
     "output_type": "display_data"
    }
   ],
   "source": [
    "plt.figure(figsize=(5,3))\n",
    "plt.plot(problem_size,rhc_time3, 'o-', color='r', label='RH')\n",
    "plt.plot(problem_size,sas_time3,'o-', color='b', label='SA')\n",
    "plt.plot(problem_size,gas_time3,'o-', color='k', label='GA')\n",
    "plt.plot(problem_size,mim_time3,'o-', color='g', label='MIMIC')\n",
    "plt.ylabel('Time Taken (s)',fontsize=12)\n",
    "plt.xlabel('Problem size',fontsize=12)\n",
    "plt.legend(loc='upper left',fontsize=10)\n",
    "plt.yscale('log')"
   ]
  },
  {
   "cell_type": "code",
   "execution_count": 122,
   "metadata": {},
   "outputs": [
    {
     "data": {
      "text/plain": [
       "([0.02984297275543213,\n",
       "  0.024826526641845703,\n",
       "  0.022185921669006348,\n",
       "  0.022119998931884766,\n",
       "  0.021669864654541016],\n",
       " [0.00555109977722168,\n",
       "  0.02326643466949463,\n",
       "  0.05113792419433594,\n",
       "  0.09311091899871826,\n",
       "  0.13863062858581543],\n",
       " [0.4947240352630615,\n",
       "  0.42782652378082275,\n",
       "  0.4628840684890747,\n",
       "  0.506229043006897,\n",
       "  0.7247161865234375],\n",
       " [3.0497682094573975,\n",
       "  13.950828075408936,\n",
       "  30.826736211776733,\n",
       "  74.07871317863464,\n",
       "  97.62383794784546])"
      ]
     },
     "execution_count": 122,
     "metadata": {},
     "output_type": "execute_result"
    }
   ],
   "source": [
    "rhc_time3, sas_time3, gas_time3, mim_time3"
   ]
  },
  {
   "cell_type": "code",
   "execution_count": null,
   "metadata": {},
   "outputs": [],
   "source": [
    "# checking number of iterations for RO algorithms"
   ]
  },
  {
   "cell_type": "code",
   "execution_count": 94,
   "metadata": {},
   "outputs": [],
   "source": [
    "rhc_iter3 = [len(rhc.curve) for rhc in rhcs3]\n",
    "sas_iter3=[len(saas.curve) for saas in sas3 ]\n",
    "gas_iter3=[len(gaas.curve) for gaas in gas3 ]\n",
    "mim_iter3=[len(mimi.curve) for mimi in mim3 ]"
   ]
  },
  {
   "cell_type": "code",
   "execution_count": 103,
   "metadata": {},
   "outputs": [
    {
     "data": {
      "text/plain": [
       "[12, 14, 12, 24, 16]"
      ]
     },
     "execution_count": 103,
     "metadata": {},
     "output_type": "execute_result"
    }
   ],
   "source": [
    "mim_iter3"
   ]
  },
  {
   "cell_type": "code",
   "execution_count": 104,
   "metadata": {},
   "outputs": [
    {
     "data": {
      "text/plain": [
       "[22, 28, 22, 21, 33]"
      ]
     },
     "execution_count": 104,
     "metadata": {},
     "output_type": "execute_result"
    }
   ],
   "source": [
    "gas_iter3"
   ]
  },
  {
   "cell_type": "code",
   "execution_count": 95,
   "metadata": {},
   "outputs": [
    {
     "data": {
      "text/plain": [
       "<matplotlib.legend.Legend at 0x122456e10>"
      ]
     },
     "execution_count": 95,
     "metadata": {},
     "output_type": "execute_result"
    },
    {
     "data": {
      "image/png": "[encoded data removed]",
      "text/plain": [
       "<Figure size 360x216 with 1 Axes>"
      ]
     },
     "metadata": {
      "needs_background": "light"
     },
     "output_type": "display_data"
    }
   ],
   "source": [
    "plt.figure(figsize=(5,3))\n",
    "plt.plot(problem_size,rhc_iter3, 'o-', color='r', label='RH')\n",
    "plt.plot(problem_size,sas_iter3,'o-', color='b', label='SA')\n",
    "plt.plot(problem_size,gas_iter3,'o-', color='k', label='GA')\n",
    "plt.plot(problem_size,mim_iter3,'o-', color='g', label='MIMIC')\n",
    "plt.ylabel('Number of iterations',fontsize=12)\n",
    "plt.xlabel('Problem size',fontsize=12)\n",
    "plt.legend(loc='upper left',fontsize=10)"
   ]
  },
  {
   "cell_type": "code",
   "execution_count": 109,
   "metadata": {},
   "outputs": [
    {
     "data": {
      "text/plain": [
       "<matplotlib.legend.Legend at 0x123cf0e50>"
      ]
     },
     "execution_count": 109,
     "metadata": {},
     "output_type": "execute_result"
    },
    {
     "data": {
      "image/png": "[encoded data removed]",
      "text/plain": [
       "<Figure size 360x216 with 1 Axes>"
      ]
     },
     "metadata": {
      "needs_background": "light"
     },
     "output_type": "display_data"
    }
   ],
   "source": [
    "plt.figure(figsize=(5,3))\n",
    "plt.plot(sas3[4].curve, color='b', label='SA')\n",
    "plt.plot(gas3[4].curve, color='k', label='GA')\n",
    "plt.plot(mim3[4].curve, color='g', label='MIMIC')\n",
    "plt.plot(rhcs3[4].curve, color='r', label='RH')\n",
    "plt.ylabel('Fitness value',fontsize=12)\n",
    "plt.xlabel('Number of iterations',fontsize=12)\n",
    "plt.legend(loc='upper right',fontsize=10)"
   ]
  },
  {
   "cell_type": "code",
   "execution_count": 119,
   "metadata": {},
   "outputs": [
    {
     "data": {
      "text/plain": [
       "<matplotlib.legend.Legend at 0x12428ce50>"
      ]
     },
     "execution_count": 119,
     "metadata": {},
     "output_type": "execute_result"
    },
    {
     "data": {
      "image/png": "[encoded data removed]",
      "text/plain": [
       "<Figure size 360x216 with 1 Axes>"
      ]
     },
     "metadata": {
      "needs_background": "light"
     },
     "output_type": "display_data"
    }
   ],
   "source": [
    "plt.figure(figsize=(5,3))\n",
    "#plt.plot(sas3[4].curve, color='b', label='SA')\n",
    "plt.plot(gas3[4].curve, color='k', label='GA')\n",
    "plt.plot(mim3[4].curve, color='g', label='MIMIC')\n",
    "#plt.plot(rhcs3[4].curve, color='r', label='RH')\n",
    "plt.ylabel('Fitness value',fontsize=12)\n",
    "plt.xlabel('Number of iterations',fontsize=12)\n",
    "plt.legend(loc='lower right',fontsize=10)"
   ]
  },
  {
   "cell_type": "code",
   "execution_count": 120,
   "metadata": {},
   "outputs": [
    {
     "data": {
      "text/plain": [
       "<matplotlib.legend.Legend at 0x124283bd0>"
      ]
     },
     "execution_count": 120,
     "metadata": {},
     "output_type": "execute_result"
    },
    {
     "data": {
      "image/png": "[encoded data removed]",
      "text/plain": [
       "<Figure size 360x216 with 1 Axes>"
      ]
     },
     "metadata": {
      "needs_background": "light"
     },
     "output_type": "display_data"
    }
   ],
   "source": [
    "plt.figure(figsize=(5,3))\n",
    "plt.plot(sas3[4].curve, color='b', label='SA')\n",
    "#plt.plot(gas3[4].curve, color='k', label='GA')\n",
    "#plt.plot(mim3[4].curve, color='g', label='MIMIC')\n",
    "plt.plot(rhcs3[4].curve, color='r', label='RH')\n",
    "plt.ylabel('Fitness value',fontsize=12)\n",
    "plt.xlabel('Number of iterations',fontsize=12)\n",
    "plt.legend(loc='lower right',fontsize=10)"
   ]
  },
  {
   "cell_type": "code",
   "execution_count": 121,
   "metadata": {},
   "outputs": [
    {
     "data": {
      "text/plain": [
       "<matplotlib.legend.Legend at 0x124237290>"
      ]
     },
     "execution_count": 121,
     "metadata": {},
     "output_type": "execute_result"
    },
    {
     "data": {
      "image/png": "[encoded data removed]",
      "text/plain": [
       "<Figure size 360x216 with 1 Axes>"
      ]
     },
     "metadata": {
      "needs_background": "light"
     },
     "output_type": "display_data"
    }
   ],
   "source": [
    "plt.figure(figsize=(5,3))\n",
    "plt.plot(sas3[2].curve, color='b', label='SA')\n",
    "#plt.plot(gas3[4].curve, color='k', label='GA')\n",
    "#plt.plot(mim3[4].curve, color='g', label='MIMIC')\n",
    "plt.plot(rhcs3[2].curve, color='r', label='RH')\n",
    "plt.ylabel('Fitness value',fontsize=12)\n",
    "plt.xlabel('Number of iterations',fontsize=12)\n",
    "plt.legend(loc='lower right',fontsize=10)"
   ]
  },
  {
   "cell_type": "code",
   "execution_count": 117,
   "metadata": {},
   "outputs": [
    {
     "data": {
      "image/png": "[encoded data removed]",
      "text/plain": [
       "<Figure size 360x216 with 1 Axes>"
      ]
     },
     "metadata": {
      "needs_background": "light"
     },
     "output_type": "display_data"
    }
   ],
   "source": [
    "plt.figure(figsize=(5,3))\n",
    "plt.plot(sas3[4].curve, color='b', label='SA')\n",
    "plt.plot(gas3[4].curve, color='k', label='GA')\n",
    "plt.plot(mim3[4].curve, color='g', label='MIMIC')\n",
    "plt.plot(rhcs3[4].curve, color='r', label='RH')\n",
    "plt.ylabel('Fitness value',fontsize=12)\n",
    "plt.xlabel('Number of iterations',fontsize=12)\n",
    "plt.legend(loc='upper right',fontsize=10)\n",
    "plt.xscale('log')"
   ]
  },
  {
   "cell_type": "code",
   "execution_count": null,
   "metadata": {},
   "outputs": [],
   "source": []
  }
 ],
 "metadata": {
  "kernelspec": {
   "display_name": "Python 3",
   "language": "python",
   "name": "python3"
  },
  "language_info": {
   "codemirror_mode": {
    "name": "ipython",
    "version": 3
   },
   "file_extension": ".py",
   "mimetype": "text/x-python",
   "name": "python",
   "nbconvert_exporter": "python",
   "pygments_lexer": "ipython3",
   "version": "3.7.6"
  }
 },
 "nbformat": 4,
 "nbformat_minor": 4
}
